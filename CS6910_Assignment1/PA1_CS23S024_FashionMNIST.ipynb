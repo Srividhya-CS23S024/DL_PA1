{
 "cells": [
  {
   "cell_type": "code",
   "execution_count": 1,
   "id": "ce3845b2-4c5d-47b4-bcb2-9e96aaa31204",
   "metadata": {},
   "outputs": [
    {
     "name": "stderr",
     "output_type": "stream",
     "text": [
      "C:\\Users\\Hp\\AppData\\Roaming\\Python\\Python310\\site-packages\\scipy\\__init__.py:146: UserWarning: A NumPy version >=1.16.5 and <1.23.0 is required for this version of SciPy (detected version 1.26.4\n",
      "  warnings.warn(f\"A NumPy version >={np_minversion} and <{np_maxversion}\"\n"
     ]
    },
    {
     "name": "stdout",
     "output_type": "stream",
     "text": [
      "WARNING:tensorflow:From C:\\Users\\Hp\\.conda\\envs\\keras_env\\lib\\site-packages\\keras\\src\\losses.py:2976: The name tf.losses.sparse_softmax_cross_entropy is deprecated. Please use tf.compat.v1.losses.sparse_softmax_cross_entropy instead.\n",
      "\n"
     ]
    }
   ],
   "source": [
    "import warnings\n",
    "from sklearn.model_selection import train_test_split\n",
    "import numpy as np\n",
    "import pandas as pd\n",
    "import matplotlib.pyplot as plt\n",
    "from keras.datasets import fashion_mnist\n",
    "import wandb\n",
    "warnings.filterwarnings(\"ignore\")\n",
    "%matplotlib inline"
   ]
  },
  {
   "cell_type": "markdown",
   "id": "bd3083d0-902a-45bb-b436-5e69dd5f94d3",
   "metadata": {},
   "source": [
    "### Step 1 : Import necessary libraries - initialize the wandb environment ###"
   ]
  },
  {
   "cell_type": "code",
   "execution_count": 2,
   "id": "9f7bc90d-23ca-41d3-9137-6b3fa55b8324",
   "metadata": {},
   "outputs": [
    {
     "name": "stderr",
     "output_type": "stream",
     "text": [
      "\u001b[34m\u001b[1mwandb\u001b[0m: Currently logged in as: \u001b[33mcs23s024\u001b[0m. Use \u001b[1m`wandb login --relogin`\u001b[0m to force relogin\n"
     ]
    },
    {
     "data": {
      "text/html": [
       "wandb version 0.16.4 is available!  To upgrade, please run:\n",
       " $ pip install wandb --upgrade"
      ],
      "text/plain": [
       "<IPython.core.display.HTML object>"
      ]
     },
     "metadata": {},
     "output_type": "display_data"
    },
    {
     "data": {
      "text/html": [
       "Tracking run with wandb version 0.16.3"
      ],
      "text/plain": [
       "<IPython.core.display.HTML object>"
      ]
     },
     "metadata": {},
     "output_type": "display_data"
    },
    {
     "data": {
      "text/html": [
       "Run data is saved locally in <code>C:\\Users\\Hp\\Downloads\\DL_assignment\\DL_PA1\\CS6910_Assignment1\\wandb\\run-20240314_221652-o14d75hb</code>"
      ],
      "text/plain": [
       "<IPython.core.display.HTML object>"
      ]
     },
     "metadata": {},
     "output_type": "display_data"
    },
    {
     "data": {
      "text/html": [
       "Syncing run <strong><a href='https://wandb.ai/cs23s024/CS6910_DL_assignment1/runs/o14d75hb' target=\"_blank\">PA1_Q1_imagesforeachclass_v1</a></strong> to <a href='https://wandb.ai/cs23s024/CS6910_DL_assignment1' target=\"_blank\">Weights & Biases</a> (<a href='https://wandb.me/run' target=\"_blank\">docs</a>)<br/>"
      ],
      "text/plain": [
       "<IPython.core.display.HTML object>"
      ]
     },
     "metadata": {},
     "output_type": "display_data"
    },
    {
     "data": {
      "text/html": [
       " View project at <a href='https://wandb.ai/cs23s024/CS6910_DL_assignment1' target=\"_blank\">https://wandb.ai/cs23s024/CS6910_DL_assignment1</a>"
      ],
      "text/plain": [
       "<IPython.core.display.HTML object>"
      ]
     },
     "metadata": {},
     "output_type": "display_data"
    },
    {
     "data": {
      "text/html": [
       " View run at <a href='https://wandb.ai/cs23s024/CS6910_DL_assignment1/runs/o14d75hb' target=\"_blank\">https://wandb.ai/cs23s024/CS6910_DL_assignment1/runs/o14d75hb</a>"
      ],
      "text/plain": [
       "<IPython.core.display.HTML object>"
      ]
     },
     "metadata": {},
     "output_type": "display_data"
    },
    {
     "data": {
      "text/html": [
       "<button onClick=\"this.nextSibling.style.display='block';this.style.display='none';\">Display W&B run</button><iframe src='https://wandb.ai/cs23s024/CS6910_DL_assignment1/runs/o14d75hb?jupyter=true' style='border:none;width:100%;height:420px;display:none;'></iframe>"
      ],
      "text/plain": [
       "<wandb.sdk.wandb_run.Run at 0x2ef0c412fe0>"
      ]
     },
     "execution_count": 2,
     "metadata": {},
     "output_type": "execute_result"
    }
   ],
   "source": [
    "# Connect to wandb (change entity name when you log)\n",
    "wandb.init(project=\"CS6910_DL_assignment1\", entity=\"cs23s024\", name=\"PA1_Q1_imagesforeachclass_v1\")"
   ]
  },
  {
   "cell_type": "markdown",
   "id": "3633279d-5213-48a7-a2ae-5a8934570abf",
   "metadata": {},
   "source": [
    "### Step: 2 - Importing the dataset from Keras and loading it in respective train and test dataframes ###"
   ]
  },
  {
   "cell_type": "code",
   "execution_count": 2,
   "id": "2772ec07-2693-4954-9a51-42c40b1ae735",
   "metadata": {},
   "outputs": [],
   "source": [
    "# Download dataset\n",
    "(X, y), (x_test, y_test) = fashion_mnist.load_data()\n",
    "\n",
    "# Split the X_train into a training set and validation set\n",
    "x_train, x_val, y_train, y_val = train_test_split(X, y, test_size=0.1, random_state=42)"
   ]
  },
  {
   "cell_type": "code",
   "execution_count": 3,
   "id": "4806b692-3f3c-4dd2-a465-666cd50a662c",
   "metadata": {},
   "outputs": [
    {
     "data": {
      "text/plain": [
       "array([5, 2, 9, ..., 6, 6, 1], dtype=uint8)"
      ]
     },
     "execution_count": 3,
     "metadata": {},
     "output_type": "execute_result"
    }
   ],
   "source": [
    "y_train"
   ]
  },
  {
   "cell_type": "markdown",
   "id": "a32506ef-0089-4c27-ad26-89d66eab95a0",
   "metadata": {},
   "source": [
    "As we can see from the above, the class labels are in the form of numbers. We need to map each number to a particular class. The mapping is done in the cell below and is stored in a dictionary."
   ]
  },
  {
   "cell_type": "markdown",
   "id": "a8ab7498-eb31-46ae-b4d9-617ad8fae660",
   "metadata": {},
   "source": [
    "### Step 3 : Mapping from numbers to class labels ###"
   ]
  },
  {
   "cell_type": "code",
   "execution_count": 4,
   "id": "2213898c-df8f-4e44-855e-d76679983d44",
   "metadata": {},
   "outputs": [
    {
     "name": "stdout",
     "output_type": "stream",
     "text": [
      "Mapping successful!\n"
     ]
    }
   ],
   "source": [
    "num_classes = 10\n",
    "class_mapping = {0: \"T-shirt/top\", 1: \"Trouser\", 2: \"Pullover\", 3: \"Dress\", 4: \"Coat\", 5: \"Sandal\", 6: \"Shirt\", 7: \"Sneaker\", 8: \"Bag\", 9: \"Ankle boot\"}\n",
    "print(\"Mapping successful!\")"
   ]
  },
  {
   "cell_type": "markdown",
   "id": "4f177eb9-a588-4b63-a483-7b575602fedb",
   "metadata": {},
   "source": [
    "Creating a log of the unique image classes in fashion mnist dataset in wandb"
   ]
  },
  {
   "cell_type": "code",
   "execution_count": 5,
   "id": "ed1957d1-e241-45ce-843a-bb837b4e6435",
   "metadata": {},
   "outputs": [
    {
     "data": {
      "image/png": "[encoded data removed]",
      "text/plain": [
       "<Figure size 1200x500 with 10 Axes>"
      ]
     },
     "metadata": {},
     "output_type": "display_data"
    }
   ],
   "source": [
    "# Plotting a figure from each class\n",
    "plt.figure(figsize=[12, 5])\n",
    "img_list = []\n",
    "class_list = []\n",
    "\n",
    "for i in range(num_classes):\n",
    "    position = np.argmax(y_train==i)\n",
    "    image = x_train[position,:,:]\n",
    "    plt.subplot(2, 5, i+1)\n",
    "    plt.imshow(image)\n",
    "    plt.title(class_mapping[i])\n",
    "    img_list.append(image)\n",
    "    class_list.append(class_mapping[i])\n",
    "\n",
    "#wandb.log({\"Q1_class_images_unique_v1\": [wandb.Image(img, caption=caption) for img, caption in zip(img_list, class_list)]})"
   ]
  },
  {
   "cell_type": "code",
   "execution_count": 7,
   "id": "79376a1b-d180-4fd6-b6da-a306c704822b",
   "metadata": {},
   "outputs": [
    {
     "data": {
      "text/html": [
       " View run <strong style=\"color:#cdcd00\">PA1_Q1_imagesforeachclass_v1</strong> at: <a href='https://wandb.ai/cs23s024/CS6910_DL_assignment1/runs/tjrjbd02' target=\"_blank\">https://wandb.ai/cs23s024/CS6910_DL_assignment1/runs/tjrjbd02</a><br/>Synced 5 W&B file(s), 10 media file(s), 0 artifact file(s) and 0 other file(s)"
      ],
      "text/plain": [
       "<IPython.core.display.HTML object>"
      ]
     },
     "metadata": {},
     "output_type": "display_data"
    },
    {
     "data": {
      "text/html": [
       "Find logs at: <code>.\\wandb\\run-20240309_133037-tjrjbd02\\logs</code>"
      ],
      "text/plain": [
       "<IPython.core.display.HTML object>"
      ]
     },
     "metadata": {},
     "output_type": "display_data"
    }
   ],
   "source": [
    "wandb.finish()"
   ]
  },
  {
   "cell_type": "markdown",
   "id": "f1d25e72-7bde-4b77-934a-63a6728d727b",
   "metadata": {},
   "source": [
    "### **Assignment-Q2** - Implementing a feedforward neural network which takes as input the fashion mnist dataset and outputs a probability distribution over the ten classes ###"
   ]
  },
  {
   "cell_type": "markdown",
   "id": "fab6cadc-ed8c-47a2-b0a4-3b598ff2f2ab",
   "metadata": {},
   "source": [
    "### Step 1 : Defining activation functions ###"
   ]
  },
  {
   "cell_type": "code",
   "execution_count": 6,
   "id": "dc26add6-dae7-4f4c-a31d-18b7cdf3234d",
   "metadata": {},
   "outputs": [],
   "source": [
    "def activate(x,act_function):                                                           # Hidden layer activation function                                  \n",
    "\n",
    "  if act_function == \"sigmoid\":\n",
    "    return 1/(1 + np.exp(-x))\n",
    "\n",
    "  elif act_function == \"tanh\": \n",
    "    return np.tanh(x) \n",
    "\n",
    "  elif act_function == \"relu\": \n",
    "    return x * (x > 0) \n",
    "\n",
    "def softmax(x):                                                                       # Output activation function\n",
    "    return np.exp(x) / np.sum(np.exp(x)) "
   ]
  },
  {
   "cell_type": "markdown",
   "id": "34960efa-de6f-4405-94f8-921389ae8d52",
   "metadata": {},
   "source": [
    "### Step 2 : Defining the feedforward network ###"
   ]
  },
  {
   "cell_type": "code",
   "execution_count": 7,
   "id": "a1e5920a-d214-4a97-94e2-895fe7ea4020",
   "metadata": {},
   "outputs": [],
   "source": [
    "def feed_forward(x,parameters,sizes,activation):                                # feed-forward data through the network to estimate output\n",
    "  \n",
    "  H = {}\n",
    "  A={}\n",
    "  H[0] = x\n",
    " \n",
    "  for i in range(1,len(sizes)-1):\n",
    "    W = parameters[\"W\"+str(i)]\n",
    "    b = parameters[\"b\"+str(i)]\n",
    "    A[i] = np.dot(W,H[i-1])+b\n",
    "    H[i] = activate(A[i],activation)\n",
    "    \n",
    "  W = parameters[\"W\"+str(len(sizes)-1)]\n",
    "  b = parameters[\"b\"+str(len(sizes)-1)]\n",
    "  A[len(sizes)-1] = np.dot(W,H[len(sizes)-2])+b\n",
    "  #print(\"A:\",A[2],\"H:\",H[3],len(sizes))\n",
    "\n",
    "  y_hat = softmax(A[len(sizes)-1])\n",
    "  #print(y_hat)\n",
    "  \n",
    "  return y_hat,A,H"
   ]
  },
  {
   "cell_type": "markdown",
   "id": "721160f6-0678-4b09-8df6-50f5d8f6dcd8",
   "metadata": {},
   "source": [
    "### **Assignment - Q3**: Implementing the backpropogration algorithm. Optimizers: sgd, momentum based gd, nesterov accelerated gd, rmsprop,adam and nadam optimizers ###"
   ]
  },
  {
   "cell_type": "markdown",
   "id": "c586c3b6-ebc4-4f1f-a52d-38cf196caade",
   "metadata": {},
   "source": [
    "### Step 1: Defining the loss function ###"
   ]
  },
  {
   "cell_type": "code",
   "execution_count": 8,
   "id": "58eb0562-c929-41c8-8c4e-c8a5259c3f7e",
   "metadata": {},
   "outputs": [],
   "source": [
    "def loss_compute(y,y_hat,parameters,loss_type,reg,sizes):                                               # function to compute the loss/error (both squared error and cross entropy)\n",
    "\n",
    "  if (loss_type == \"squared_error\"):\n",
    "    error = np.sum((y-y_hat)**2)/(2*len(y))\n",
    "  elif (loss_type == \"cross_entropy\") :\n",
    "    error = -1*np.sum(np.multiply(y,np.log(y_hat)))/len(y)\n",
    "\t\t\n",
    "  reg_error = 0.0                                                                        # account for regularization to avoid overfit of data - L2 norm regularization\n",
    "  for i in range(1,len(sizes)) :\n",
    "    reg_error = reg_error + (reg/2)*(np.sum(np.square(parameters[\"W\"+str(i)]))) \n",
    "  error = error + reg_error\n",
    "\n",
    "  return error"
   ]
  },
  {
   "cell_type": "markdown",
   "id": "b890fb18-9842-4637-a00b-a424aa57e073",
   "metadata": {},
   "source": [
    "### Step 2: Function to find derivatives and initialize gradients ###"
   ]
  },
  {
   "cell_type": "code",
   "execution_count": 9,
   "id": "56009770-58d2-4854-b275-7627c967db96",
   "metadata": {},
   "outputs": [],
   "source": [
    "def derivative(x,activation):                                                            # function to compute the derivative of hidden layer activation fn\n",
    "\n",
    "  if activation == \"sigmoid\":\n",
    "    return activate(x,\"sigmoid\")*(1-activate(x,\"sigmoid\"))\n",
    "  elif activation == \"tanh\": \n",
    "    return 1. - x * x \n",
    "  elif activation == \"relu\": \n",
    "    return 1. * (x > 0)\n",
    "\n",
    "def grad_init(sizes):\n",
    "  \n",
    "  grads={}\n",
    "  layers=len(sizes)\n",
    "  for i in range(1,layers):\n",
    "    grads[\"dW\" + str(i)] = np.zeros((sizes[i], sizes[i-1]))\n",
    "    grads[\"db\" + str(i)] = np.zeros((sizes[i],1))\n",
    "\n",
    "  return grads  "
   ]
  },
  {
   "cell_type": "markdown",
   "id": "9cbf41f7-b594-4201-9cd8-9c8d61b9376b",
   "metadata": {},
   "source": [
    "### Step 3: Back propogation function ###"
   ]
  },
  {
   "cell_type": "code",
   "execution_count": 10,
   "id": "934ae9b2-eb5c-4eb5-8e2d-3a7b6c8429e8",
   "metadata": {},
   "outputs": [],
   "source": [
    "def back_prop(X,Y,Y_hat,prev_grad,A,H,parameters,sizes,loss_type,activation,reg) :               # back-propogation rule to compute the gradients of activation, pre-activation and parameters\n",
    "  \n",
    "  new_grad = {}\n",
    "  grads = {}\n",
    "  # grads = {\"dH0\":np.zeros((input_size,1)),\"dA0\":np.zeros((input_size,1))}\n",
    "  for i in range(1,len(sizes)):\n",
    "    grads[\"dW\" + str(i)] = np.zeros((sizes[i], sizes[i-1]))\n",
    "    grads[\"db\" + str(i)] = np.zeros((sizes[i],1))\n",
    "    grads[\"dA\" + str(i)] = np.zeros((sizes[i],1))\n",
    "    grads[\"dH\" + str(i)] = np.zeros((sizes[i],1))\n",
    "\n",
    "  if loss_type == \"squared_error\":\n",
    "    grads[\"dH\"+str(len(sizes)-1)] = (Y_hat-Y) \n",
    "    grads[\"dA\"+str(len(sizes)-1)] = (Y_hat - Y)*Y_hat - Y_hat*(np.dot(np.transpose((Y_hat-Y)), Y_hat))\n",
    "\n",
    "  elif loss_type==\"cross_entropy\" :\n",
    "    grads[\"dH\"+str(len(sizes)-1)] = -(Y/Y_hat) \n",
    "    grads[\"dA\"+str(len(sizes)-1)] = -(Y-Y_hat)\n",
    "\n",
    "  for i in range(len(sizes)-1, 0, -1):\n",
    "    grads[\"dW\" + str(i)] = np.dot(grads[\"dA\" + str(i)], np.transpose(H[i-1]))\n",
    "    grads[\"db\" + str(i)] = grads[\"dA\" + str(i)] \n",
    "    if i>1 :\n",
    "      grads[\"dH\" + str(i-1)] = np.dot(np.transpose(parameters[\"W\" + str(i)]), grads[\"dA\" + str(i)])\n",
    "      grads[\"dA\" + str(i-1)] = np.multiply((grads[\"dH\" + str(i-1)]),derivative(A[i-1],activation))\n",
    "    \n",
    "  for i in range(1,len(sizes)):\n",
    "    new_grad[\"dW\" + str(i)] = grads[\"dW\" + str(i)] + prev_grad[\"dW\" + str(i)]\n",
    "    new_grad[\"db\" + str(i)] = grads[\"db\" + str(i)] + prev_grad[\"db\" + str(i)]\n",
    "    \n",
    "  return new_grad"
   ]
  },
  {
   "cell_type": "code",
   "execution_count": 11,
   "id": "7411b298-7508-4fcd-872f-1ca36775c459",
   "metadata": {},
   "outputs": [],
   "source": [
    "# Initializations\n",
    "\n",
    "# Data\n",
    "X_train = np.array(x_train.reshape(x_train.shape[0], 784,1))         # reshape 2-D data to 1-D\n",
    "X_test = np.array(x_test.reshape(x_test.shape[0], 784,1))            # reshape 2-D data to 1-D\n",
    "\n",
    "def normalize_data(x):                                               # normalize input data\n",
    "  x_norm = x.astype('float32')\n",
    "  x_norm = x_norm / 255.0  \n",
    "  return x_norm \n",
    "\n",
    "X_train = normalize_data(X_train)\n",
    "X_val = X_train[-6000:]                                             # validation set input\n",
    "X_train = X_train[0:54000]                                          # training set input\n",
    "X_test = normalize_data(X_test)                                     # test set input\n",
    "\n",
    "\n",
    "Y_train = np.zeros([len(y_train),10,1])\n",
    "Y_test = np.zeros([len(y_test),10,1])\n",
    "\n",
    "for i in range(len(y_train)):                                        # convert y from just a class number to an indicator vector (10x1)\n",
    "  y = np.zeros([10, 1])\n",
    "  y[y_train[i]] = 1.0\n",
    "  Y_train[i] = y\n",
    "\n",
    "Y_val = Y_train[-6000:]                                              # validation set output\n",
    "Y_train = Y_train[0:54000]                                           # training set output\n",
    "\n",
    "for i in range(len(y_test)):                                         # convert y from just a class number to an indicator vector (10x1)\n",
    "  y = np.zeros([10, 1])\n",
    "  y[y_test[i]] = 1.0\n",
    "  Y_test[i] = y                                                      # test set output"
   ]
  },
  {
   "cell_type": "code",
   "execution_count": 12,
   "id": "78ea2b41-5d7a-4556-b92c-c6f1354cffab",
   "metadata": {},
   "outputs": [],
   "source": [
    "def network_init(sizes,w_init):                            # function to initialize weights and biases\n",
    "  parameters = {}\n",
    "  for i in range(1, len(sizes)):\n",
    "    if w_init == \"xavier\" :\n",
    "      parameters[\"W\" + str(i)] = np.random.randn(sizes[i], sizes[i-1])*np.sqrt(2./(sizes[i] + sizes[i-1]))\n",
    "      parameters[\"b\" + str(i)] = np.zeros((sizes[i],1))\n",
    "    elif w_init == \"random\" :\n",
    "      parameters[\"W\" + str(i)] = 0.01*np.random.randn(sizes[i], sizes[i-1])\n",
    "      parameters[\"b\" + str(i)] = 0.01*np.random.randn(sizes[i],1)\n",
    "\n",
    "  return parameters  \n",
    "\n",
    "def update_init(sizes) :                                  # function to initialize update dictionary that changes the weights and biases\n",
    "  update = {}\n",
    "  for i in range(1,len(sizes)):\n",
    "   update[\"W\"+str(i)] = np.zeros((sizes[i],sizes[i-1]))\n",
    "   update[\"b\"+str(i)] = np.zeros((sizes[i],1))\n",
    "\n",
    "  return update"
   ]
  },
  {
   "cell_type": "code",
   "execution_count": 13,
   "id": "a4f9e64a-3c39-499d-ab67-88e100d0bd6c",
   "metadata": {},
   "outputs": [],
   "source": [
    "def val_loss(y,y_hat,loss_type):                                # function to compute the loss/error (both squared error and cross entropy)\n",
    "  l = 0\n",
    "  if (loss_type == \"squared_error\"):\n",
    "    l = np.sum((y-y_hat)**2)/(2*len(y))\n",
    "  elif (loss_type == \"cross_entropy\") :\n",
    "    l = -1*np.sum(np.multiply(y,np.log(y_hat)))/len(y)\n",
    "  return l \n",
    "\n",
    "def calcAccLoss(parameters,xArr,yArr,sizes,loss_type,activation,type=\"val\",regu=None):          #function to calculate accuracy and total loss of a model\n",
    "  acc=0.0\n",
    "  lossVal=0.0\n",
    "  for x,y in zip(xArr,yArr):\n",
    "    y_hat= feed_forward(x,parameters,sizes,activation)[0]\n",
    "    if y_hat.argmax()==y.argmax():\n",
    "      acc+=1\n",
    "    if type==\"val\":\n",
    "      lossVal+=val_loss(y,y_hat,loss_type)\n",
    "    elif type==\"trng\":\n",
    "      lossVal+=loss_compute(y,y_hat,parameters,loss_type,regu,sizes)\n",
    "  acc=acc/len(xArr)\n",
    "  return (acc,lossVal)\n"
   ]
  },
  {
   "cell_type": "code",
   "execution_count": 14,
   "id": "34af11e4-d883-4c12-8d3c-ee6b415f38a5",
   "metadata": {},
   "outputs": [],
   "source": [
    "#momentum Gradient descent\n",
    "def momentum_GD(X_train,Y_train,activation,n_epoch,sizes,lr,reg,w_init,loss_type,minibatch_size=1,log=False) :\n",
    "\n",
    "   steps=0                                                                                      #used to count number of updates to parameters\n",
    "   parameters = network_init(sizes,w_init)\n",
    "   update = update_init(sizes)\n",
    "   gamma = 0.9\n",
    "   for n in range(n_epoch):\n",
    "\n",
    "     for j in range(0, X_train.shape[0], minibatch_size):                                       #minibatch division \n",
    "       X_mini = X_train[j:j + minibatch_size]\n",
    "       Y_mini = Y_train[j:j + minibatch_size]\n",
    "       grads = grad_init(sizes)\n",
    "\n",
    "       for x,y in zip(X_mini,Y_mini):\n",
    "         y_hat,A,H = feed_forward(x,parameters,sizes,activation)                                 \n",
    "         grads = back_prop(x,y,y_hat,grads,A,H,parameters,sizes,loss_type,activation,reg)\n",
    "\n",
    "       for i in range(1,len(sizes)) :                                                           #updating the parameters\n",
    "         update[\"W\"+str(i)] = gamma*update[\"W\"+str(i)] + lr*grads[\"dW\"+str(i)]                  \n",
    "         update[\"b\"+str(i)] = gamma*update[\"b\"+str(i)] + lr*grads[\"db\"+str(i)]\n",
    "         parameters[\"W\"+str(i)] = (1-lr*reg)*parameters[\"W\"+str(i)] - update[\"W\"+str(i)]\n",
    "         parameters[\"b\"+str(i)] = (1-lr*reg)*parameters[\"b\"+str(i)] - update[\"b\"+str(i)]\n",
    "       \n",
    "       steps=steps+1\n",
    "       if steps==10000:                                                                         #log every 10000 updates\n",
    "        acc,lossTot=calcAccLoss(parameters,X_train,Y_train,sizes,loss_type,activation,type=\"trng\",regu=reg)          #calculating accuracy and loss\n",
    "        accVal,lossTotVal=calcAccLoss(parameters,X_val,Y_val,sizes,loss_type,activation)\n",
    "\n",
    "        wandb.log({\"Accuracy\":acc,\"Loss\":lossTot,\"Accuracy_val\":accVal,\"Loss_val\":lossTotVal,\"Epoch\":n,\"n_datatrain\":j + minibatch_size+n*54000}) #logging\n",
    "        steps=0\n",
    "  \n",
    "   return parameters        \n",
    "\n",
    "#Nesterov acceleracted GD\n",
    "def nesterov_accelerated_GD(X_train,Y_train,activation,n_epoch,sizes,lr,reg,w_init,loss_type,minibatch_size=1,log=False) :\n",
    "  steps=0\n",
    "  parameters = network_init(sizes,w_init)\n",
    "  update = update_init(sizes)\n",
    "  gamma = 0.9\n",
    "  for n in range(n_epoch):\n",
    "\n",
    "    for j in range(0, X_train.shape[0], minibatch_size):\n",
    "      X_mini = X_train[j:j + minibatch_size]\n",
    "      Y_mini = Y_train[j:j + minibatch_size]\n",
    "      \n",
    "\n",
    "      grads = grad_init(sizes)\n",
    "      for i in range(1,len(sizes)):                                                       #perform update before back propogation\n",
    "        update[\"W\"+str(i)] = gamma*update[\"W\"+str(i)]\n",
    "        update[\"b\"+str(i)] = gamma*update[\"b\"+str(i)]\n",
    "        parameters[\"W\"+str(i)] = (1-lr*reg)*parameters[\"W\"+str(i)] - update[\"W\"+str(i)]\n",
    "        parameters[\"b\"+str(i)] = (1-lr*reg)*parameters[\"b\"+str(i)] - update[\"b\"+str(i)]        \n",
    "\n",
    "      for x,y in zip(X_mini,Y_mini):\n",
    "        y_hat,A,H = feed_forward(x,parameters,sizes,activation)\n",
    "        grads = back_prop(x,y,y_hat,grads,A,H,parameters,sizes,loss_type,activation,reg)\n",
    "        \n",
    "      for k in range(1,len(sizes)) :\n",
    "        update[\"W\"+str(k)] = gamma*update[\"W\"+str(k)] + lr*grads[\"dW\"+str(k)]\n",
    "        update[\"b\"+str(k)] = gamma*update[\"b\"+str(k)] + lr*grads[\"db\"+str(k)]\n",
    "        parameters[\"W\"+str(k)] = (1-lr*reg)*parameters[\"W\"+str(k)] - update[\"W\"+str(k)]\n",
    "        parameters[\"b\"+str(k)] = (1-lr*reg)*parameters[\"b\"+str(k)] - update[\"b\"+str(k)]\n",
    "      steps=steps+1\n",
    "      if steps==10000:\n",
    "        if log:\n",
    "          acc,lossTot=calcAccLoss(parameters,X_train,Y_train,sizes,loss_type,activation,type=\"trng\",regu=reg)     \n",
    "          accVal,lossTotVal=calcAccLoss(parameters,X_val,Y_val,sizes,loss_type,activation)\n",
    "\n",
    "          wandb.log({\"Accuracy\":acc,\"Loss\":lossTot,\"Accuracy_val\":accVal,\"Loss_val\":lossTotVal,\"Epoch\":n,\"n_datatrain\":j + minibatch_size+n*54000})\n",
    "        steps=0   \n",
    "    \n",
    "  return parameters\n",
    "\n",
    "#stochastic GD\n",
    "def stochastic_GD(X_train,Y_train,activation,n_epoch,sizes,lr,reg,w_init,loss_type,minibatch_size=1,log=False) :\n",
    "\n",
    "  steps=0\n",
    "  parameters = network_init(sizes,w_init)\n",
    "  update = update_init(sizes)\n",
    "  gamma = 0.9\n",
    "  for n in range(n_epoch):\n",
    "\n",
    "    for j in range(0, X_train.shape[0], minibatch_size):                                        #minibatch division\n",
    "      X_mini = X_train[j:j + minibatch_size]\n",
    "      Y_mini = Y_train[j:j + minibatch_size]\n",
    "      \n",
    "      grads = grad_init(sizes)\n",
    "      for x,y in zip(X_mini,Y_mini):\n",
    "        y_hat,A,H = feed_forward(x,parameters,sizes,activation)\n",
    "        grads = back_prop(x,y,y_hat,grads,A,H,parameters,sizes,loss_type,activation,reg)\n",
    "        \n",
    "      for i in range(1,len(sizes)-1) :                                                          #updating the parameters\n",
    "        parameters[\"W\"+str(i)] = (1-lr*reg)*parameters[\"W\"+str(i)] - lr*grads[\"dW\"+str(i)]\n",
    "        parameters[\"b\"+str(i)] = (1-lr*reg)*parameters[\"b\"+str(i)] - lr*grads[\"db\"+str(i)]\n",
    "      steps=steps+1\n",
    "      if steps==10000:\n",
    "        if log:\n",
    "          acc,lossTot=calcAccLoss(parameters,X_train,Y_train,sizes,loss_type,activation,type=\"trng\",regu=reg)     \n",
    "          accVal,lossTotVal=calcAccLoss(parameters,X_val,Y_val,sizes,loss_type,activation)\n",
    "\n",
    "          wandb.log({\"Accuracy\":acc,\"Loss\":lossTot,\"Accuracy_val\":accVal,\"Loss_val\":lossTotVal,\"Epoch\":n,\"n_datatrain\":j + minibatch_size+n*54000})\n",
    "        steps=0   \n",
    "\n",
    "  return parameters        \n",
    "\n",
    "#rmsprop GD\n",
    "def rmsprop_GD(X_train,Y_train,activation,n_epoch,sizes,lr,reg,w_init,loss_type,minibatch_size=1,log=False) :\n",
    "  \n",
    "  steps=0\n",
    "  parameters = network_init(sizes,w_init)\n",
    "  update = update_init(sizes)\n",
    "  v = update_init(sizes)\n",
    "\n",
    "  betal = 0.99 #check this\n",
    "  eps = 1e-8\n",
    "\n",
    "  for n in range(n_epoch):\n",
    "\n",
    "    for j in range(0, X_train.shape[0], minibatch_size):\n",
    "      X_mini = X_train[j:j + minibatch_size]\n",
    "      Y_mini = Y_train[j:j + minibatch_size]\n",
    "      \n",
    "      grads = grad_init(sizes)\n",
    "      for x,y in zip(X_mini,Y_mini):\n",
    "        y_hat,A,H = feed_forward(x,parameters,sizes,activation)\n",
    "        grads = back_prop(x,y,y_hat,grads,A,H,parameters,sizes,loss_type,activation,reg)\n",
    "\n",
    "      for i in range(1,len(sizes)-1) :                                                                   #updating the parameters\n",
    "        v[\"W\"+str(i)] = betal*v[\"W\"+str(i)] + (1-betal)*grads[\"dW\"+str(i)]**2                            #v_w update  \n",
    "        v[\"b\"+str(i)] = betal*v[\"b\"+str(i)] + (1-betal)*grads[\"db\"+str(i)]**2                            #v_b update\n",
    "\n",
    "        update[\"W\"+str(i)]=lr*np.multiply(np.reciprocal(np.sqrt(v[\"W\"+str(i)]+eps)),grads[\"dW\"+str(i)])                 \n",
    "        update[\"b\"+str(i)]=lr*np.multiply(np.reciprocal(np.sqrt(v[\"b\"+str(i)]+eps)),grads[\"db\"+str(i)])\n",
    "        \n",
    "        parameters[\"W\"+str(i)] = (1-lr*reg)*parameters[\"W\"+str(i)] - update[\"W\"+str(i)]\n",
    "        parameters[\"b\"+str(i)] = (1-lr*reg)*parameters[\"b\"+str(i)] - update[\"b\"+str(i)]\n",
    "      steps=steps+1\n",
    "      if steps==10000:\n",
    "        if log:\n",
    "          acc,lossTot=calcAccLoss(parameters,X_train,Y_train,sizes,loss_type,activation,type=\"trng\",regu=reg)     \n",
    "          accVal,lossTotVal=calcAccLoss(parameters,X_val,Y_val,sizes,loss_type,activation)\n",
    "\n",
    "          wandb.log({\"Accuracy\":acc,\"Loss\":lossTot,\"Accuracy_val\":accVal,\"Loss_val\":lossTotVal,\"Epoch\":n,\"n_datatrain\":j + minibatch_size+n*54000})\n",
    "        steps=0   \n",
    "\n",
    "  return parameters          \n",
    "\n",
    "#Adam GD\n",
    "def adam_GD(X_train,Y_train,activation,n_epoch,sizes,lr,reg,w_init,loss_type,minibatch_size=1,log=False) :\n",
    "  steps=0\n",
    "  parameters = network_init(sizes,w_init)\n",
    "  update = update_init(sizes)\n",
    "  m = update_init(sizes)\n",
    "  v = update_init(sizes)\n",
    "\n",
    "  beta1 = 0.9\n",
    "  beta2 = 0.999\n",
    "  eps = 1e-8\n",
    "  for n in range(n_epoch):\n",
    "\n",
    "    for j in range(0, X_train.shape[0], minibatch_size):\n",
    "      X_mini = X_train[j:j + minibatch_size]\n",
    "      Y_mini = Y_train[j:j + minibatch_size]\n",
    "      \n",
    "      grads = grad_init(sizes)                                          \n",
    "      for x,y in zip(X_mini,Y_mini):\n",
    "        y_hat,A,H = feed_forward(x,parameters,sizes,activation)\n",
    "        grads = back_prop(x,y,y_hat,grads,A,H,parameters,sizes,loss_type,activation,reg)\n",
    "        \n",
    "      for i in range(1,len(sizes)-1) :                                                    #updating the parameters\n",
    "        m[\"W\"+str(i)] = beta1*m[\"W\"+str(i)] + (1-beta1)*grads[\"dW\"+str(i)]                #m_w update\n",
    "        m[\"b\"+str(i)] = beta1*m[\"b\"+str(i)] + (1-beta1)*grads[\"db\"+str(i)]                #m_b update\n",
    "\n",
    "        v[\"W\"+str(i)] = beta2*v[\"W\"+str(i)] + (1-beta2)*grads[\"dW\"+str(i)]**2             #v_w update    \n",
    "        v[\"b\"+str(i)] = beta2*v[\"b\"+str(i)] + (1-beta2)*grads[\"db\"+str(i)]**2             #v_b update\n",
    "\n",
    "        #cumulative average\n",
    "        m_w_hat = m[\"W\"+str(i)]/(1-np.power(beta1,n+1))                                   \n",
    "        m_b_hat = m[\"b\"+str(i)]/(1-np.power(beta1,n+1))\n",
    "        v_w_hat = v[\"W\"+str(i)]/(1-np.power(beta2,n+1))\n",
    "        v_b_hat = v[\"b\"+str(i)]/(1-np.power(beta2,n+1))\n",
    "\n",
    "\n",
    "        update[\"W\"+str(i)]=lr*np.multiply(np.reciprocal(np.sqrt(v_w_hat+eps)),m_w_hat)\n",
    "        update[\"b\"+str(i)]=lr*np.multiply(np.reciprocal(np.sqrt(v_b_hat+eps)),m_b_hat)\n",
    "\n",
    "        parameters[\"W\"+str(i)] = (1-lr*reg)*parameters[\"W\"+str(i)] - update[\"W\"+str(i)]\n",
    "        parameters[\"b\"+str(i)] = (1-lr*reg)*parameters[\"b\"+str(i)] - update[\"b\"+str(i)]\n",
    "      \n",
    "    \n",
    "      steps=steps+1\n",
    "      if steps==10000:\n",
    "        if log:\n",
    "          acc,lossTot=calcAccLoss(parameters,X_train,Y_train,sizes,loss_type,activation,type=\"trng\",regu=reg)     \n",
    "          accVal,lossTotVal=calcAccLoss(parameters,X_val,Y_val,sizes,loss_type,activation)\n",
    "\n",
    "          wandb.log({\"Accuracy\":acc,\"Loss\":lossTot,\"Accuracy_val\":accVal,\"Loss_val\":lossTotVal,\"Epoch\":n,\"n_datatrain\":j + minibatch_size+n*54000})\n",
    "        steps=0     \n",
    "\n",
    "  return parameters   \n",
    "\n",
    "\n",
    "#Nadam GD\n",
    "def nadam_GD(X_train,Y_train,activation,n_epoch,sizes,lr,reg,w_init,loss_type,minibatch_size=1,log=False) :\n",
    "  steps=0\n",
    "  parameters = network_init(sizes,w_init)\n",
    "  update = update_init(sizes)\n",
    "  m = update_init(sizes)\n",
    "  v = update_init(sizes)\n",
    "\n",
    "  beta1 = 0.9\n",
    "  beta2 = 0.999\n",
    "  eps = 1e-8\n",
    "\n",
    "  for n in range(n_epoch):\n",
    "\n",
    "    for j in range(0, X_train.shape[0], minibatch_size):\n",
    "      X_mini = X_train[j:j + minibatch_size]\n",
    "      Y_mini = Y_train[j:j + minibatch_size]\n",
    "      grads = grad_init(sizes)\n",
    "\n",
    "      for x,y in zip(X_mini,Y_mini):\n",
    "        y_hat,A,H = feed_forward(x,parameters,sizes,activation)\n",
    "        grads = back_prop(x,y,y_hat,grads,A,H,parameters,sizes,loss_type,activation,reg)\n",
    "\n",
    "      for i in range(1,len(sizes)-1) :                                                    #updating the parameters\n",
    "        m[\"W\"+str(i)] = beta1*m[\"W\"+str(i)] + (1-beta1)*grads[\"dW\"+str(i)]                #m_w update\n",
    "        m[\"b\"+str(i)] = beta1*m[\"b\"+str(i)] + (1-beta1)*grads[\"db\"+str(i)]                #m_b update\n",
    "\n",
    "        v[\"W\"+str(i)] = beta2*v[\"W\"+str(i)] + (1-beta2)*grads[\"dW\"+str(i)]**2             #v_w update    \n",
    "        v[\"b\"+str(i)] = beta2*v[\"b\"+str(i)] + (1-beta2)*grads[\"db\"+str(i)]**2             #v_b update\n",
    "\n",
    "        #cumulative average\n",
    "        m_w_hat = m[\"W\"+str(i)]/(1-np.power(beta1,n+1))                                   \n",
    "        m_b_hat = m[\"b\"+str(i)]/(1-np.power(beta1,n+1))\n",
    "        v_w_hat = v[\"W\"+str(i)]/(1-np.power(beta2,n+1))\n",
    "        v_b_hat = v[\"b\"+str(i)]/(1-np.power(beta2,n+1))\n",
    "\n",
    "\n",
    "        update[\"W\"+str(i)]=lr*np.multiply(np.reciprocal(np.sqrt(v_w_hat+eps)),(beta1*m_w_hat+(1-beta1)*grads[\"dW\"+str(i)]))*(1/(1-np.power(beta1,n+1)))\n",
    "        update[\"b\"+str(i)]=lr*np.multiply(np.reciprocal(np.sqrt(v_b_hat+eps)),(beta1*m_b_hat+(1-beta1)*grads[\"db\"+str(i)]))*(1/(1-np.power(beta1,n+1)))\n",
    "\n",
    "        parameters[\"W\"+str(i)] = (1-lr*reg)*parameters[\"W\"+str(i)] - update[\"W\"+str(i)]\n",
    "        parameters[\"b\"+str(i)] = (1-lr*reg)*parameters[\"b\"+str(i)] - update[\"b\"+str(i)]\n",
    "      steps=steps+1\n",
    "      if steps==10000:\n",
    "        if log:\n",
    "          acc,lossTot=calcAccLoss(parameters,X_train,Y_train,sizes,loss_type,activation,type=\"trng\",regu=reg)     \n",
    "          accVal,lossTotVal=calcAccLoss(parameters,X_val,Y_val,sizes,loss_type,activation)\n",
    "\n",
    "          wandb.log({\"Accuracy\":acc,\"Loss\":lossTot,\"Accuracy_val\":accVal,\"Loss_val\":lossTotVal,\"Epoch\":n,\"n_datatrain\":j + minibatch_size+n*54000})\n",
    "        steps=0   \n",
    "\n",
    "  return parameters   "
   ]
  },
  {
   "cell_type": "code",
   "execution_count": 15,
   "id": "278b13f4-4abc-4e9c-ac15-39d8c4dc3431",
   "metadata": {},
   "outputs": [],
   "source": [
    "#function to select optimizer\n",
    "def do_GD(X_train,Y_train,optimizer,activation,hl_size,input_size,output_size,n_epoch,lr,reg,w_init,loss_type,minibatch_size=1,logging=False):\n",
    "  sizes = hl_size.copy() \n",
    "  sizes.insert(0,input_size)\n",
    "  sizes.append(output_size)\n",
    "\n",
    "  if optimizer==\"sgd\":\n",
    "    return(stochastic_GD(X_train,Y_train,activation,n_epoch,sizes,lr,reg,w_init,loss_type,minibatch_size=1,log=logging))\n",
    "  elif optimizer==\"momentum\":\n",
    "    return(momentum_GD(X_train,Y_train,activation,n_epoch,sizes,lr,reg,w_init,loss_type,minibatch_size=1,log=logging))\n",
    "  elif optimizer==\"nesterov\":\n",
    "    return(nesterov_accelerated_GD(X_train,Y_train,activation,n_epoch,sizes,lr,reg,w_init,loss_type,minibatch_size=1,log=logging))\n",
    "  elif optimizer==\"rmsprop\":\n",
    "    return(rmsprop_GD(X_train,Y_train,activation,n_epoch,sizes,lr,reg,w_init,loss_type,minibatch_size=1,log=logging))\n",
    "  elif optimizer==\"adam\":\n",
    "    return(adam_GD(X_train,Y_train,activation,n_epoch,sizes,lr,reg,w_init,loss_type,minibatch_size=1,log=logging))\n",
    "  elif optimizer==\"nadam\":\n",
    "    return(nadam_GD(X_train,Y_train,activation,n_epoch,sizes,lr,reg,w_init,loss_type,minibatch_size=1,log=logging))"
   ]
  },
  {
   "cell_type": "code",
   "execution_count": 16,
   "id": "903dbde4-743f-45cc-8e3d-ecd62a8578be",
   "metadata": {},
   "outputs": [],
   "source": [
    "#training function to sweep with wandb\n",
    "def train():\n",
    "\n",
    "  hyperparameter_defaults=dict(\n",
    "      input_size = 784,                                       \n",
    "      output_size = 10,                                                    \n",
    "      n_epoch = 5,                                            \n",
    "      n_hiddenlayer = 3,                               \n",
    "      hl= [64,64,64],\n",
    "      reg = 0.0005,      \n",
    "      lr = 1e-3,                                              \n",
    "      optimizer = \"momentum\",                      \n",
    "      batch_size = 64,       \n",
    "      initialization = \"xavier\",      \n",
    "      loss_type = \"cross_entropy\" \n",
    "      \n",
    "  )\n",
    "  run = wandb.init(config=hyperparameter_defaults)\n",
    "  config=wandb.config  \n",
    "  name_str = \"opt_\"+str(config['optimizer'])+\"_lr\"+str(config[\"lr\"])+\"_reg\"+str(config[\"reg\"])+\"_hl\"+str(config[\"n_hiddenlayer\"])+\"_hlsize\"+str(config['hl_size'])+\"_epoch\"+str(config['n_epoch'])+\"_bs\"+str(config['batch_size'])+\"_loss_type\"+str(config[\"loss_type\"])+\"_init\"+str(config[\"initialization\"])+\"_losstype\"+str(config[\"loss_type\"])                      # Code for determining run names here\n",
    "  run.name = name_str\n",
    "  \n",
    "  \n",
    "  \n",
    "  \n",
    "  output_size=10\n",
    "  input_size = 784                                      \n",
    "  config.hl=[config.hl_size for i in range(config.n_hiddenlayer)]   #hidden layer sizes array creation\n",
    "  parameters=do_GD(X_train,Y_train,config.optimizer,config.activation,config.hl,config.input_size,config.output_size,config.n_epoch,config.lr,config.reg,config.initialization,config.loss_type,config.batch_size,logging=True)\n"
   ]
  },
  {
   "cell_type": "code",
   "execution_count": 17,
   "id": "a32fec33-ddd7-456a-9d62-58779e2fde9a",
   "metadata": {},
   "outputs": [],
   "source": [
    "def sweeper(sweep_config,proj_name):\n",
    "  sweep_id=wandb.sweep(sweep_config,project=proj_name)\n",
    "  wandb.agent(sweep_id,train,project=proj_name)"
   ]
  },
  {
   "cell_type": "markdown",
   "id": "f0fa606a-408d-4322-be11-e4f7fefbd0d9",
   "metadata": {},
   "source": [
    "#### Assignment Q6: Hyperparameter sweep using bayes method ###"
   ]
  },
  {
   "cell_type": "code",
   "execution_count": 22,
   "id": "3035e87f-604c-4846-b3be-823c05857163",
   "metadata": {},
   "outputs": [],
   "source": [
    "#sweep dictionary\n",
    "sweep_config={\n",
    "    'method':'bayes',\n",
    "    'name':'second_sweep_0903',\n",
    "    'metric':{\n",
    "        'name':'accuracy',\n",
    "        'goal':'maximize'},\n",
    "\n",
    "}\n",
    "\n",
    "parameters_dict={\n",
    "    'optimizer':{\n",
    "        'values':['nadam','sgd', 'momentum', 'nesterov', 'rmsprop', 'adam']\n",
    "    },\n",
    "    'lr':{\n",
    "        'values':[1e-3,1e-5]\n",
    "    },\n",
    "    'reg':{\n",
    "        'values':[5e-4,0,5e-1]\n",
    "    },\n",
    "    'n_hiddenlayer':{\n",
    "        'values':[3,4,5]\n",
    "    },\n",
    "    'hl_size':{\n",
    "      'values':[128,32,64]  \n",
    "    },\n",
    "    'batch_size':{\n",
    "        'values':[64,32,128]\n",
    "    },\n",
    "    'loss_type':{\n",
    "        'values':['cross_entropy','squared_error']\n",
    "    },\n",
    "    'initialization':{\n",
    "        'values':['xavier','random']\n",
    "    },\n",
    "    'activation':{\n",
    "        'values':['relu','sigmoid','tanh']\n",
    "    },\n",
    "    'n_epoch':{\n",
    "        'values':[5]\n",
    "    }\n",
    "}\n",
    "\n",
    "sweep_config['parameters']=parameters_dict"
   ]
  },
  {
   "cell_type": "code",
   "execution_count": 18,
   "id": "f1415737-0260-4e69-b79d-c65a06780b9b",
   "metadata": {},
   "outputs": [],
   "source": [
    "proj_name='CS6910_DL_assignment1'"
   ]
  },
  {
   "cell_type": "code",
   "execution_count": 24,
   "id": "2e353d8b-9e97-4080-aa48-758418fa74b1",
   "metadata": {},
   "outputs": [
    {
     "name": "stdout",
     "output_type": "stream",
     "text": [
      "Create sweep with ID: 1s1xgap1\n",
      "Sweep URL: https://wandb.ai/srividhya/CS6910_DL_assignment1/sweeps/1s1xgap1\n"
     ]
    }
   ],
   "source": [
    "sweep_id=wandb.sweep(sweep_config,project=proj_name)"
   ]
  },
  {
   "cell_type": "code",
   "execution_count": null,
   "id": "7a6b3749-2c39-4461-8154-0d098175ff63",
   "metadata": {},
   "outputs": [
    {
     "name": "stdout",
     "output_type": "stream",
     "text": [
      "Create sweep with ID: 4s10gpe0\n",
      "Sweep URL: https://wandb.ai/srividhya/CS6910_DL_assignment1/sweeps/4s10gpe0\n"
     ]
    },
    {
     "name": "stderr",
     "output_type": "stream",
     "text": [
      "\u001b[34m\u001b[1mwandb\u001b[0m: Agent Starting Run: ah73wd3o with config:\n",
      "\u001b[34m\u001b[1mwandb\u001b[0m: \tactivation: tanh\n",
      "\u001b[34m\u001b[1mwandb\u001b[0m: \tbatch_size: 64\n",
      "\u001b[34m\u001b[1mwandb\u001b[0m: \thl_size: 128\n",
      "\u001b[34m\u001b[1mwandb\u001b[0m: \tinitialization: random\n",
      "\u001b[34m\u001b[1mwandb\u001b[0m: \tloss_type: squared_error\n",
      "\u001b[34m\u001b[1mwandb\u001b[0m: \tlr: 1e-05\n",
      "\u001b[34m\u001b[1mwandb\u001b[0m: \tn_epoch: 5\n",
      "\u001b[34m\u001b[1mwandb\u001b[0m: \tn_hiddenlayer: 5\n",
      "\u001b[34m\u001b[1mwandb\u001b[0m: \toptimizer: momentum\n",
      "\u001b[34m\u001b[1mwandb\u001b[0m: \treg: 0.0005\n",
      "\u001b[34m\u001b[1mwandb\u001b[0m: Currently logged in as: \u001b[33mcs23s024\u001b[0m (\u001b[33msrividhya\u001b[0m). Use \u001b[1m`wandb login --relogin`\u001b[0m to force relogin\n"
     ]
    },
    {
     "data": {
      "text/html": [
       "wandb version 0.16.4 is available!  To upgrade, please run:\n",
       " $ pip install wandb --upgrade"
      ],
      "text/plain": [
       "<IPython.core.display.HTML object>"
      ]
     },
     "metadata": {},
     "output_type": "display_data"
    },
    {
     "data": {
      "text/html": [
       "Tracking run with wandb version 0.16.3"
      ],
      "text/plain": [
       "<IPython.core.display.HTML object>"
      ]
     },
     "metadata": {},
     "output_type": "display_data"
    },
    {
     "data": {
      "text/html": [
       "Run data is saved locally in <code>C:\\Users\\Hp\\Downloads\\DL assignment\\wandb\\run-20240309_202117-ah73wd3o</code>"
      ],
      "text/plain": [
       "<IPython.core.display.HTML object>"
      ]
     },
     "metadata": {},
     "output_type": "display_data"
    },
    {
     "data": {
      "text/html": [
       "Syncing run <strong><a href='https://wandb.ai/srividhya/CS6910_DL_assignment1/runs/ah73wd3o' target=\"_blank\">stoic-sweep-1</a></strong> to <a href='https://wandb.ai/srividhya/CS6910_DL_assignment1' target=\"_blank\">Weights & Biases</a> (<a href='https://wandb.me/run' target=\"_blank\">docs</a>)<br/>Sweep page: <a href='https://wandb.ai/srividhya/CS6910_DL_assignment1/sweeps/4s10gpe0' target=\"_blank\">https://wandb.ai/srividhya/CS6910_DL_assignment1/sweeps/4s10gpe0</a>"
      ],
      "text/plain": [
       "<IPython.core.display.HTML object>"
      ]
     },
     "metadata": {},
     "output_type": "display_data"
    },
    {
     "data": {
      "text/html": [
       " View project at <a href='https://wandb.ai/srividhya/CS6910_DL_assignment1' target=\"_blank\">https://wandb.ai/srividhya/CS6910_DL_assignment1</a>"
      ],
      "text/plain": [
       "<IPython.core.display.HTML object>"
      ]
     },
     "metadata": {},
     "output_type": "display_data"
    },
    {
     "data": {
      "text/html": [
       " View sweep at <a href='https://wandb.ai/srividhya/CS6910_DL_assignment1/sweeps/4s10gpe0' target=\"_blank\">https://wandb.ai/srividhya/CS6910_DL_assignment1/sweeps/4s10gpe0</a>"
      ],
      "text/plain": [
       "<IPython.core.display.HTML object>"
      ]
     },
     "metadata": {},
     "output_type": "display_data"
    },
    {
     "data": {
      "text/html": [
       " View run at <a href='https://wandb.ai/srividhya/CS6910_DL_assignment1/runs/ah73wd3o' target=\"_blank\">https://wandb.ai/srividhya/CS6910_DL_assignment1/runs/ah73wd3o</a>"
      ],
      "text/plain": [
       "<IPython.core.display.HTML object>"
      ]
     },
     "metadata": {},
     "output_type": "display_data"
    },
    {
     "data": {
      "text/html": [
       "<style>\n",
       "    table.wandb td:nth-child(1) { padding: 0 10px; text-align: left ; width: auto;} td:nth-child(2) {text-align: left ; width: 100%}\n",
       "    .wandb-row { display: flex; flex-direction: row; flex-wrap: wrap; justify-content: flex-start; width: 100% }\n",
       "    .wandb-col { display: flex; flex-direction: column; flex-basis: 100%; flex: 1; padding: 10px; }\n",
       "    </style>\n",
       "<div class=\"wandb-row\"><div class=\"wandb-col\"><h3>Run history:</h3><br/><table class=\"wandb\"><tr><td>Accuracy</td><td>▁▁█▁▁▁▁▁▁▁▁▁▁▁▁▁▁▁▁▁▁▁▁▁▁▁▁</td></tr><tr><td>Accuracy_val</td><td>▂▂█▁▁▁▂▂▂▁▁▁▁▁▁▁▁▁▁▁▁▁▁▁▁▁▁</td></tr><tr><td>Epoch</td><td>▁▁▁▁▁▃▃▃▃▃▅▅▅▅▅▅▆▆▆▆▆██████</td></tr><tr><td>Loss</td><td>██▇▇▇▇▆▆▆▆▅▅▅▄▄▄▄▃▃▃▃▂▂▂▂▁▁</td></tr><tr><td>Loss_val</td><td>█▆▆▇█▇▆▃▅▇▆▄▃▃▅▅▄▃▁▃▅▃▃▁▂▃▃</td></tr><tr><td>n_datatrain</td><td>▁▁▂▂▂▂▃▃▃▃▄▄▄▅▅▅▅▆▆▆▆▇▇▇▇██</td></tr></table><br/></div><div class=\"wandb-col\"><h3>Run summary:</h3><br/><table class=\"wandb\"><tr><td>Accuracy</td><td>0.10006</td></tr><tr><td>Accuracy_val</td><td>0.09767</td></tr><tr><td>Epoch</td><td>4</td></tr><tr><td>Loss</td><td>2655.12763</td></tr><tr><td>Loss_val</td><td>270.00043</td></tr><tr><td>n_datatrain</td><td>270000</td></tr></table><br/></div></div>"
      ],
      "text/plain": [
       "<IPython.core.display.HTML object>"
      ]
     },
     "metadata": {},
     "output_type": "display_data"
    },
    {
     "data": {
      "text/html": [
       " View run <strong style=\"color:#cdcd00\">stoic-sweep-1</strong> at: <a href='https://wandb.ai/srividhya/CS6910_DL_assignment1/runs/ah73wd3o' target=\"_blank\">https://wandb.ai/srividhya/CS6910_DL_assignment1/runs/ah73wd3o</a><br/>Synced 4 W&B file(s), 0 media file(s), 0 artifact file(s) and 0 other file(s)"
      ],
      "text/plain": [
       "<IPython.core.display.HTML object>"
      ]
     },
     "metadata": {},
     "output_type": "display_data"
    },
    {
     "data": {
      "text/html": [
       "Find logs at: <code>.\\wandb\\run-20240309_202117-ah73wd3o\\logs</code>"
      ],
      "text/plain": [
       "<IPython.core.display.HTML object>"
      ]
     },
     "metadata": {},
     "output_type": "display_data"
    },
    {
     "name": "stderr",
     "output_type": "stream",
     "text": [
      "\u001b[34m\u001b[1mwandb\u001b[0m: Agent Starting Run: x0f8zws9 with config:\n",
      "\u001b[34m\u001b[1mwandb\u001b[0m: \tactivation: relu\n",
      "\u001b[34m\u001b[1mwandb\u001b[0m: \tbatch_size: 32\n",
      "\u001b[34m\u001b[1mwandb\u001b[0m: \thl_size: 32\n",
      "\u001b[34m\u001b[1mwandb\u001b[0m: \tinitialization: random\n",
      "\u001b[34m\u001b[1mwandb\u001b[0m: \tloss_type: cross_entropy\n",
      "\u001b[34m\u001b[1mwandb\u001b[0m: \tlr: 0.001\n",
      "\u001b[34m\u001b[1mwandb\u001b[0m: \tn_epoch: 5\n",
      "\u001b[34m\u001b[1mwandb\u001b[0m: \tn_hiddenlayer: 4\n",
      "\u001b[34m\u001b[1mwandb\u001b[0m: \toptimizer: momentum\n",
      "\u001b[34m\u001b[1mwandb\u001b[0m: \treg: 0\n"
     ]
    },
    {
     "data": {
      "text/html": [
       "wandb version 0.16.4 is available!  To upgrade, please run:\n",
       " $ pip install wandb --upgrade"
      ],
      "text/plain": [
       "<IPython.core.display.HTML object>"
      ]
     },
     "metadata": {},
     "output_type": "display_data"
    },
    {
     "data": {
      "text/html": [
       "Tracking run with wandb version 0.16.3"
      ],
      "text/plain": [
       "<IPython.core.display.HTML object>"
      ]
     },
     "metadata": {},
     "output_type": "display_data"
    },
    {
     "data": {
      "text/html": [
       "Run data is saved locally in <code>C:\\Users\\Hp\\Downloads\\DL assignment\\wandb\\run-20240309_211543-x0f8zws9</code>"
      ],
      "text/plain": [
       "<IPython.core.display.HTML object>"
      ]
     },
     "metadata": {},
     "output_type": "display_data"
    },
    {
     "data": {
      "text/html": [
       "Syncing run <strong><a href='https://wandb.ai/srividhya/CS6910_DL_assignment1/runs/x0f8zws9' target=\"_blank\">curious-sweep-2</a></strong> to <a href='https://wandb.ai/srividhya/CS6910_DL_assignment1' target=\"_blank\">Weights & Biases</a> (<a href='https://wandb.me/run' target=\"_blank\">docs</a>)<br/>Sweep page: <a href='https://wandb.ai/srividhya/CS6910_DL_assignment1/sweeps/4s10gpe0' target=\"_blank\">https://wandb.ai/srividhya/CS6910_DL_assignment1/sweeps/4s10gpe0</a>"
      ],
      "text/plain": [
       "<IPython.core.display.HTML object>"
      ]
     },
     "metadata": {},
     "output_type": "display_data"
    },
    {
     "data": {
      "text/html": [
       " View project at <a href='https://wandb.ai/srividhya/CS6910_DL_assignment1' target=\"_blank\">https://wandb.ai/srividhya/CS6910_DL_assignment1</a>"
      ],
      "text/plain": [
       "<IPython.core.display.HTML object>"
      ]
     },
     "metadata": {},
     "output_type": "display_data"
    },
    {
     "data": {
      "text/html": [
       " View sweep at <a href='https://wandb.ai/srividhya/CS6910_DL_assignment1/sweeps/4s10gpe0' target=\"_blank\">https://wandb.ai/srividhya/CS6910_DL_assignment1/sweeps/4s10gpe0</a>"
      ],
      "text/plain": [
       "<IPython.core.display.HTML object>"
      ]
     },
     "metadata": {},
     "output_type": "display_data"
    },
    {
     "data": {
      "text/html": [
       " View run at <a href='https://wandb.ai/srividhya/CS6910_DL_assignment1/runs/x0f8zws9' target=\"_blank\">https://wandb.ai/srividhya/CS6910_DL_assignment1/runs/x0f8zws9</a>"
      ],
      "text/plain": [
       "<IPython.core.display.HTML object>"
      ]
     },
     "metadata": {},
     "output_type": "display_data"
    },
    {
     "data": {
      "text/html": [
       "<style>\n",
       "    table.wandb td:nth-child(1) { padding: 0 10px; text-align: left ; width: auto;} td:nth-child(2) {text-align: left ; width: 100%}\n",
       "    .wandb-row { display: flex; flex-direction: row; flex-wrap: wrap; justify-content: flex-start; width: 100% }\n",
       "    .wandb-col { display: flex; flex-direction: column; flex-basis: 100%; flex: 1; padding: 10px; }\n",
       "    </style>\n",
       "<div class=\"wandb-row\"><div class=\"wandb-col\"><h3>Run history:</h3><br/><table class=\"wandb\"><tr><td>Accuracy</td><td>▄▄█▄▄▂█▄▄▄▃▄▅▄▃▅█▄▂▄▃▄▂▁▂▂▂</td></tr><tr><td>Accuracy_val</td><td>▅▁▁▁█▂▁█▁▁▇▅▅▅▇▅▁▁▂▁▇█▆▄▂▇▇</td></tr><tr><td>Epoch</td><td>▁▁▁▁▁▃▃▃▃▃▅▅▅▅▅▅▆▆▆▆▆██████</td></tr><tr><td>Loss</td><td>▂▆▁▂▃▄▃▂▆▂▄▅▃▆▂▂▄▃▁▄▂▆▄█▅▆▂</td></tr><tr><td>Loss_val</td><td>▂▅▂▂▂▄▃▁▇▃▃▄▃▅▂▁▄▃▂▄▁▅▄█▅▅▂</td></tr><tr><td>n_datatrain</td><td>▁▁▂▂▂▂▃▃▃▃▄▄▄▅▅▅▅▆▆▆▆▇▇▇▇██</td></tr></table><br/></div><div class=\"wandb-col\"><h3>Run summary:</h3><br/><table class=\"wandb\"><tr><td>Accuracy</td><td>0.09965</td></tr><tr><td>Accuracy_val</td><td>0.10183</td></tr><tr><td>Epoch</td><td>4</td></tr><tr><td>Loss</td><td>12439.95635</td></tr><tr><td>Loss_val</td><td>1382.11663</td></tr><tr><td>n_datatrain</td><td>270000</td></tr></table><br/></div></div>"
      ],
      "text/plain": [
       "<IPython.core.display.HTML object>"
      ]
     },
     "metadata": {},
     "output_type": "display_data"
    },
    {
     "data": {
      "text/html": [
       " View run <strong style=\"color:#cdcd00\">curious-sweep-2</strong> at: <a href='https://wandb.ai/srividhya/CS6910_DL_assignment1/runs/x0f8zws9' target=\"_blank\">https://wandb.ai/srividhya/CS6910_DL_assignment1/runs/x0f8zws9</a><br/>Synced 4 W&B file(s), 0 media file(s), 0 artifact file(s) and 0 other file(s)"
      ],
      "text/plain": [
       "<IPython.core.display.HTML object>"
      ]
     },
     "metadata": {},
     "output_type": "display_data"
    },
    {
     "data": {
      "text/html": [
       "Find logs at: <code>.\\wandb\\run-20240309_211543-x0f8zws9\\logs</code>"
      ],
      "text/plain": [
       "<IPython.core.display.HTML object>"
      ]
     },
     "metadata": {},
     "output_type": "display_data"
    },
    {
     "name": "stderr",
     "output_type": "stream",
     "text": [
      "\u001b[34m\u001b[1mwandb\u001b[0m: Agent Starting Run: defslhpn with config:\n",
      "\u001b[34m\u001b[1mwandb\u001b[0m: \tactivation: relu\n",
      "\u001b[34m\u001b[1mwandb\u001b[0m: \tbatch_size: 64\n",
      "\u001b[34m\u001b[1mwandb\u001b[0m: \thl_size: 128\n",
      "\u001b[34m\u001b[1mwandb\u001b[0m: \tinitialization: random\n",
      "\u001b[34m\u001b[1mwandb\u001b[0m: \tloss_type: squared_error\n",
      "\u001b[34m\u001b[1mwandb\u001b[0m: \tlr: 0.001\n",
      "\u001b[34m\u001b[1mwandb\u001b[0m: \tn_epoch: 5\n",
      "\u001b[34m\u001b[1mwandb\u001b[0m: \tn_hiddenlayer: 4\n",
      "\u001b[34m\u001b[1mwandb\u001b[0m: \toptimizer: rmsprop\n",
      "\u001b[34m\u001b[1mwandb\u001b[0m: \treg: 0\n"
     ]
    },
    {
     "data": {
      "text/html": [
       "wandb version 0.16.4 is available!  To upgrade, please run:\n",
       " $ pip install wandb --upgrade"
      ],
      "text/plain": [
       "<IPython.core.display.HTML object>"
      ]
     },
     "metadata": {},
     "output_type": "display_data"
    },
    {
     "data": {
      "text/html": [
       "Tracking run with wandb version 0.16.3"
      ],
      "text/plain": [
       "<IPython.core.display.HTML object>"
      ]
     },
     "metadata": {},
     "output_type": "display_data"
    },
    {
     "data": {
      "text/html": [
       "Run data is saved locally in <code>C:\\Users\\Hp\\Downloads\\DL assignment\\wandb\\run-20240309_213236-defslhpn</code>"
      ],
      "text/plain": [
       "<IPython.core.display.HTML object>"
      ]
     },
     "metadata": {},
     "output_type": "display_data"
    },
    {
     "data": {
      "text/html": [
       "Syncing run <strong><a href='https://wandb.ai/srividhya/CS6910_DL_assignment1/runs/defslhpn' target=\"_blank\">woven-sweep-3</a></strong> to <a href='https://wandb.ai/srividhya/CS6910_DL_assignment1' target=\"_blank\">Weights & Biases</a> (<a href='https://wandb.me/run' target=\"_blank\">docs</a>)<br/>Sweep page: <a href='https://wandb.ai/srividhya/CS6910_DL_assignment1/sweeps/4s10gpe0' target=\"_blank\">https://wandb.ai/srividhya/CS6910_DL_assignment1/sweeps/4s10gpe0</a>"
      ],
      "text/plain": [
       "<IPython.core.display.HTML object>"
      ]
     },
     "metadata": {},
     "output_type": "display_data"
    },
    {
     "data": {
      "text/html": [
       " View project at <a href='https://wandb.ai/srividhya/CS6910_DL_assignment1' target=\"_blank\">https://wandb.ai/srividhya/CS6910_DL_assignment1</a>"
      ],
      "text/plain": [
       "<IPython.core.display.HTML object>"
      ]
     },
     "metadata": {},
     "output_type": "display_data"
    },
    {
     "data": {
      "text/html": [
       " View sweep at <a href='https://wandb.ai/srividhya/CS6910_DL_assignment1/sweeps/4s10gpe0' target=\"_blank\">https://wandb.ai/srividhya/CS6910_DL_assignment1/sweeps/4s10gpe0</a>"
      ],
      "text/plain": [
       "<IPython.core.display.HTML object>"
      ]
     },
     "metadata": {},
     "output_type": "display_data"
    },
    {
     "data": {
      "text/html": [
       " View run at <a href='https://wandb.ai/srividhya/CS6910_DL_assignment1/runs/defslhpn' target=\"_blank\">https://wandb.ai/srividhya/CS6910_DL_assignment1/runs/defslhpn</a>"
      ],
      "text/plain": [
       "<IPython.core.display.HTML object>"
      ]
     },
     "metadata": {},
     "output_type": "display_data"
    },
    {
     "data": {
      "text/html": [
       "<style>\n",
       "    table.wandb td:nth-child(1) { padding: 0 10px; text-align: left ; width: auto;} td:nth-child(2) {text-align: left ; width: 100%}\n",
       "    .wandb-row { display: flex; flex-direction: row; flex-wrap: wrap; justify-content: flex-start; width: 100% }\n",
       "    .wandb-col { display: flex; flex-direction: column; flex-basis: 100%; flex: 1; padding: 10px; }\n",
       "    </style>\n",
       "<div class=\"wandb-row\"><div class=\"wandb-col\"><h3>Run history:</h3><br/><table class=\"wandb\"><tr><td>Accuracy</td><td>▁▅▆▆▅▆▇▇▆▆▇▆▇█▇▇▇█▇█▇█▇████</td></tr><tr><td>Accuracy_val</td><td>▁▅▆▆▅▅▇▆▆▆▇▆▆▇▇▇▇▇▇▇▇▇▇▇▇██</td></tr><tr><td>Epoch</td><td>▁▁▁▁▁▃▃▃▃▃▅▅▅▅▅▅▆▆▆▆▆██████</td></tr><tr><td>Loss</td><td>█▅▃▃▄▄▂▂▃▃▂▃▂▂▂▂▃▂▂▂▃▂▃▂▂▁▁</td></tr><tr><td>Loss_val</td><td>█▅▃▄▄▄▃▃▄▃▂▃▃▂▃▂▃▂▂▂▃▂▃▂▂▁▁</td></tr><tr><td>n_datatrain</td><td>▁▁▂▂▂▂▃▃▃▃▄▄▄▅▅▅▅▆▆▆▆▇▇▇▇██</td></tr></table><br/></div><div class=\"wandb-col\"><h3>Run summary:</h3><br/><table class=\"wandb\"><tr><td>Accuracy</td><td>0.87752</td></tr><tr><td>Accuracy_val</td><td>0.87967</td></tr><tr><td>Epoch</td><td>4</td></tr><tr><td>Loss</td><td>503.33321</td></tr><tr><td>Loss_val</td><td>54.62043</td></tr><tr><td>n_datatrain</td><td>270000</td></tr></table><br/></div></div>"
      ],
      "text/plain": [
       "<IPython.core.display.HTML object>"
      ]
     },
     "metadata": {},
     "output_type": "display_data"
    },
    {
     "data": {
      "text/html": [
       " View run <strong style=\"color:#cdcd00\">woven-sweep-3</strong> at: <a href='https://wandb.ai/srividhya/CS6910_DL_assignment1/runs/defslhpn' target=\"_blank\">https://wandb.ai/srividhya/CS6910_DL_assignment1/runs/defslhpn</a><br/>Synced 4 W&B file(s), 0 media file(s), 0 artifact file(s) and 0 other file(s)"
      ],
      "text/plain": [
       "<IPython.core.display.HTML object>"
      ]
     },
     "metadata": {},
     "output_type": "display_data"
    },
    {
     "data": {
      "text/html": [
       "Find logs at: <code>.\\wandb\\run-20240309_213236-defslhpn\\logs</code>"
      ],
      "text/plain": [
       "<IPython.core.display.HTML object>"
      ]
     },
     "metadata": {},
     "output_type": "display_data"
    },
    {
     "name": "stderr",
     "output_type": "stream",
     "text": [
      "\u001b[34m\u001b[1mwandb\u001b[0m: Agent Starting Run: 9pcwjyk3 with config:\n",
      "\u001b[34m\u001b[1mwandb\u001b[0m: \tactivation: relu\n",
      "\u001b[34m\u001b[1mwandb\u001b[0m: \tbatch_size: 32\n",
      "\u001b[34m\u001b[1mwandb\u001b[0m: \thl_size: 64\n",
      "\u001b[34m\u001b[1mwandb\u001b[0m: \tinitialization: xavier\n",
      "\u001b[34m\u001b[1mwandb\u001b[0m: \tloss_type: cross_entropy\n",
      "\u001b[34m\u001b[1mwandb\u001b[0m: \tlr: 0.001\n",
      "\u001b[34m\u001b[1mwandb\u001b[0m: \tn_epoch: 5\n",
      "\u001b[34m\u001b[1mwandb\u001b[0m: \tn_hiddenlayer: 5\n",
      "\u001b[34m\u001b[1mwandb\u001b[0m: \toptimizer: nesterov\n",
      "\u001b[34m\u001b[1mwandb\u001b[0m: \treg: 0.5\n"
     ]
    },
    {
     "data": {
      "text/html": [
       "wandb version 0.16.4 is available!  To upgrade, please run:\n",
       " $ pip install wandb --upgrade"
      ],
      "text/plain": [
       "<IPython.core.display.HTML object>"
      ]
     },
     "metadata": {},
     "output_type": "display_data"
    },
    {
     "data": {
      "text/html": [
       "Tracking run with wandb version 0.16.3"
      ],
      "text/plain": [
       "<IPython.core.display.HTML object>"
      ]
     },
     "metadata": {},
     "output_type": "display_data"
    },
    {
     "data": {
      "text/html": [
       "Run data is saved locally in <code>C:\\Users\\Hp\\Downloads\\DL assignment\\wandb\\run-20240309_232518-9pcwjyk3</code>"
      ],
      "text/plain": [
       "<IPython.core.display.HTML object>"
      ]
     },
     "metadata": {},
     "output_type": "display_data"
    },
    {
     "data": {
      "text/html": [
       "Syncing run <strong><a href='https://wandb.ai/srividhya/CS6910_DL_assignment1/runs/9pcwjyk3' target=\"_blank\">eternal-sweep-4</a></strong> to <a href='https://wandb.ai/srividhya/CS6910_DL_assignment1' target=\"_blank\">Weights & Biases</a> (<a href='https://wandb.me/run' target=\"_blank\">docs</a>)<br/>Sweep page: <a href='https://wandb.ai/srividhya/CS6910_DL_assignment1/sweeps/4s10gpe0' target=\"_blank\">https://wandb.ai/srividhya/CS6910_DL_assignment1/sweeps/4s10gpe0</a>"
      ],
      "text/plain": [
       "<IPython.core.display.HTML object>"
      ]
     },
     "metadata": {},
     "output_type": "display_data"
    },
    {
     "data": {
      "text/html": [
       " View project at <a href='https://wandb.ai/srividhya/CS6910_DL_assignment1' target=\"_blank\">https://wandb.ai/srividhya/CS6910_DL_assignment1</a>"
      ],
      "text/plain": [
       "<IPython.core.display.HTML object>"
      ]
     },
     "metadata": {},
     "output_type": "display_data"
    },
    {
     "data": {
      "text/html": [
       " View sweep at <a href='https://wandb.ai/srividhya/CS6910_DL_assignment1/sweeps/4s10gpe0' target=\"_blank\">https://wandb.ai/srividhya/CS6910_DL_assignment1/sweeps/4s10gpe0</a>"
      ],
      "text/plain": [
       "<IPython.core.display.HTML object>"
      ]
     },
     "metadata": {},
     "output_type": "display_data"
    },
    {
     "data": {
      "text/html": [
       " View run at <a href='https://wandb.ai/srividhya/CS6910_DL_assignment1/runs/9pcwjyk3' target=\"_blank\">https://wandb.ai/srividhya/CS6910_DL_assignment1/runs/9pcwjyk3</a>"
      ],
      "text/plain": [
       "<IPython.core.display.HTML object>"
      ]
     },
     "metadata": {},
     "output_type": "display_data"
    },
    {
     "data": {
      "text/html": [
       "<style>\n",
       "    table.wandb td:nth-child(1) { padding: 0 10px; text-align: left ; width: auto;} td:nth-child(2) {text-align: left ; width: 100%}\n",
       "    .wandb-row { display: flex; flex-direction: row; flex-wrap: wrap; justify-content: flex-start; width: 100% }\n",
       "    .wandb-col { display: flex; flex-direction: column; flex-basis: 100%; flex: 1; padding: 10px; }\n",
       "    </style>\n",
       "<div class=\"wandb-row\"><div class=\"wandb-col\"><h3>Run history:</h3><br/><table class=\"wandb\"><tr><td>Accuracy</td><td>▄▁▃▃▂▆█▂▂▁▁▄▅▅▃▆▇▅▄▅▂▁▃▄▃▃▄</td></tr><tr><td>Accuracy_val</td><td>▄▂▂▂▃▆█▃▂▁▁▄▅▅▃▆▆▅▃▄▂▁▃▄▃▃▄</td></tr><tr><td>Epoch</td><td>▁▁▁▁▁▃▃▃▃▃▅▅▅▅▅▅▆▆▆▆▆██████</td></tr><tr><td>Loss</td><td>███▆▆▁▄▆▆▃▇▂▃▆▅▃▃▂█▂▇▃▂▂▅▅█</td></tr><tr><td>Loss_val</td><td>▁▂▂▃▂▅▃▂▄▄▄█▅▃▃▃▃▄▂▄▁▃▃▃▃▃▁</td></tr><tr><td>n_datatrain</td><td>▁▁▂▂▂▂▃▃▃▃▄▄▄▅▅▅▅▆▆▆▆▇▇▇▇██</td></tr></table><br/></div><div class=\"wandb-col\"><h3>Run summary:</h3><br/><table class=\"wandb\"><tr><td>Accuracy</td><td>0.23543</td></tr><tr><td>Accuracy_val</td><td>0.236</td></tr><tr><td>Epoch</td><td>4</td></tr><tr><td>Loss</td><td>86176.77375</td></tr><tr><td>Loss_val</td><td>1174.31247</td></tr><tr><td>n_datatrain</td><td>270000</td></tr></table><br/></div></div>"
      ],
      "text/plain": [
       "<IPython.core.display.HTML object>"
      ]
     },
     "metadata": {},
     "output_type": "display_data"
    },
    {
     "data": {
      "text/html": [
       " View run <strong style=\"color:#cdcd00\">eternal-sweep-4</strong> at: <a href='https://wandb.ai/srividhya/CS6910_DL_assignment1/runs/9pcwjyk3' target=\"_blank\">https://wandb.ai/srividhya/CS6910_DL_assignment1/runs/9pcwjyk3</a><br/>Synced 4 W&B file(s), 0 media file(s), 0 artifact file(s) and 0 other file(s)"
      ],
      "text/plain": [
       "<IPython.core.display.HTML object>"
      ]
     },
     "metadata": {},
     "output_type": "display_data"
    },
    {
     "data": {
      "text/html": [
       "Find logs at: <code>.\\wandb\\run-20240309_232518-9pcwjyk3\\logs</code>"
      ],
      "text/plain": [
       "<IPython.core.display.HTML object>"
      ]
     },
     "metadata": {},
     "output_type": "display_data"
    },
    {
     "name": "stderr",
     "output_type": "stream",
     "text": [
      "\u001b[34m\u001b[1mwandb\u001b[0m: Agent Starting Run: 19jc64ru with config:\n",
      "\u001b[34m\u001b[1mwandb\u001b[0m: \tactivation: sigmoid\n",
      "\u001b[34m\u001b[1mwandb\u001b[0m: \tbatch_size: 128\n",
      "\u001b[34m\u001b[1mwandb\u001b[0m: \thl_size: 32\n",
      "\u001b[34m\u001b[1mwandb\u001b[0m: \tinitialization: random\n",
      "\u001b[34m\u001b[1mwandb\u001b[0m: \tloss_type: squared_error\n",
      "\u001b[34m\u001b[1mwandb\u001b[0m: \tlr: 0.001\n",
      "\u001b[34m\u001b[1mwandb\u001b[0m: \tn_epoch: 5\n",
      "\u001b[34m\u001b[1mwandb\u001b[0m: \tn_hiddenlayer: 3\n",
      "\u001b[34m\u001b[1mwandb\u001b[0m: \toptimizer: momentum\n",
      "\u001b[34m\u001b[1mwandb\u001b[0m: \treg: 0.0005\n"
     ]
    },
    {
     "data": {
      "text/html": [
       "wandb version 0.16.4 is available!  To upgrade, please run:\n",
       " $ pip install wandb --upgrade"
      ],
      "text/plain": [
       "<IPython.core.display.HTML object>"
      ]
     },
     "metadata": {},
     "output_type": "display_data"
    },
    {
     "data": {
      "text/html": [
       "Tracking run with wandb version 0.16.3"
      ],
      "text/plain": [
       "<IPython.core.display.HTML object>"
      ]
     },
     "metadata": {},
     "output_type": "display_data"
    },
    {
     "data": {
      "text/html": [
       "Run data is saved locally in <code>C:\\Users\\Hp\\Downloads\\DL assignment\\wandb\\run-20240309_235247-19jc64ru</code>"
      ],
      "text/plain": [
       "<IPython.core.display.HTML object>"
      ]
     },
     "metadata": {},
     "output_type": "display_data"
    },
    {
     "data": {
      "text/html": [
       "Syncing run <strong><a href='https://wandb.ai/srividhya/CS6910_DL_assignment1/runs/19jc64ru' target=\"_blank\">azure-sweep-5</a></strong> to <a href='https://wandb.ai/srividhya/CS6910_DL_assignment1' target=\"_blank\">Weights & Biases</a> (<a href='https://wandb.me/run' target=\"_blank\">docs</a>)<br/>Sweep page: <a href='https://wandb.ai/srividhya/CS6910_DL_assignment1/sweeps/4s10gpe0' target=\"_blank\">https://wandb.ai/srividhya/CS6910_DL_assignment1/sweeps/4s10gpe0</a>"
      ],
      "text/plain": [
       "<IPython.core.display.HTML object>"
      ]
     },
     "metadata": {},
     "output_type": "display_data"
    },
    {
     "data": {
      "text/html": [
       " View project at <a href='https://wandb.ai/srividhya/CS6910_DL_assignment1' target=\"_blank\">https://wandb.ai/srividhya/CS6910_DL_assignment1</a>"
      ],
      "text/plain": [
       "<IPython.core.display.HTML object>"
      ]
     },
     "metadata": {},
     "output_type": "display_data"
    },
    {
     "data": {
      "text/html": [
       " View sweep at <a href='https://wandb.ai/srividhya/CS6910_DL_assignment1/sweeps/4s10gpe0' target=\"_blank\">https://wandb.ai/srividhya/CS6910_DL_assignment1/sweeps/4s10gpe0</a>"
      ],
      "text/plain": [
       "<IPython.core.display.HTML object>"
      ]
     },
     "metadata": {},
     "output_type": "display_data"
    },
    {
     "data": {
      "text/html": [
       " View run at <a href='https://wandb.ai/srividhya/CS6910_DL_assignment1/runs/19jc64ru' target=\"_blank\">https://wandb.ai/srividhya/CS6910_DL_assignment1/runs/19jc64ru</a>"
      ],
      "text/plain": [
       "<IPython.core.display.HTML object>"
      ]
     },
     "metadata": {},
     "output_type": "display_data"
    },
    {
     "data": {
      "text/html": [
       "<style>\n",
       "    table.wandb td:nth-child(1) { padding: 0 10px; text-align: left ; width: auto;} td:nth-child(2) {text-align: left ; width: 100%}\n",
       "    .wandb-row { display: flex; flex-direction: row; flex-wrap: wrap; justify-content: flex-start; width: 100% }\n",
       "    .wandb-col { display: flex; flex-direction: column; flex-basis: 100%; flex: 1; padding: 10px; }\n",
       "    </style>\n",
       "<div class=\"wandb-row\"><div class=\"wandb-col\"><h3>Run history:</h3><br/><table class=\"wandb\"><tr><td>Accuracy</td><td>▄▄█▄▄▂█▄▄▄▃▄▅▄▃▅█▁▂▄▃▄▂▁▂▂▂</td></tr><tr><td>Accuracy_val</td><td>▅▁▁▁█▂▁█▁▁▇▅▅▅▇▅▁▄▂▁▇█▆▄▂▇▇</td></tr><tr><td>Epoch</td><td>▁▁▁▁▁▃▃▃▃▃▅▅▅▅▅▅▆▆▆▆▆██████</td></tr><tr><td>Loss</td><td>██▇▇▇▆▆▅▆▅▅▅▄▅▄▃▄▃▃▃▂▃▂▃▂▂▁</td></tr><tr><td>Loss_val</td><td>▂▅▂▃▂▃▃▁▇▃▃▃▃▅▂▁▅▃▂▄▁▅▄█▄▅▁</td></tr><tr><td>n_datatrain</td><td>▁▁▂▂▂▂▃▃▃▃▄▄▄▅▅▅▅▆▆▆▆▇▇▇▇██</td></tr></table><br/></div><div class=\"wandb-col\"><h3>Run summary:</h3><br/><table class=\"wandb\"><tr><td>Accuracy</td><td>0.09965</td></tr><tr><td>Accuracy_val</td><td>0.10183</td></tr><tr><td>Epoch</td><td>4</td></tr><tr><td>Loss</td><td>2459.72807</td></tr><tr><td>Loss_val</td><td>270.03514</td></tr><tr><td>n_datatrain</td><td>270000</td></tr></table><br/></div></div>"
      ],
      "text/plain": [
       "<IPython.core.display.HTML object>"
      ]
     },
     "metadata": {},
     "output_type": "display_data"
    },
    {
     "data": {
      "text/html": [
       " View run <strong style=\"color:#cdcd00\">azure-sweep-5</strong> at: <a href='https://wandb.ai/srividhya/CS6910_DL_assignment1/runs/19jc64ru' target=\"_blank\">https://wandb.ai/srividhya/CS6910_DL_assignment1/runs/19jc64ru</a><br/>Synced 4 W&B file(s), 0 media file(s), 0 artifact file(s) and 0 other file(s)"
      ],
      "text/plain": [
       "<IPython.core.display.HTML object>"
      ]
     },
     "metadata": {},
     "output_type": "display_data"
    },
    {
     "data": {
      "text/html": [
       "Find logs at: <code>.\\wandb\\run-20240309_235247-19jc64ru\\logs</code>"
      ],
      "text/plain": [
       "<IPython.core.display.HTML object>"
      ]
     },
     "metadata": {},
     "output_type": "display_data"
    },
    {
     "name": "stderr",
     "output_type": "stream",
     "text": [
      "\u001b[34m\u001b[1mwandb\u001b[0m: Agent Starting Run: ez308qns with config:\n",
      "\u001b[34m\u001b[1mwandb\u001b[0m: \tactivation: sigmoid\n",
      "\u001b[34m\u001b[1mwandb\u001b[0m: \tbatch_size: 32\n",
      "\u001b[34m\u001b[1mwandb\u001b[0m: \thl_size: 64\n",
      "\u001b[34m\u001b[1mwandb\u001b[0m: \tinitialization: random\n",
      "\u001b[34m\u001b[1mwandb\u001b[0m: \tloss_type: squared_error\n",
      "\u001b[34m\u001b[1mwandb\u001b[0m: \tlr: 0.001\n",
      "\u001b[34m\u001b[1mwandb\u001b[0m: \tn_epoch: 5\n",
      "\u001b[34m\u001b[1mwandb\u001b[0m: \tn_hiddenlayer: 4\n",
      "\u001b[34m\u001b[1mwandb\u001b[0m: \toptimizer: nadam\n",
      "\u001b[34m\u001b[1mwandb\u001b[0m: \treg: 0\n"
     ]
    },
    {
     "data": {
      "text/html": [
       "wandb version 0.16.4 is available!  To upgrade, please run:\n",
       " $ pip install wandb --upgrade"
      ],
      "text/plain": [
       "<IPython.core.display.HTML object>"
      ]
     },
     "metadata": {},
     "output_type": "display_data"
    },
    {
     "data": {
      "text/html": [
       "Tracking run with wandb version 0.16.3"
      ],
      "text/plain": [
       "<IPython.core.display.HTML object>"
      ]
     },
     "metadata": {},
     "output_type": "display_data"
    },
    {
     "data": {
      "text/html": [
       "Run data is saved locally in <code>C:\\Users\\Hp\\Downloads\\DL assignment\\wandb\\run-20240310_001036-ez308qns</code>"
      ],
      "text/plain": [
       "<IPython.core.display.HTML object>"
      ]
     },
     "metadata": {},
     "output_type": "display_data"
    },
    {
     "data": {
      "text/html": [
       "Syncing run <strong><a href='https://wandb.ai/srividhya/CS6910_DL_assignment1/runs/ez308qns' target=\"_blank\">iconic-sweep-6</a></strong> to <a href='https://wandb.ai/srividhya/CS6910_DL_assignment1' target=\"_blank\">Weights & Biases</a> (<a href='https://wandb.me/run' target=\"_blank\">docs</a>)<br/>Sweep page: <a href='https://wandb.ai/srividhya/CS6910_DL_assignment1/sweeps/4s10gpe0' target=\"_blank\">https://wandb.ai/srividhya/CS6910_DL_assignment1/sweeps/4s10gpe0</a>"
      ],
      "text/plain": [
       "<IPython.core.display.HTML object>"
      ]
     },
     "metadata": {},
     "output_type": "display_data"
    },
    {
     "data": {
      "text/html": [
       " View project at <a href='https://wandb.ai/srividhya/CS6910_DL_assignment1' target=\"_blank\">https://wandb.ai/srividhya/CS6910_DL_assignment1</a>"
      ],
      "text/plain": [
       "<IPython.core.display.HTML object>"
      ]
     },
     "metadata": {},
     "output_type": "display_data"
    },
    {
     "data": {
      "text/html": [
       " View sweep at <a href='https://wandb.ai/srividhya/CS6910_DL_assignment1/sweeps/4s10gpe0' target=\"_blank\">https://wandb.ai/srividhya/CS6910_DL_assignment1/sweeps/4s10gpe0</a>"
      ],
      "text/plain": [
       "<IPython.core.display.HTML object>"
      ]
     },
     "metadata": {},
     "output_type": "display_data"
    },
    {
     "data": {
      "text/html": [
       " View run at <a href='https://wandb.ai/srividhya/CS6910_DL_assignment1/runs/ez308qns' target=\"_blank\">https://wandb.ai/srividhya/CS6910_DL_assignment1/runs/ez308qns</a>"
      ],
      "text/plain": [
       "<IPython.core.display.HTML object>"
      ]
     },
     "metadata": {},
     "output_type": "display_data"
    },
    {
     "data": {
      "text/html": [
       "<style>\n",
       "    table.wandb td:nth-child(1) { padding: 0 10px; text-align: left ; width: auto;} td:nth-child(2) {text-align: left ; width: 100%}\n",
       "    .wandb-row { display: flex; flex-direction: row; flex-wrap: wrap; justify-content: flex-start; width: 100% }\n",
       "    .wandb-col { display: flex; flex-direction: column; flex-basis: 100%; flex: 1; padding: 10px; }\n",
       "    </style>\n",
       "<div class=\"wandb-row\"><div class=\"wandb-col\"><h3>Run history:</h3><br/><table class=\"wandb\"><tr><td>Accuracy</td><td>▁▁▆▇▆▇██▆▇▇▇█▇▇███████████▇</td></tr><tr><td>Accuracy_val</td><td>▂▁▆▇▆▇▇█▇▇▇▇█▇▇█████▇█▇████</td></tr><tr><td>Epoch</td><td>▁▁▁▁▁▃▃▃▃▃▅▅▅▅▅▅▆▆▆▆▆██████</td></tr><tr><td>Loss</td><td>▇█▅▅▅▃▃▃▃▂▂▂▂▂▂▁▁▁▁▁▁▁▁▁▁▁▁</td></tr><tr><td>Loss_val</td><td>▇█▅▅▅▃▃▃▃▂▂▂▂▂▂▁▂▁▁▁▂▁▁▁▁▁▁</td></tr><tr><td>n_datatrain</td><td>▁▁▂▂▂▂▃▃▃▃▄▄▄▅▅▅▅▆▆▆▆▇▇▇▇██</td></tr></table><br/></div><div class=\"wandb-col\"><h3>Run summary:</h3><br/><table class=\"wandb\"><tr><td>Accuracy</td><td>0.37209</td></tr><tr><td>Accuracy_val</td><td>0.3695</td></tr><tr><td>Epoch</td><td>4</td></tr><tr><td>Loss</td><td>2365.48648</td></tr><tr><td>Loss_val</td><td>262.83831</td></tr><tr><td>n_datatrain</td><td>270000</td></tr></table><br/></div></div>"
      ],
      "text/plain": [
       "<IPython.core.display.HTML object>"
      ]
     },
     "metadata": {},
     "output_type": "display_data"
    },
    {
     "data": {
      "text/html": [
       " View run <strong style=\"color:#cdcd00\">iconic-sweep-6</strong> at: <a href='https://wandb.ai/srividhya/CS6910_DL_assignment1/runs/ez308qns' target=\"_blank\">https://wandb.ai/srividhya/CS6910_DL_assignment1/runs/ez308qns</a><br/>Synced 4 W&B file(s), 0 media file(s), 0 artifact file(s) and 0 other file(s)"
      ],
      "text/plain": [
       "<IPython.core.display.HTML object>"
      ]
     },
     "metadata": {},
     "output_type": "display_data"
    },
    {
     "data": {
      "text/html": [
       "Find logs at: <code>.\\wandb\\run-20240310_001036-ez308qns\\logs</code>"
      ],
      "text/plain": [
       "<IPython.core.display.HTML object>"
      ]
     },
     "metadata": {},
     "output_type": "display_data"
    },
    {
     "name": "stderr",
     "output_type": "stream",
     "text": [
      "\u001b[34m\u001b[1mwandb\u001b[0m: Agent Starting Run: q0lfahyu with config:\n",
      "\u001b[34m\u001b[1mwandb\u001b[0m: \tactivation: tanh\n",
      "\u001b[34m\u001b[1mwandb\u001b[0m: \tbatch_size: 128\n",
      "\u001b[34m\u001b[1mwandb\u001b[0m: \thl_size: 128\n",
      "\u001b[34m\u001b[1mwandb\u001b[0m: \tinitialization: xavier\n",
      "\u001b[34m\u001b[1mwandb\u001b[0m: \tloss_type: squared_error\n",
      "\u001b[34m\u001b[1mwandb\u001b[0m: \tlr: 1e-05\n",
      "\u001b[34m\u001b[1mwandb\u001b[0m: \tn_epoch: 5\n",
      "\u001b[34m\u001b[1mwandb\u001b[0m: \tn_hiddenlayer: 5\n",
      "\u001b[34m\u001b[1mwandb\u001b[0m: \toptimizer: rmsprop\n",
      "\u001b[34m\u001b[1mwandb\u001b[0m: \treg: 0.5\n"
     ]
    },
    {
     "data": {
      "text/html": [
       "wandb version 0.16.4 is available!  To upgrade, please run:\n",
       " $ pip install wandb --upgrade"
      ],
      "text/plain": [
       "<IPython.core.display.HTML object>"
      ]
     },
     "metadata": {},
     "output_type": "display_data"
    },
    {
     "data": {
      "text/html": [
       "Tracking run with wandb version 0.16.3"
      ],
      "text/plain": [
       "<IPython.core.display.HTML object>"
      ]
     },
     "metadata": {},
     "output_type": "display_data"
    },
    {
     "data": {
      "text/html": [
       "Run data is saved locally in <code>C:\\Users\\Hp\\Downloads\\DL assignment\\wandb\\run-20240310_092258-q0lfahyu</code>"
      ],
      "text/plain": [
       "<IPython.core.display.HTML object>"
      ]
     },
     "metadata": {},
     "output_type": "display_data"
    },
    {
     "data": {
      "text/html": [
       "Syncing run <strong><a href='https://wandb.ai/srividhya/CS6910_DL_assignment1/runs/q0lfahyu' target=\"_blank\">magic-sweep-7</a></strong> to <a href='https://wandb.ai/srividhya/CS6910_DL_assignment1' target=\"_blank\">Weights & Biases</a> (<a href='https://wandb.me/run' target=\"_blank\">docs</a>)<br/>Sweep page: <a href='https://wandb.ai/srividhya/CS6910_DL_assignment1/sweeps/4s10gpe0' target=\"_blank\">https://wandb.ai/srividhya/CS6910_DL_assignment1/sweeps/4s10gpe0</a>"
      ],
      "text/plain": [
       "<IPython.core.display.HTML object>"
      ]
     },
     "metadata": {},
     "output_type": "display_data"
    },
    {
     "data": {
      "text/html": [
       " View project at <a href='https://wandb.ai/srividhya/CS6910_DL_assignment1' target=\"_blank\">https://wandb.ai/srividhya/CS6910_DL_assignment1</a>"
      ],
      "text/plain": [
       "<IPython.core.display.HTML object>"
      ]
     },
     "metadata": {},
     "output_type": "display_data"
    },
    {
     "data": {
      "text/html": [
       " View sweep at <a href='https://wandb.ai/srividhya/CS6910_DL_assignment1/sweeps/4s10gpe0' target=\"_blank\">https://wandb.ai/srividhya/CS6910_DL_assignment1/sweeps/4s10gpe0</a>"
      ],
      "text/plain": [
       "<IPython.core.display.HTML object>"
      ]
     },
     "metadata": {},
     "output_type": "display_data"
    },
    {
     "data": {
      "text/html": [
       " View run at <a href='https://wandb.ai/srividhya/CS6910_DL_assignment1/runs/q0lfahyu' target=\"_blank\">https://wandb.ai/srividhya/CS6910_DL_assignment1/runs/q0lfahyu</a>"
      ],
      "text/plain": [
       "<IPython.core.display.HTML object>"
      ]
     },
     "metadata": {},
     "output_type": "display_data"
    },
    {
     "name": "stderr",
     "output_type": "stream",
     "text": [
      "\u001b[34m\u001b[1mwandb\u001b[0m: Network error (ConnectionError), entering retry loop.\n"
     ]
    },
    {
     "data": {
      "text/html": [
       "<style>\n",
       "    table.wandb td:nth-child(1) { padding: 0 10px; text-align: left ; width: auto;} td:nth-child(2) {text-align: left ; width: 100%}\n",
       "    .wandb-row { display: flex; flex-direction: row; flex-wrap: wrap; justify-content: flex-start; width: 100% }\n",
       "    .wandb-col { display: flex; flex-direction: column; flex-basis: 100%; flex: 1; padding: 10px; }\n",
       "    </style>\n",
       "<div class=\"wandb-row\"><div class=\"wandb-col\"><h3>Run history:</h3><br/><table class=\"wandb\"><tr><td>Accuracy</td><td>▇▇████████▄▅▄▅▄▅▆▅▃▂▂▂▃▃▂▁▁</td></tr><tr><td>Accuracy_val</td><td>▇▇▇███████▄▅▄▅▄▄▆▄▃▂▂▂▃▃▂▁▁</td></tr><tr><td>Epoch</td><td>▁▁▁▁▁▃▃▃▃▃▅▅▅▅▅▅▆▆▆▆▆██████</td></tr><tr><td>Loss</td><td>█▇▆▆▅▄▄▃▃▂▂▂▂▁▁▁▁▁▁▁▂▂▂▃▃▃▄</td></tr><tr><td>Loss_val</td><td>▃▂▂▁▁▁▁▁▁▁▅▅▆▅▅▅▅▅▆███▇████</td></tr><tr><td>n_datatrain</td><td>▁▁▂▂▂▂▃▃▃▃▄▄▄▅▅▅▅▆▆▆▆▇▇▇▇██</td></tr></table><br/></div><div class=\"wandb-col\"><h3>Run summary:</h3><br/><table class=\"wandb\"><tr><td>Accuracy</td><td>0.40557</td></tr><tr><td>Accuracy_val</td><td>0.4015</td></tr><tr><td>Epoch</td><td>4</td></tr><tr><td>Loss</td><td>5736038.067</td></tr><tr><td>Loss_val</td><td>208.80453</td></tr><tr><td>n_datatrain</td><td>270000</td></tr></table><br/></div></div>"
      ],
      "text/plain": [
       "<IPython.core.display.HTML object>"
      ]
     },
     "metadata": {},
     "output_type": "display_data"
    },
    {
     "data": {
      "text/html": [
       " View run <strong style=\"color:#cdcd00\">magic-sweep-7</strong> at: <a href='https://wandb.ai/srividhya/CS6910_DL_assignment1/runs/q0lfahyu' target=\"_blank\">https://wandb.ai/srividhya/CS6910_DL_assignment1/runs/q0lfahyu</a><br/>Synced 5 W&B file(s), 0 media file(s), 0 artifact file(s) and 0 other file(s)"
      ],
      "text/plain": [
       "<IPython.core.display.HTML object>"
      ]
     },
     "metadata": {},
     "output_type": "display_data"
    },
    {
     "data": {
      "text/html": [
       "Find logs at: <code>.\\wandb\\run-20240310_092258-q0lfahyu\\logs</code>"
      ],
      "text/plain": [
       "<IPython.core.display.HTML object>"
      ]
     },
     "metadata": {},
     "output_type": "display_data"
    },
    {
     "name": "stderr",
     "output_type": "stream",
     "text": [
      "\u001b[34m\u001b[1mwandb\u001b[0m: Agent Starting Run: uqlh2kor with config:\n",
      "\u001b[34m\u001b[1mwandb\u001b[0m: \tactivation: sigmoid\n",
      "\u001b[34m\u001b[1mwandb\u001b[0m: \tbatch_size: 32\n",
      "\u001b[34m\u001b[1mwandb\u001b[0m: \thl_size: 64\n",
      "\u001b[34m\u001b[1mwandb\u001b[0m: \tinitialization: xavier\n",
      "\u001b[34m\u001b[1mwandb\u001b[0m: \tloss_type: squared_error\n",
      "\u001b[34m\u001b[1mwandb\u001b[0m: \tlr: 0.001\n",
      "\u001b[34m\u001b[1mwandb\u001b[0m: \tn_epoch: 5\n",
      "\u001b[34m\u001b[1mwandb\u001b[0m: \tn_hiddenlayer: 3\n",
      "\u001b[34m\u001b[1mwandb\u001b[0m: \toptimizer: nesterov\n",
      "\u001b[34m\u001b[1mwandb\u001b[0m: \treg: 0\n"
     ]
    },
    {
     "data": {
      "text/html": [
       "wandb version 0.16.4 is available!  To upgrade, please run:\n",
       " $ pip install wandb --upgrade"
      ],
      "text/plain": [
       "<IPython.core.display.HTML object>"
      ]
     },
     "metadata": {},
     "output_type": "display_data"
    },
    {
     "data": {
      "text/html": [
       "Tracking run with wandb version 0.16.3"
      ],
      "text/plain": [
       "<IPython.core.display.HTML object>"
      ]
     },
     "metadata": {},
     "output_type": "display_data"
    },
    {
     "data": {
      "text/html": [
       "Run data is saved locally in <code>C:\\Users\\Hp\\Downloads\\DL assignment\\wandb\\run-20240310_103758-uqlh2kor</code>"
      ],
      "text/plain": [
       "<IPython.core.display.HTML object>"
      ]
     },
     "metadata": {},
     "output_type": "display_data"
    },
    {
     "data": {
      "text/html": [
       "Syncing run <strong><a href='https://wandb.ai/srividhya/CS6910_DL_assignment1/runs/uqlh2kor' target=\"_blank\">magic-sweep-8</a></strong> to <a href='https://wandb.ai/srividhya/CS6910_DL_assignment1' target=\"_blank\">Weights & Biases</a> (<a href='https://wandb.me/run' target=\"_blank\">docs</a>)<br/>Sweep page: <a href='https://wandb.ai/srividhya/CS6910_DL_assignment1/sweeps/4s10gpe0' target=\"_blank\">https://wandb.ai/srividhya/CS6910_DL_assignment1/sweeps/4s10gpe0</a>"
      ],
      "text/plain": [
       "<IPython.core.display.HTML object>"
      ]
     },
     "metadata": {},
     "output_type": "display_data"
    },
    {
     "data": {
      "text/html": [
       " View project at <a href='https://wandb.ai/srividhya/CS6910_DL_assignment1' target=\"_blank\">https://wandb.ai/srividhya/CS6910_DL_assignment1</a>"
      ],
      "text/plain": [
       "<IPython.core.display.HTML object>"
      ]
     },
     "metadata": {},
     "output_type": "display_data"
    },
    {
     "data": {
      "text/html": [
       " View sweep at <a href='https://wandb.ai/srividhya/CS6910_DL_assignment1/sweeps/4s10gpe0' target=\"_blank\">https://wandb.ai/srividhya/CS6910_DL_assignment1/sweeps/4s10gpe0</a>"
      ],
      "text/plain": [
       "<IPython.core.display.HTML object>"
      ]
     },
     "metadata": {},
     "output_type": "display_data"
    },
    {
     "data": {
      "text/html": [
       " View run at <a href='https://wandb.ai/srividhya/CS6910_DL_assignment1/runs/uqlh2kor' target=\"_blank\">https://wandb.ai/srividhya/CS6910_DL_assignment1/runs/uqlh2kor</a>"
      ],
      "text/plain": [
       "<IPython.core.display.HTML object>"
      ]
     },
     "metadata": {},
     "output_type": "display_data"
    },
    {
     "data": {
      "text/html": [
       "<style>\n",
       "    table.wandb td:nth-child(1) { padding: 0 10px; text-align: left ; width: auto;} td:nth-child(2) {text-align: left ; width: 100%}\n",
       "    .wandb-row { display: flex; flex-direction: row; flex-wrap: wrap; justify-content: flex-start; width: 100% }\n",
       "    .wandb-col { display: flex; flex-direction: column; flex-basis: 100%; flex: 1; padding: 10px; }\n",
       "    </style>\n",
       "<div class=\"wandb-row\"><div class=\"wandb-col\"><h3>Run history:</h3><br/><table class=\"wandb\"><tr><td>Accuracy</td><td>▁▁▁▁▂▄▅▅▆▆▇▇▇▇▇▇▇▇█████████</td></tr><tr><td>Accuracy_val</td><td>▁▁▁▁▂▄▅▅▆▆▇▇▇▇▇▇▇▇██▇██████</td></tr><tr><td>Epoch</td><td>▁▁▁▁▁▃▃▃▃▃▅▅▅▅▅▅▆▆▆▆▆██████</td></tr><tr><td>Loss</td><td>███▇▇▆▅▄▄▃▃▃▂▂▂▂▂▂▂▁▂▁▁▁▁▁▁</td></tr><tr><td>Loss_val</td><td>███▇▆▆▅▄▄▃▃▃▂▂▂▂▂▂▂▁▂▁▁▁▁▁▁</td></tr><tr><td>n_datatrain</td><td>▁▁▂▂▂▂▃▃▃▃▄▄▄▅▅▅▅▆▆▆▆▇▇▇▇██</td></tr></table><br/></div><div class=\"wandb-col\"><h3>Run summary:</h3><br/><table class=\"wandb\"><tr><td>Accuracy</td><td>0.8367</td></tr><tr><td>Accuracy_val</td><td>0.83683</td></tr><tr><td>Epoch</td><td>4</td></tr><tr><td>Loss</td><td>645.87866</td></tr><tr><td>Loss_val</td><td>72.5118</td></tr><tr><td>n_datatrain</td><td>270000</td></tr></table><br/></div></div>"
      ],
      "text/plain": [
       "<IPython.core.display.HTML object>"
      ]
     },
     "metadata": {},
     "output_type": "display_data"
    },
    {
     "data": {
      "text/html": [
       " View run <strong style=\"color:#cdcd00\">magic-sweep-8</strong> at: <a href='https://wandb.ai/srividhya/CS6910_DL_assignment1/runs/uqlh2kor' target=\"_blank\">https://wandb.ai/srividhya/CS6910_DL_assignment1/runs/uqlh2kor</a><br/>Synced 4 W&B file(s), 0 media file(s), 0 artifact file(s) and 0 other file(s)"
      ],
      "text/plain": [
       "<IPython.core.display.HTML object>"
      ]
     },
     "metadata": {},
     "output_type": "display_data"
    },
    {
     "data": {
      "text/html": [
       "Find logs at: <code>.\\wandb\\run-20240310_103758-uqlh2kor\\logs</code>"
      ],
      "text/plain": [
       "<IPython.core.display.HTML object>"
      ]
     },
     "metadata": {},
     "output_type": "display_data"
    },
    {
     "name": "stderr",
     "output_type": "stream",
     "text": [
      "\u001b[34m\u001b[1mwandb\u001b[0m: Sweep Agent: Waiting for job.\n",
      "\u001b[34m\u001b[1mwandb\u001b[0m: Job received.\n",
      "\u001b[34m\u001b[1mwandb\u001b[0m: Agent Starting Run: yk3ay7dt with config:\n",
      "\u001b[34m\u001b[1mwandb\u001b[0m: \tactivation: relu\n",
      "\u001b[34m\u001b[1mwandb\u001b[0m: \tbatch_size: 64\n",
      "\u001b[34m\u001b[1mwandb\u001b[0m: \thl_size: 64\n",
      "\u001b[34m\u001b[1mwandb\u001b[0m: \tinitialization: xavier\n",
      "\u001b[34m\u001b[1mwandb\u001b[0m: \tloss_type: cross_entropy\n",
      "\u001b[34m\u001b[1mwandb\u001b[0m: \tlr: 0.001\n",
      "\u001b[34m\u001b[1mwandb\u001b[0m: \tn_epoch: 5\n",
      "\u001b[34m\u001b[1mwandb\u001b[0m: \tn_hiddenlayer: 5\n",
      "\u001b[34m\u001b[1mwandb\u001b[0m: \toptimizer: sgd\n",
      "\u001b[34m\u001b[1mwandb\u001b[0m: \treg: 0\n"
     ]
    },
    {
     "data": {
      "text/html": [
       "wandb version 0.16.4 is available!  To upgrade, please run:\n",
       " $ pip install wandb --upgrade"
      ],
      "text/plain": [
       "<IPython.core.display.HTML object>"
      ]
     },
     "metadata": {},
     "output_type": "display_data"
    },
    {
     "data": {
      "text/html": [
       "Tracking run with wandb version 0.16.3"
      ],
      "text/plain": [
       "<IPython.core.display.HTML object>"
      ]
     },
     "metadata": {},
     "output_type": "display_data"
    },
    {
     "data": {
      "text/html": [
       "Run data is saved locally in <code>C:\\Users\\Hp\\Downloads\\DL assignment\\wandb\\run-20240310_105939-yk3ay7dt</code>"
      ],
      "text/plain": [
       "<IPython.core.display.HTML object>"
      ]
     },
     "metadata": {},
     "output_type": "display_data"
    },
    {
     "data": {
      "text/html": [
       "Syncing run <strong><a href='https://wandb.ai/srividhya/CS6910_DL_assignment1/runs/yk3ay7dt' target=\"_blank\">giddy-sweep-9</a></strong> to <a href='https://wandb.ai/srividhya/CS6910_DL_assignment1' target=\"_blank\">Weights & Biases</a> (<a href='https://wandb.me/run' target=\"_blank\">docs</a>)<br/>Sweep page: <a href='https://wandb.ai/srividhya/CS6910_DL_assignment1/sweeps/4s10gpe0' target=\"_blank\">https://wandb.ai/srividhya/CS6910_DL_assignment1/sweeps/4s10gpe0</a>"
      ],
      "text/plain": [
       "<IPython.core.display.HTML object>"
      ]
     },
     "metadata": {},
     "output_type": "display_data"
    },
    {
     "data": {
      "text/html": [
       " View project at <a href='https://wandb.ai/srividhya/CS6910_DL_assignment1' target=\"_blank\">https://wandb.ai/srividhya/CS6910_DL_assignment1</a>"
      ],
      "text/plain": [
       "<IPython.core.display.HTML object>"
      ]
     },
     "metadata": {},
     "output_type": "display_data"
    },
    {
     "data": {
      "text/html": [
       " View sweep at <a href='https://wandb.ai/srividhya/CS6910_DL_assignment1/sweeps/4s10gpe0' target=\"_blank\">https://wandb.ai/srividhya/CS6910_DL_assignment1/sweeps/4s10gpe0</a>"
      ],
      "text/plain": [
       "<IPython.core.display.HTML object>"
      ]
     },
     "metadata": {},
     "output_type": "display_data"
    },
    {
     "data": {
      "text/html": [
       " View run at <a href='https://wandb.ai/srividhya/CS6910_DL_assignment1/runs/yk3ay7dt' target=\"_blank\">https://wandb.ai/srividhya/CS6910_DL_assignment1/runs/yk3ay7dt</a>"
      ],
      "text/plain": [
       "<IPython.core.display.HTML object>"
      ]
     },
     "metadata": {},
     "output_type": "display_data"
    },
    {
     "data": {
      "text/html": [
       "<style>\n",
       "    table.wandb td:nth-child(1) { padding: 0 10px; text-align: left ; width: auto;} td:nth-child(2) {text-align: left ; width: 100%}\n",
       "    .wandb-row { display: flex; flex-direction: row; flex-wrap: wrap; justify-content: flex-start; width: 100% }\n",
       "    .wandb-col { display: flex; flex-direction: column; flex-basis: 100%; flex: 1; padding: 10px; }\n",
       "    </style>\n",
       "<div class=\"wandb-row\"><div class=\"wandb-col\"><h3>Run history:</h3><br/><table class=\"wandb\"><tr><td>Accuracy</td><td>▁▅▅▆▆▇▇▇▇▆▇▇▆▇█▇██▇█▇█▇████</td></tr><tr><td>Accuracy_val</td><td>▁▄▅▆▆▇▆▇▆▆▇▇▆▇▇▇▇▇▇▇▇▇▇████</td></tr><tr><td>Epoch</td><td>▁▁▁▁▁▃▃▃▃▃▅▅▅▅▅▅▆▆▆▆▆██████</td></tr><tr><td>Loss</td><td>█▅▄▃▃▃▃▂▂▃▂▂▃▂▂▂▁▁▂▁▁▁▂▁▁▁▁</td></tr><tr><td>Loss_val</td><td>█▅▄▄▃▃▃▃▃▃▂▂▄▂▂▂▂▂▂▂▂▂▂▁▁▁▁</td></tr><tr><td>n_datatrain</td><td>▁▁▂▂▂▂▃▃▃▃▄▄▄▅▅▅▅▆▆▆▆▇▇▇▇██</td></tr></table><br/></div><div class=\"wandb-col\"><h3>Run summary:</h3><br/><table class=\"wandb\"><tr><td>Accuracy</td><td>0.88159</td></tr><tr><td>Accuracy_val</td><td>0.88617</td></tr><tr><td>Epoch</td><td>4</td></tr><tr><td>Loss</td><td>1772.29167</td></tr><tr><td>Loss_val</td><td>186.93663</td></tr><tr><td>n_datatrain</td><td>270000</td></tr></table><br/></div></div>"
      ],
      "text/plain": [
       "<IPython.core.display.HTML object>"
      ]
     },
     "metadata": {},
     "output_type": "display_data"
    },
    {
     "data": {
      "text/html": [
       " View run <strong style=\"color:#cdcd00\">giddy-sweep-9</strong> at: <a href='https://wandb.ai/srividhya/CS6910_DL_assignment1/runs/yk3ay7dt' target=\"_blank\">https://wandb.ai/srividhya/CS6910_DL_assignment1/runs/yk3ay7dt</a><br/>Synced 4 W&B file(s), 0 media file(s), 0 artifact file(s) and 0 other file(s)"
      ],
      "text/plain": [
       "<IPython.core.display.HTML object>"
      ]
     },
     "metadata": {},
     "output_type": "display_data"
    },
    {
     "data": {
      "text/html": [
       "Find logs at: <code>.\\wandb\\run-20240310_105939-yk3ay7dt\\logs</code>"
      ],
      "text/plain": [
       "<IPython.core.display.HTML object>"
      ]
     },
     "metadata": {},
     "output_type": "display_data"
    },
    {
     "name": "stderr",
     "output_type": "stream",
     "text": [
      "\u001b[34m\u001b[1mwandb\u001b[0m: Agent Starting Run: c0yvfz7w with config:\n",
      "\u001b[34m\u001b[1mwandb\u001b[0m: \tactivation: sigmoid\n",
      "\u001b[34m\u001b[1mwandb\u001b[0m: \tbatch_size: 128\n",
      "\u001b[34m\u001b[1mwandb\u001b[0m: \thl_size: 32\n",
      "\u001b[34m\u001b[1mwandb\u001b[0m: \tinitialization: xavier\n",
      "\u001b[34m\u001b[1mwandb\u001b[0m: \tloss_type: squared_error\n",
      "\u001b[34m\u001b[1mwandb\u001b[0m: \tlr: 0.001\n",
      "\u001b[34m\u001b[1mwandb\u001b[0m: \tn_epoch: 5\n",
      "\u001b[34m\u001b[1mwandb\u001b[0m: \tn_hiddenlayer: 3\n",
      "\u001b[34m\u001b[1mwandb\u001b[0m: \toptimizer: nesterov\n",
      "\u001b[34m\u001b[1mwandb\u001b[0m: \treg: 0.5\n"
     ]
    },
    {
     "data": {
      "text/html": [
       "wandb version 0.16.4 is available!  To upgrade, please run:\n",
       " $ pip install wandb --upgrade"
      ],
      "text/plain": [
       "<IPython.core.display.HTML object>"
      ]
     },
     "metadata": {},
     "output_type": "display_data"
    },
    {
     "data": {
      "text/html": [
       "Tracking run with wandb version 0.16.3"
      ],
      "text/plain": [
       "<IPython.core.display.HTML object>"
      ]
     },
     "metadata": {},
     "output_type": "display_data"
    },
    {
     "data": {
      "text/html": [
       "Run data is saved locally in <code>C:\\Users\\Hp\\Downloads\\DL assignment\\wandb\\run-20240310_111900-c0yvfz7w</code>"
      ],
      "text/plain": [
       "<IPython.core.display.HTML object>"
      ]
     },
     "metadata": {},
     "output_type": "display_data"
    },
    {
     "data": {
      "text/html": [
       "Syncing run <strong><a href='https://wandb.ai/srividhya/CS6910_DL_assignment1/runs/c0yvfz7w' target=\"_blank\">fancy-sweep-10</a></strong> to <a href='https://wandb.ai/srividhya/CS6910_DL_assignment1' target=\"_blank\">Weights & Biases</a> (<a href='https://wandb.me/run' target=\"_blank\">docs</a>)<br/>Sweep page: <a href='https://wandb.ai/srividhya/CS6910_DL_assignment1/sweeps/4s10gpe0' target=\"_blank\">https://wandb.ai/srividhya/CS6910_DL_assignment1/sweeps/4s10gpe0</a>"
      ],
      "text/plain": [
       "<IPython.core.display.HTML object>"
      ]
     },
     "metadata": {},
     "output_type": "display_data"
    },
    {
     "data": {
      "text/html": [
       " View project at <a href='https://wandb.ai/srividhya/CS6910_DL_assignment1' target=\"_blank\">https://wandb.ai/srividhya/CS6910_DL_assignment1</a>"
      ],
      "text/plain": [
       "<IPython.core.display.HTML object>"
      ]
     },
     "metadata": {},
     "output_type": "display_data"
    },
    {
     "data": {
      "text/html": [
       " View sweep at <a href='https://wandb.ai/srividhya/CS6910_DL_assignment1/sweeps/4s10gpe0' target=\"_blank\">https://wandb.ai/srividhya/CS6910_DL_assignment1/sweeps/4s10gpe0</a>"
      ],
      "text/plain": [
       "<IPython.core.display.HTML object>"
      ]
     },
     "metadata": {},
     "output_type": "display_data"
    },
    {
     "data": {
      "text/html": [
       " View run at <a href='https://wandb.ai/srividhya/CS6910_DL_assignment1/runs/c0yvfz7w' target=\"_blank\">https://wandb.ai/srividhya/CS6910_DL_assignment1/runs/c0yvfz7w</a>"
      ],
      "text/plain": [
       "<IPython.core.display.HTML object>"
      ]
     },
     "metadata": {},
     "output_type": "display_data"
    },
    {
     "data": {
      "text/html": [
       "<style>\n",
       "    table.wandb td:nth-child(1) { padding: 0 10px; text-align: left ; width: auto;} td:nth-child(2) {text-align: left ; width: 100%}\n",
       "    .wandb-row { display: flex; flex-direction: row; flex-wrap: wrap; justify-content: flex-start; width: 100% }\n",
       "    .wandb-col { display: flex; flex-direction: column; flex-basis: 100%; flex: 1; padding: 10px; }\n",
       "    </style>\n",
       "<div class=\"wandb-row\"><div class=\"wandb-col\"><h3>Run history:</h3><br/><table class=\"wandb\"><tr><td>Accuracy</td><td>▄▄█▅▄▂█▄▄▄▃▂▅▄▄▅█▄▂▃▅▄▂▁▄▂▂</td></tr><tr><td>Accuracy_val</td><td>▅▁▁▅█▂▁█▁▁▇▂▅▅▅▅▁▁▂▇▅█▆▄█▇▇</td></tr><tr><td>Epoch</td><td>▁▁▁▁▁▃▃▃▃▃▅▅▅▅▅▅▆▆▆▆▆██████</td></tr><tr><td>Loss</td><td>▂▇▁▁▄▅▄▁▆▃▆▇▄▇▃▂▄▅▂▅▂▇▄█▅▆▃</td></tr><tr><td>Loss_val</td><td>▂▆▃▂▃▄▄▁▇▄▄▅▄▅▃▃▅▆▃▅▂▆▄█▄▄▃</td></tr><tr><td>n_datatrain</td><td>▁▁▂▂▂▂▃▃▃▃▄▄▄▅▅▅▅▆▆▆▆▇▇▇▇██</td></tr></table><br/></div><div class=\"wandb-col\"><h3>Run summary:</h3><br/><table class=\"wandb\"><tr><td>Accuracy</td><td>0.09965</td></tr><tr><td>Accuracy_val</td><td>0.10183</td></tr><tr><td>Epoch</td><td>4</td></tr><tr><td>Loss</td><td>2445.82193</td></tr><tr><td>Loss_val</td><td>270.03659</td></tr><tr><td>n_datatrain</td><td>270000</td></tr></table><br/></div></div>"
      ],
      "text/plain": [
       "<IPython.core.display.HTML object>"
      ]
     },
     "metadata": {},
     "output_type": "display_data"
    },
    {
     "data": {
      "text/html": [
       " View run <strong style=\"color:#cdcd00\">fancy-sweep-10</strong> at: <a href='https://wandb.ai/srividhya/CS6910_DL_assignment1/runs/c0yvfz7w' target=\"_blank\">https://wandb.ai/srividhya/CS6910_DL_assignment1/runs/c0yvfz7w</a><br/>Synced 4 W&B file(s), 0 media file(s), 0 artifact file(s) and 0 other file(s)"
      ],
      "text/plain": [
       "<IPython.core.display.HTML object>"
      ]
     },
     "metadata": {},
     "output_type": "display_data"
    },
    {
     "data": {
      "text/html": [
       "Find logs at: <code>.\\wandb\\run-20240310_111900-c0yvfz7w\\logs</code>"
      ],
      "text/plain": [
       "<IPython.core.display.HTML object>"
      ]
     },
     "metadata": {},
     "output_type": "display_data"
    },
    {
     "name": "stderr",
     "output_type": "stream",
     "text": [
      "\u001b[34m\u001b[1mwandb\u001b[0m: Agent Starting Run: a80zwwaz with config:\n",
      "\u001b[34m\u001b[1mwandb\u001b[0m: \tactivation: sigmoid\n",
      "\u001b[34m\u001b[1mwandb\u001b[0m: \tbatch_size: 128\n",
      "\u001b[34m\u001b[1mwandb\u001b[0m: \thl_size: 128\n",
      "\u001b[34m\u001b[1mwandb\u001b[0m: \tinitialization: xavier\n",
      "\u001b[34m\u001b[1mwandb\u001b[0m: \tloss_type: squared_error\n",
      "\u001b[34m\u001b[1mwandb\u001b[0m: \tlr: 1e-05\n",
      "\u001b[34m\u001b[1mwandb\u001b[0m: \tn_epoch: 5\n",
      "\u001b[34m\u001b[1mwandb\u001b[0m: \tn_hiddenlayer: 4\n",
      "\u001b[34m\u001b[1mwandb\u001b[0m: \toptimizer: momentum\n",
      "\u001b[34m\u001b[1mwandb\u001b[0m: \treg: 0\n"
     ]
    },
    {
     "data": {
      "text/html": [
       "wandb version 0.16.4 is available!  To upgrade, please run:\n",
       " $ pip install wandb --upgrade"
      ],
      "text/plain": [
       "<IPython.core.display.HTML object>"
      ]
     },
     "metadata": {},
     "output_type": "display_data"
    },
    {
     "data": {
      "text/html": [
       "Tracking run with wandb version 0.16.3"
      ],
      "text/plain": [
       "<IPython.core.display.HTML object>"
      ]
     },
     "metadata": {},
     "output_type": "display_data"
    },
    {
     "data": {
      "text/html": [
       "Run data is saved locally in <code>C:\\Users\\Hp\\Downloads\\DL assignment\\wandb\\run-20240310_113319-a80zwwaz</code>"
      ],
      "text/plain": [
       "<IPython.core.display.HTML object>"
      ]
     },
     "metadata": {},
     "output_type": "display_data"
    },
    {
     "data": {
      "text/html": [
       "Syncing run <strong><a href='https://wandb.ai/srividhya/CS6910_DL_assignment1/runs/a80zwwaz' target=\"_blank\">silver-sweep-11</a></strong> to <a href='https://wandb.ai/srividhya/CS6910_DL_assignment1' target=\"_blank\">Weights & Biases</a> (<a href='https://wandb.me/run' target=\"_blank\">docs</a>)<br/>Sweep page: <a href='https://wandb.ai/srividhya/CS6910_DL_assignment1/sweeps/4s10gpe0' target=\"_blank\">https://wandb.ai/srividhya/CS6910_DL_assignment1/sweeps/4s10gpe0</a>"
      ],
      "text/plain": [
       "<IPython.core.display.HTML object>"
      ]
     },
     "metadata": {},
     "output_type": "display_data"
    },
    {
     "data": {
      "text/html": [
       " View project at <a href='https://wandb.ai/srividhya/CS6910_DL_assignment1' target=\"_blank\">https://wandb.ai/srividhya/CS6910_DL_assignment1</a>"
      ],
      "text/plain": [
       "<IPython.core.display.HTML object>"
      ]
     },
     "metadata": {},
     "output_type": "display_data"
    },
    {
     "data": {
      "text/html": [
       " View sweep at <a href='https://wandb.ai/srividhya/CS6910_DL_assignment1/sweeps/4s10gpe0' target=\"_blank\">https://wandb.ai/srividhya/CS6910_DL_assignment1/sweeps/4s10gpe0</a>"
      ],
      "text/plain": [
       "<IPython.core.display.HTML object>"
      ]
     },
     "metadata": {},
     "output_type": "display_data"
    },
    {
     "data": {
      "text/html": [
       " View run at <a href='https://wandb.ai/srividhya/CS6910_DL_assignment1/runs/a80zwwaz' target=\"_blank\">https://wandb.ai/srividhya/CS6910_DL_assignment1/runs/a80zwwaz</a>"
      ],
      "text/plain": [
       "<IPython.core.display.HTML object>"
      ]
     },
     "metadata": {},
     "output_type": "display_data"
    },
    {
     "data": {
      "text/html": [
       "<style>\n",
       "    table.wandb td:nth-child(1) { padding: 0 10px; text-align: left ; width: auto;} td:nth-child(2) {text-align: left ; width: 100%}\n",
       "    .wandb-row { display: flex; flex-direction: row; flex-wrap: wrap; justify-content: flex-start; width: 100% }\n",
       "    .wandb-col { display: flex; flex-direction: column; flex-basis: 100%; flex: 1; padding: 10px; }\n",
       "    </style>\n",
       "<div class=\"wandb-row\"><div class=\"wandb-col\"><h3>Run history:</h3><br/><table class=\"wandb\"><tr><td>Accuracy</td><td>▆▆▆▇█▆▆▆▆▆▆▆▁▆▇▇█▇▇▇█▆▆▄▆▆█</td></tr><tr><td>Accuracy_val</td><td>▆▆▆▇█▆▆▆▆▆▆▆▁▆▆▇▇▆▆▇█▆▆▅▆▆▇</td></tr><tr><td>Epoch</td><td>▁▁▁▁▁▃▃▃▃▃▅▅▅▅▅▅▆▆▆▆▆██████</td></tr><tr><td>Loss</td><td>█▆▄▃▃▂▂▂▂▁▁▁▁▁▁▁▁▁▁▁▁▁▁▁▁▁▁</td></tr><tr><td>Loss_val</td><td>█▆▄▃▃▂▂▂▂▁▁▁▁▁▁▁▁▁▁▁▁▁▁▁▁▁▁</td></tr><tr><td>n_datatrain</td><td>▁▁▂▂▂▂▃▃▃▃▄▄▄▅▅▅▅▆▆▆▆▇▇▇▇██</td></tr></table><br/></div><div class=\"wandb-col\"><h3>Run summary:</h3><br/><table class=\"wandb\"><tr><td>Accuracy</td><td>0.1212</td></tr><tr><td>Accuracy_val</td><td>0.11517</td></tr><tr><td>Epoch</td><td>4</td></tr><tr><td>Loss</td><td>2429.99869</td></tr><tr><td>Loss_val</td><td>270.00336</td></tr><tr><td>n_datatrain</td><td>270000</td></tr></table><br/></div></div>"
      ],
      "text/plain": [
       "<IPython.core.display.HTML object>"
      ]
     },
     "metadata": {},
     "output_type": "display_data"
    },
    {
     "data": {
      "text/html": [
       " View run <strong style=\"color:#cdcd00\">silver-sweep-11</strong> at: <a href='https://wandb.ai/srividhya/CS6910_DL_assignment1/runs/a80zwwaz' target=\"_blank\">https://wandb.ai/srividhya/CS6910_DL_assignment1/runs/a80zwwaz</a><br/>Synced 4 W&B file(s), 0 media file(s), 0 artifact file(s) and 0 other file(s)"
      ],
      "text/plain": [
       "<IPython.core.display.HTML object>"
      ]
     },
     "metadata": {},
     "output_type": "display_data"
    },
    {
     "data": {
      "text/html": [
       "Find logs at: <code>.\\wandb\\run-20240310_113319-a80zwwaz\\logs</code>"
      ],
      "text/plain": [
       "<IPython.core.display.HTML object>"
      ]
     },
     "metadata": {},
     "output_type": "display_data"
    },
    {
     "name": "stderr",
     "output_type": "stream",
     "text": [
      "\u001b[34m\u001b[1mwandb\u001b[0m: Agent Starting Run: o6a0gojy with config:\n",
      "\u001b[34m\u001b[1mwandb\u001b[0m: \tactivation: relu\n",
      "\u001b[34m\u001b[1mwandb\u001b[0m: \tbatch_size: 32\n",
      "\u001b[34m\u001b[1mwandb\u001b[0m: \thl_size: 128\n",
      "\u001b[34m\u001b[1mwandb\u001b[0m: \tinitialization: xavier\n",
      "\u001b[34m\u001b[1mwandb\u001b[0m: \tloss_type: cross_entropy\n",
      "\u001b[34m\u001b[1mwandb\u001b[0m: \tlr: 1e-05\n",
      "\u001b[34m\u001b[1mwandb\u001b[0m: \tn_epoch: 5\n",
      "\u001b[34m\u001b[1mwandb\u001b[0m: \tn_hiddenlayer: 3\n",
      "\u001b[34m\u001b[1mwandb\u001b[0m: \toptimizer: adam\n",
      "\u001b[34m\u001b[1mwandb\u001b[0m: \treg: 0.5\n"
     ]
    },
    {
     "data": {
      "text/html": [
       "wandb version 0.16.4 is available!  To upgrade, please run:\n",
       " $ pip install wandb --upgrade"
      ],
      "text/plain": [
       "<IPython.core.display.HTML object>"
      ]
     },
     "metadata": {},
     "output_type": "display_data"
    },
    {
     "data": {
      "text/html": [
       "Tracking run with wandb version 0.16.3"
      ],
      "text/plain": [
       "<IPython.core.display.HTML object>"
      ]
     },
     "metadata": {},
     "output_type": "display_data"
    },
    {
     "data": {
      "text/html": [
       "Run data is saved locally in <code>C:\\Users\\Hp\\Downloads\\DL assignment\\wandb\\run-20240310_142428-o6a0gojy</code>"
      ],
      "text/plain": [
       "<IPython.core.display.HTML object>"
      ]
     },
     "metadata": {},
     "output_type": "display_data"
    },
    {
     "data": {
      "text/html": [
       "Syncing run <strong><a href='https://wandb.ai/srividhya/CS6910_DL_assignment1/runs/o6a0gojy' target=\"_blank\">comfy-sweep-12</a></strong> to <a href='https://wandb.ai/srividhya/CS6910_DL_assignment1' target=\"_blank\">Weights & Biases</a> (<a href='https://wandb.me/run' target=\"_blank\">docs</a>)<br/>Sweep page: <a href='https://wandb.ai/srividhya/CS6910_DL_assignment1/sweeps/4s10gpe0' target=\"_blank\">https://wandb.ai/srividhya/CS6910_DL_assignment1/sweeps/4s10gpe0</a>"
      ],
      "text/plain": [
       "<IPython.core.display.HTML object>"
      ]
     },
     "metadata": {},
     "output_type": "display_data"
    },
    {
     "data": {
      "text/html": [
       " View project at <a href='https://wandb.ai/srividhya/CS6910_DL_assignment1' target=\"_blank\">https://wandb.ai/srividhya/CS6910_DL_assignment1</a>"
      ],
      "text/plain": [
       "<IPython.core.display.HTML object>"
      ]
     },
     "metadata": {},
     "output_type": "display_data"
    },
    {
     "data": {
      "text/html": [
       " View sweep at <a href='https://wandb.ai/srividhya/CS6910_DL_assignment1/sweeps/4s10gpe0' target=\"_blank\">https://wandb.ai/srividhya/CS6910_DL_assignment1/sweeps/4s10gpe0</a>"
      ],
      "text/plain": [
       "<IPython.core.display.HTML object>"
      ]
     },
     "metadata": {},
     "output_type": "display_data"
    },
    {
     "data": {
      "text/html": [
       " View run at <a href='https://wandb.ai/srividhya/CS6910_DL_assignment1/runs/o6a0gojy' target=\"_blank\">https://wandb.ai/srividhya/CS6910_DL_assignment1/runs/o6a0gojy</a>"
      ],
      "text/plain": [
       "<IPython.core.display.HTML object>"
      ]
     },
     "metadata": {},
     "output_type": "display_data"
    },
    {
     "data": {
      "text/html": [
       "<style>\n",
       "    table.wandb td:nth-child(1) { padding: 0 10px; text-align: left ; width: auto;} td:nth-child(2) {text-align: left ; width: 100%}\n",
       "    .wandb-row { display: flex; flex-direction: row; flex-wrap: wrap; justify-content: flex-start; width: 100% }\n",
       "    .wandb-col { display: flex; flex-direction: column; flex-basis: 100%; flex: 1; padding: 10px; }\n",
       "    </style>\n",
       "<div class=\"wandb-row\"><div class=\"wandb-col\"><h3>Run history:</h3><br/><table class=\"wandb\"><tr><td>Accuracy</td><td>▁▄▆▆▇▇▇████████████████████</td></tr><tr><td>Accuracy_val</td><td>▁▄▆▆▇▇▇████████████████████</td></tr><tr><td>Epoch</td><td>▁▁▁▁▁▃▃▃▃▃▅▅▅▅▅▅▆▆▆▆▆██████</td></tr><tr><td>Loss</td><td>█▇▇▆▆▅▅▄▄▃▃▃▃▂▂▂▂▂▂▂▁▁▁▁▁▁▁</td></tr><tr><td>Loss_val</td><td>█▄▃▂▂▁▁▁▁▁▁▁▁▁▁▁▁▁▁▁▁▁▁▁▁▁▁</td></tr><tr><td>n_datatrain</td><td>▁▁▂▂▂▂▃▃▃▃▄▄▄▅▅▅▅▆▆▆▆▇▇▇▇██</td></tr></table><br/></div><div class=\"wandb-col\"><h3>Run summary:</h3><br/><table class=\"wandb\"><tr><td>Accuracy</td><td>0.75917</td></tr><tr><td>Accuracy_val</td><td>0.75117</td></tr><tr><td>Epoch</td><td>4</td></tr><tr><td>Loss</td><td>1032006.84801</td></tr><tr><td>Loss_val</td><td>524.80618</td></tr><tr><td>n_datatrain</td><td>270000</td></tr></table><br/></div></div>"
      ],
      "text/plain": [
       "<IPython.core.display.HTML object>"
      ]
     },
     "metadata": {},
     "output_type": "display_data"
    },
    {
     "data": {
      "text/html": [
       " View run <strong style=\"color:#cdcd00\">comfy-sweep-12</strong> at: <a href='https://wandb.ai/srividhya/CS6910_DL_assignment1/runs/o6a0gojy' target=\"_blank\">https://wandb.ai/srividhya/CS6910_DL_assignment1/runs/o6a0gojy</a><br/>Synced 4 W&B file(s), 0 media file(s), 0 artifact file(s) and 0 other file(s)"
      ],
      "text/plain": [
       "<IPython.core.display.HTML object>"
      ]
     },
     "metadata": {},
     "output_type": "display_data"
    },
    {
     "data": {
      "text/html": [
       "Find logs at: <code>.\\wandb\\run-20240310_142428-o6a0gojy\\logs</code>"
      ],
      "text/plain": [
       "<IPython.core.display.HTML object>"
      ]
     },
     "metadata": {},
     "output_type": "display_data"
    },
    {
     "name": "stderr",
     "output_type": "stream",
     "text": [
      "\u001b[34m\u001b[1mwandb\u001b[0m: Agent Starting Run: uo9x6vyv with config:\n",
      "\u001b[34m\u001b[1mwandb\u001b[0m: \tactivation: sigmoid\n",
      "\u001b[34m\u001b[1mwandb\u001b[0m: \tbatch_size: 32\n",
      "\u001b[34m\u001b[1mwandb\u001b[0m: \thl_size: 32\n",
      "\u001b[34m\u001b[1mwandb\u001b[0m: \tinitialization: xavier\n",
      "\u001b[34m\u001b[1mwandb\u001b[0m: \tloss_type: cross_entropy\n",
      "\u001b[34m\u001b[1mwandb\u001b[0m: \tlr: 0.001\n",
      "\u001b[34m\u001b[1mwandb\u001b[0m: \tn_epoch: 5\n",
      "\u001b[34m\u001b[1mwandb\u001b[0m: \tn_hiddenlayer: 5\n",
      "\u001b[34m\u001b[1mwandb\u001b[0m: \toptimizer: nesterov\n",
      "\u001b[34m\u001b[1mwandb\u001b[0m: \treg: 0.0005\n"
     ]
    },
    {
     "data": {
      "text/html": [
       "wandb version 0.16.4 is available!  To upgrade, please run:\n",
       " $ pip install wandb --upgrade"
      ],
      "text/plain": [
       "<IPython.core.display.HTML object>"
      ]
     },
     "metadata": {},
     "output_type": "display_data"
    },
    {
     "data": {
      "text/html": [
       "Tracking run with wandb version 0.16.3"
      ],
      "text/plain": [
       "<IPython.core.display.HTML object>"
      ]
     },
     "metadata": {},
     "output_type": "display_data"
    },
    {
     "data": {
      "text/html": [
       "Run data is saved locally in <code>C:\\Users\\Hp\\Downloads\\DL assignment\\wandb\\run-20240310_152316-uo9x6vyv</code>"
      ],
      "text/plain": [
       "<IPython.core.display.HTML object>"
      ]
     },
     "metadata": {},
     "output_type": "display_data"
    },
    {
     "data": {
      "text/html": [
       "Syncing run <strong><a href='https://wandb.ai/srividhya/CS6910_DL_assignment1/runs/uo9x6vyv' target=\"_blank\">genial-sweep-13</a></strong> to <a href='https://wandb.ai/srividhya/CS6910_DL_assignment1' target=\"_blank\">Weights & Biases</a> (<a href='https://wandb.me/run' target=\"_blank\">docs</a>)<br/>Sweep page: <a href='https://wandb.ai/srividhya/CS6910_DL_assignment1/sweeps/4s10gpe0' target=\"_blank\">https://wandb.ai/srividhya/CS6910_DL_assignment1/sweeps/4s10gpe0</a>"
      ],
      "text/plain": [
       "<IPython.core.display.HTML object>"
      ]
     },
     "metadata": {},
     "output_type": "display_data"
    },
    {
     "data": {
      "text/html": [
       " View project at <a href='https://wandb.ai/srividhya/CS6910_DL_assignment1' target=\"_blank\">https://wandb.ai/srividhya/CS6910_DL_assignment1</a>"
      ],
      "text/plain": [
       "<IPython.core.display.HTML object>"
      ]
     },
     "metadata": {},
     "output_type": "display_data"
    },
    {
     "data": {
      "text/html": [
       " View sweep at <a href='https://wandb.ai/srividhya/CS6910_DL_assignment1/sweeps/4s10gpe0' target=\"_blank\">https://wandb.ai/srividhya/CS6910_DL_assignment1/sweeps/4s10gpe0</a>"
      ],
      "text/plain": [
       "<IPython.core.display.HTML object>"
      ]
     },
     "metadata": {},
     "output_type": "display_data"
    },
    {
     "data": {
      "text/html": [
       " View run at <a href='https://wandb.ai/srividhya/CS6910_DL_assignment1/runs/uo9x6vyv' target=\"_blank\">https://wandb.ai/srividhya/CS6910_DL_assignment1/runs/uo9x6vyv</a>"
      ],
      "text/plain": [
       "<IPython.core.display.HTML object>"
      ]
     },
     "metadata": {},
     "output_type": "display_data"
    },
    {
     "data": {
      "text/html": [
       "<style>\n",
       "    table.wandb td:nth-child(1) { padding: 0 10px; text-align: left ; width: auto;} td:nth-child(2) {text-align: left ; width: 100%}\n",
       "    .wandb-row { display: flex; flex-direction: row; flex-wrap: wrap; justify-content: flex-start; width: 100% }\n",
       "    .wandb-col { display: flex; flex-direction: column; flex-basis: 100%; flex: 1; padding: 10px; }\n",
       "    </style>\n",
       "<div class=\"wandb-row\"><div class=\"wandb-col\"><h3>Run history:</h3><br/><table class=\"wandb\"><tr><td>Accuracy</td><td>▁▁▁▁▁▁▁▂▄▅▅▅▆▆▇▇▇▇▇▇▇██████</td></tr><tr><td>Accuracy_val</td><td>▁▁▁▁▁▁▁▂▄▅▅▅▆▆▇▇▇▇▇▇▇██▇███</td></tr><tr><td>Epoch</td><td>▁▁▁▁▁▃▃▃▃▃▅▅▅▅▅▅▆▆▆▆▆██████</td></tr><tr><td>Loss</td><td>▃▃▃▃▃▃▃▃▁▁▁▂▃▃▃▄▅▅▅▆▆▆▇▇▇██</td></tr><tr><td>Loss_val</td><td>████████▅▄▃▃▃▂▂▂▂▂▁▁▁▁▁▁▁▁▁</td></tr><tr><td>n_datatrain</td><td>▁▁▂▂▂▂▃▃▃▃▄▄▄▅▅▅▅▆▆▆▆▇▇▇▇██</td></tr></table><br/></div><div class=\"wandb-col\"><h3>Run summary:</h3><br/><table class=\"wandb\"><tr><td>Accuracy</td><td>0.76944</td></tr><tr><td>Accuracy_val</td><td>0.77017</td></tr><tr><td>Epoch</td><td>4</td></tr><tr><td>Loss</td><td>21190.65872</td></tr><tr><td>Loss_val</td><td>394.37728</td></tr><tr><td>n_datatrain</td><td>270000</td></tr></table><br/></div></div>"
      ],
      "text/plain": [
       "<IPython.core.display.HTML object>"
      ]
     },
     "metadata": {},
     "output_type": "display_data"
    },
    {
     "data": {
      "text/html": [
       " View run <strong style=\"color:#cdcd00\">genial-sweep-13</strong> at: <a href='https://wandb.ai/srividhya/CS6910_DL_assignment1/runs/uo9x6vyv' target=\"_blank\">https://wandb.ai/srividhya/CS6910_DL_assignment1/runs/uo9x6vyv</a><br/>Synced 4 W&B file(s), 0 media file(s), 0 artifact file(s) and 0 other file(s)"
      ],
      "text/plain": [
       "<IPython.core.display.HTML object>"
      ]
     },
     "metadata": {},
     "output_type": "display_data"
    },
    {
     "data": {
      "text/html": [
       "Find logs at: <code>.\\wandb\\run-20240310_152316-uo9x6vyv\\logs</code>"
      ],
      "text/plain": [
       "<IPython.core.display.HTML object>"
      ]
     },
     "metadata": {},
     "output_type": "display_data"
    },
    {
     "name": "stderr",
     "output_type": "stream",
     "text": [
      "\u001b[34m\u001b[1mwandb\u001b[0m: Agent Starting Run: 5g5tcusu with config:\n",
      "\u001b[34m\u001b[1mwandb\u001b[0m: \tactivation: sigmoid\n",
      "\u001b[34m\u001b[1mwandb\u001b[0m: \tbatch_size: 32\n",
      "\u001b[34m\u001b[1mwandb\u001b[0m: \thl_size: 64\n",
      "\u001b[34m\u001b[1mwandb\u001b[0m: \tinitialization: random\n",
      "\u001b[34m\u001b[1mwandb\u001b[0m: \tloss_type: squared_error\n",
      "\u001b[34m\u001b[1mwandb\u001b[0m: \tlr: 0.001\n",
      "\u001b[34m\u001b[1mwandb\u001b[0m: \tn_epoch: 5\n",
      "\u001b[34m\u001b[1mwandb\u001b[0m: \tn_hiddenlayer: 3\n",
      "\u001b[34m\u001b[1mwandb\u001b[0m: \toptimizer: adam\n",
      "\u001b[34m\u001b[1mwandb\u001b[0m: \treg: 0.5\n"
     ]
    },
    {
     "data": {
      "text/html": [
       "wandb version 0.16.4 is available!  To upgrade, please run:\n",
       " $ pip install wandb --upgrade"
      ],
      "text/plain": [
       "<IPython.core.display.HTML object>"
      ]
     },
     "metadata": {},
     "output_type": "display_data"
    },
    {
     "data": {
      "text/html": [
       "Tracking run with wandb version 0.16.3"
      ],
      "text/plain": [
       "<IPython.core.display.HTML object>"
      ]
     },
     "metadata": {},
     "output_type": "display_data"
    },
    {
     "data": {
      "text/html": [
       "Run data is saved locally in <code>C:\\Users\\Hp\\Downloads\\DL assignment\\wandb\\run-20240310_154122-5g5tcusu</code>"
      ],
      "text/plain": [
       "<IPython.core.display.HTML object>"
      ]
     },
     "metadata": {},
     "output_type": "display_data"
    },
    {
     "data": {
      "text/html": [
       "Syncing run <strong><a href='https://wandb.ai/srividhya/CS6910_DL_assignment1/runs/5g5tcusu' target=\"_blank\">fiery-sweep-14</a></strong> to <a href='https://wandb.ai/srividhya/CS6910_DL_assignment1' target=\"_blank\">Weights & Biases</a> (<a href='https://wandb.me/run' target=\"_blank\">docs</a>)<br/>Sweep page: <a href='https://wandb.ai/srividhya/CS6910_DL_assignment1/sweeps/4s10gpe0' target=\"_blank\">https://wandb.ai/srividhya/CS6910_DL_assignment1/sweeps/4s10gpe0</a>"
      ],
      "text/plain": [
       "<IPython.core.display.HTML object>"
      ]
     },
     "metadata": {},
     "output_type": "display_data"
    },
    {
     "data": {
      "text/html": [
       " View project at <a href='https://wandb.ai/srividhya/CS6910_DL_assignment1' target=\"_blank\">https://wandb.ai/srividhya/CS6910_DL_assignment1</a>"
      ],
      "text/plain": [
       "<IPython.core.display.HTML object>"
      ]
     },
     "metadata": {},
     "output_type": "display_data"
    },
    {
     "data": {
      "text/html": [
       " View sweep at <a href='https://wandb.ai/srividhya/CS6910_DL_assignment1/sweeps/4s10gpe0' target=\"_blank\">https://wandb.ai/srividhya/CS6910_DL_assignment1/sweeps/4s10gpe0</a>"
      ],
      "text/plain": [
       "<IPython.core.display.HTML object>"
      ]
     },
     "metadata": {},
     "output_type": "display_data"
    },
    {
     "data": {
      "text/html": [
       " View run at <a href='https://wandb.ai/srividhya/CS6910_DL_assignment1/runs/5g5tcusu' target=\"_blank\">https://wandb.ai/srividhya/CS6910_DL_assignment1/runs/5g5tcusu</a>"
      ],
      "text/plain": [
       "<IPython.core.display.HTML object>"
      ]
     },
     "metadata": {},
     "output_type": "display_data"
    },
    {
     "data": {
      "text/html": [
       "<style>\n",
       "    table.wandb td:nth-child(1) { padding: 0 10px; text-align: left ; width: auto;} td:nth-child(2) {text-align: left ; width: 100%}\n",
       "    .wandb-row { display: flex; flex-direction: row; flex-wrap: wrap; justify-content: flex-start; width: 100% }\n",
       "    .wandb-col { display: flex; flex-direction: column; flex-basis: 100%; flex: 1; padding: 10px; }\n",
       "    </style>\n",
       "<div class=\"wandb-row\"><div class=\"wandb-col\"><h3>Run history:</h3><br/><table class=\"wandb\"><tr><td>Accuracy</td><td>▃▄▆█▆▄▂▂▅▂▆▂▂▂▂▂▁▂▂▂▂▂▂▂▂▁▂</td></tr><tr><td>Accuracy_val</td><td>▂▄▆█▆▄▂▂▅▂▆▂▂▂▂▂▁▂▂▂▂▂▂▂▂▁▂</td></tr><tr><td>Epoch</td><td>▁▁▁▁▁▃▃▃▃▃▅▅▅▅▅▅▆▆▆▆▆██████</td></tr><tr><td>Loss</td><td>▇▇▇▇█▄▆▆▆▆▄▄▄▄▄▄▂▂▂▂▂▁▁▁▁▁▁</td></tr><tr><td>Loss_val</td><td>▄▄▃▄▁▅▂▂▁▁▃▄▄▄▄▄▆▆▆▆▆▇█████</td></tr><tr><td>n_datatrain</td><td>▁▁▂▂▂▂▃▃▃▃▄▄▄▅▅▅▅▆▆▆▆▇▇▇▇██</td></tr></table><br/></div><div class=\"wandb-col\"><h3>Run summary:</h3><br/><table class=\"wandb\"><tr><td>Accuracy</td><td>0.19913</td></tr><tr><td>Accuracy_val</td><td>0.20267</td></tr><tr><td>Epoch</td><td>4</td></tr><tr><td>Loss</td><td>860301.32146</td></tr><tr><td>Loss_val</td><td>268.49755</td></tr><tr><td>n_datatrain</td><td>270000</td></tr></table><br/></div></div>"
      ],
      "text/plain": [
       "<IPython.core.display.HTML object>"
      ]
     },
     "metadata": {},
     "output_type": "display_data"
    },
    {
     "data": {
      "text/html": [
       " View run <strong style=\"color:#cdcd00\">fiery-sweep-14</strong> at: <a href='https://wandb.ai/srividhya/CS6910_DL_assignment1/runs/5g5tcusu' target=\"_blank\">https://wandb.ai/srividhya/CS6910_DL_assignment1/runs/5g5tcusu</a><br/>Synced 4 W&B file(s), 0 media file(s), 0 artifact file(s) and 0 other file(s)"
      ],
      "text/plain": [
       "<IPython.core.display.HTML object>"
      ]
     },
     "metadata": {},
     "output_type": "display_data"
    },
    {
     "data": {
      "text/html": [
       "Find logs at: <code>.\\wandb\\run-20240310_154122-5g5tcusu\\logs</code>"
      ],
      "text/plain": [
       "<IPython.core.display.HTML object>"
      ]
     },
     "metadata": {},
     "output_type": "display_data"
    },
    {
     "name": "stderr",
     "output_type": "stream",
     "text": [
      "\u001b[34m\u001b[1mwandb\u001b[0m: Agent Starting Run: 54vmfkqg with config:\n",
      "\u001b[34m\u001b[1mwandb\u001b[0m: \tactivation: relu\n",
      "\u001b[34m\u001b[1mwandb\u001b[0m: \tbatch_size: 128\n",
      "\u001b[34m\u001b[1mwandb\u001b[0m: \thl_size: 64\n",
      "\u001b[34m\u001b[1mwandb\u001b[0m: \tinitialization: random\n",
      "\u001b[34m\u001b[1mwandb\u001b[0m: \tloss_type: cross_entropy\n",
      "\u001b[34m\u001b[1mwandb\u001b[0m: \tlr: 0.001\n",
      "\u001b[34m\u001b[1mwandb\u001b[0m: \tn_epoch: 5\n",
      "\u001b[34m\u001b[1mwandb\u001b[0m: \tn_hiddenlayer: 5\n",
      "\u001b[34m\u001b[1mwandb\u001b[0m: \toptimizer: nesterov\n",
      "\u001b[34m\u001b[1mwandb\u001b[0m: \treg: 0.5\n"
     ]
    },
    {
     "data": {
      "text/html": [
       "wandb version 0.16.4 is available!  To upgrade, please run:\n",
       " $ pip install wandb --upgrade"
      ],
      "text/plain": [
       "<IPython.core.display.HTML object>"
      ]
     },
     "metadata": {},
     "output_type": "display_data"
    },
    {
     "data": {
      "text/html": [
       "Tracking run with wandb version 0.16.3"
      ],
      "text/plain": [
       "<IPython.core.display.HTML object>"
      ]
     },
     "metadata": {},
     "output_type": "display_data"
    },
    {
     "data": {
      "text/html": [
       "Run data is saved locally in <code>C:\\Users\\Hp\\Downloads\\DL assignment\\wandb\\run-20240310_160533-54vmfkqg</code>"
      ],
      "text/plain": [
       "<IPython.core.display.HTML object>"
      ]
     },
     "metadata": {},
     "output_type": "display_data"
    },
    {
     "data": {
      "text/html": [
       "Syncing run <strong><a href='https://wandb.ai/srividhya/CS6910_DL_assignment1/runs/54vmfkqg' target=\"_blank\">lemon-sweep-15</a></strong> to <a href='https://wandb.ai/srividhya/CS6910_DL_assignment1' target=\"_blank\">Weights & Biases</a> (<a href='https://wandb.me/run' target=\"_blank\">docs</a>)<br/>Sweep page: <a href='https://wandb.ai/srividhya/CS6910_DL_assignment1/sweeps/4s10gpe0' target=\"_blank\">https://wandb.ai/srividhya/CS6910_DL_assignment1/sweeps/4s10gpe0</a>"
      ],
      "text/plain": [
       "<IPython.core.display.HTML object>"
      ]
     },
     "metadata": {},
     "output_type": "display_data"
    },
    {
     "data": {
      "text/html": [
       " View project at <a href='https://wandb.ai/srividhya/CS6910_DL_assignment1' target=\"_blank\">https://wandb.ai/srividhya/CS6910_DL_assignment1</a>"
      ],
      "text/plain": [
       "<IPython.core.display.HTML object>"
      ]
     },
     "metadata": {},
     "output_type": "display_data"
    },
    {
     "data": {
      "text/html": [
       " View sweep at <a href='https://wandb.ai/srividhya/CS6910_DL_assignment1/sweeps/4s10gpe0' target=\"_blank\">https://wandb.ai/srividhya/CS6910_DL_assignment1/sweeps/4s10gpe0</a>"
      ],
      "text/plain": [
       "<IPython.core.display.HTML object>"
      ]
     },
     "metadata": {},
     "output_type": "display_data"
    },
    {
     "data": {
      "text/html": [
       " View run at <a href='https://wandb.ai/srividhya/CS6910_DL_assignment1/runs/54vmfkqg' target=\"_blank\">https://wandb.ai/srividhya/CS6910_DL_assignment1/runs/54vmfkqg</a>"
      ],
      "text/plain": [
       "<IPython.core.display.HTML object>"
      ]
     },
     "metadata": {},
     "output_type": "display_data"
    },
    {
     "data": {
      "text/html": [
       "<style>\n",
       "    table.wandb td:nth-child(1) { padding: 0 10px; text-align: left ; width: auto;} td:nth-child(2) {text-align: left ; width: 100%}\n",
       "    .wandb-row { display: flex; flex-direction: row; flex-wrap: wrap; justify-content: flex-start; width: 100% }\n",
       "    .wandb-col { display: flex; flex-direction: column; flex-basis: 100%; flex: 1; padding: 10px; }\n",
       "    </style>\n",
       "<div class=\"wandb-row\"><div class=\"wandb-col\"><h3>Run history:</h3><br/><table class=\"wandb\"><tr><td>Accuracy</td><td>▄▄▄▅▄▂█▅▄▄▃▂▅▄▄▅█▄▂▃▅▄▂▁▄▂▂</td></tr><tr><td>Accuracy_val</td><td>▅▁▁▅█▂▁▅▁▁▇▂▅▅▅▅▁▁▂▇▅█▆▄█▇▇</td></tr><tr><td>Epoch</td><td>▁▁▁▁▁▃▃▃▃▃▅▅▅▅▅▅▆▆▆▆▆██████</td></tr><tr><td>Loss</td><td>▃█▁▁▅▆▄▁▆▃▇█▅▇▃▃▄▆▂▅▃▆▄█▅▆▃</td></tr><tr><td>Loss_val</td><td>▂▆▃▂▃▅▄▁▇▄▄▆▅▅▄▃▅▆▃▆▂▆▄█▄▄▃</td></tr><tr><td>n_datatrain</td><td>▁▁▂▂▂▂▃▃▃▃▄▄▄▅▅▅▅▆▆▆▆▇▇▇▇██</td></tr></table><br/></div><div class=\"wandb-col\"><h3>Run summary:</h3><br/><table class=\"wandb\"><tr><td>Accuracy</td><td>0.09965</td></tr><tr><td>Accuracy_val</td><td>0.10183</td></tr><tr><td>Epoch</td><td>4</td></tr><tr><td>Loss</td><td>12437.76821</td></tr><tr><td>Loss_val</td><td>1382.00217</td></tr><tr><td>n_datatrain</td><td>270000</td></tr></table><br/></div></div>"
      ],
      "text/plain": [
       "<IPython.core.display.HTML object>"
      ]
     },
     "metadata": {},
     "output_type": "display_data"
    },
    {
     "data": {
      "text/html": [
       " View run <strong style=\"color:#cdcd00\">lemon-sweep-15</strong> at: <a href='https://wandb.ai/srividhya/CS6910_DL_assignment1/runs/54vmfkqg' target=\"_blank\">https://wandb.ai/srividhya/CS6910_DL_assignment1/runs/54vmfkqg</a><br/>Synced 4 W&B file(s), 0 media file(s), 0 artifact file(s) and 0 other file(s)"
      ],
      "text/plain": [
       "<IPython.core.display.HTML object>"
      ]
     },
     "metadata": {},
     "output_type": "display_data"
    },
    {
     "data": {
      "text/html": [
       "Find logs at: <code>.\\wandb\\run-20240310_160533-54vmfkqg\\logs</code>"
      ],
      "text/plain": [
       "<IPython.core.display.HTML object>"
      ]
     },
     "metadata": {},
     "output_type": "display_data"
    },
    {
     "name": "stderr",
     "output_type": "stream",
     "text": [
      "\u001b[34m\u001b[1mwandb\u001b[0m: Agent Starting Run: lk6g6ao4 with config:\n",
      "\u001b[34m\u001b[1mwandb\u001b[0m: \tactivation: tanh\n",
      "\u001b[34m\u001b[1mwandb\u001b[0m: \tbatch_size: 64\n",
      "\u001b[34m\u001b[1mwandb\u001b[0m: \thl_size: 32\n",
      "\u001b[34m\u001b[1mwandb\u001b[0m: \tinitialization: xavier\n",
      "\u001b[34m\u001b[1mwandb\u001b[0m: \tloss_type: squared_error\n",
      "\u001b[34m\u001b[1mwandb\u001b[0m: \tlr: 1e-05\n",
      "\u001b[34m\u001b[1mwandb\u001b[0m: \tn_epoch: 5\n",
      "\u001b[34m\u001b[1mwandb\u001b[0m: \tn_hiddenlayer: 3\n",
      "\u001b[34m\u001b[1mwandb\u001b[0m: \toptimizer: rmsprop\n",
      "\u001b[34m\u001b[1mwandb\u001b[0m: \treg: 0.0005\n"
     ]
    },
    {
     "data": {
      "text/html": [
       "wandb version 0.16.4 is available!  To upgrade, please run:\n",
       " $ pip install wandb --upgrade"
      ],
      "text/plain": [
       "<IPython.core.display.HTML object>"
      ]
     },
     "metadata": {},
     "output_type": "display_data"
    },
    {
     "data": {
      "text/html": [
       "Tracking run with wandb version 0.16.3"
      ],
      "text/plain": [
       "<IPython.core.display.HTML object>"
      ]
     },
     "metadata": {},
     "output_type": "display_data"
    },
    {
     "data": {
      "text/html": [
       "Run data is saved locally in <code>C:\\Users\\Hp\\Downloads\\DL assignment\\wandb\\run-20240310_163746-lk6g6ao4</code>"
      ],
      "text/plain": [
       "<IPython.core.display.HTML object>"
      ]
     },
     "metadata": {},
     "output_type": "display_data"
    },
    {
     "data": {
      "text/html": [
       "Syncing run <strong><a href='https://wandb.ai/srividhya/CS6910_DL_assignment1/runs/lk6g6ao4' target=\"_blank\">gallant-sweep-16</a></strong> to <a href='https://wandb.ai/srividhya/CS6910_DL_assignment1' target=\"_blank\">Weights & Biases</a> (<a href='https://wandb.me/run' target=\"_blank\">docs</a>)<br/>Sweep page: <a href='https://wandb.ai/srividhya/CS6910_DL_assignment1/sweeps/4s10gpe0' target=\"_blank\">https://wandb.ai/srividhya/CS6910_DL_assignment1/sweeps/4s10gpe0</a>"
      ],
      "text/plain": [
       "<IPython.core.display.HTML object>"
      ]
     },
     "metadata": {},
     "output_type": "display_data"
    },
    {
     "data": {
      "text/html": [
       " View project at <a href='https://wandb.ai/srividhya/CS6910_DL_assignment1' target=\"_blank\">https://wandb.ai/srividhya/CS6910_DL_assignment1</a>"
      ],
      "text/plain": [
       "<IPython.core.display.HTML object>"
      ]
     },
     "metadata": {},
     "output_type": "display_data"
    },
    {
     "data": {
      "text/html": [
       " View sweep at <a href='https://wandb.ai/srividhya/CS6910_DL_assignment1/sweeps/4s10gpe0' target=\"_blank\">https://wandb.ai/srividhya/CS6910_DL_assignment1/sweeps/4s10gpe0</a>"
      ],
      "text/plain": [
       "<IPython.core.display.HTML object>"
      ]
     },
     "metadata": {},
     "output_type": "display_data"
    },
    {
     "data": {
      "text/html": [
       " View run at <a href='https://wandb.ai/srividhya/CS6910_DL_assignment1/runs/lk6g6ao4' target=\"_blank\">https://wandb.ai/srividhya/CS6910_DL_assignment1/runs/lk6g6ao4</a>"
      ],
      "text/plain": [
       "<IPython.core.display.HTML object>"
      ]
     },
     "metadata": {},
     "output_type": "display_data"
    },
    {
     "data": {
      "text/html": [
       "<style>\n",
       "    table.wandb td:nth-child(1) { padding: 0 10px; text-align: left ; width: auto;} td:nth-child(2) {text-align: left ; width: 100%}\n",
       "    .wandb-row { display: flex; flex-direction: row; flex-wrap: wrap; justify-content: flex-start; width: 100% }\n",
       "    .wandb-col { display: flex; flex-direction: column; flex-basis: 100%; flex: 1; padding: 10px; }\n",
       "    </style>\n",
       "<div class=\"wandb-row\"><div class=\"wandb-col\"><h3>Run history:</h3><br/><table class=\"wandb\"><tr><td>Accuracy</td><td>▂▆▇▇██▆▄▃▄▄▅▃▂▁▂▂▂▃▃▃▃▄▅▅▅▅</td></tr><tr><td>Accuracy_val</td><td>▂▆▇▇██▆▄▃▄▄▅▃▂▁▂▂▂▃▃▃▃▄▅▅▅▅</td></tr><tr><td>Epoch</td><td>▁▁▁▁▁▃▃▃▃▃▅▅▅▅▅▅▆▆▆▆▆██████</td></tr><tr><td>Loss</td><td>▁▁▁▁▁▁▂▂▂▃▃▃▄▄▄▅▅▅▆▆▆▇▇▇▇██</td></tr><tr><td>Loss_val</td><td>▇▃▁▁▃▅▆▇▇██▇▇▇▆▆▆▆▅▅▅▄▄▄▄▄▄</td></tr><tr><td>n_datatrain</td><td>▁▁▂▂▂▂▃▃▃▃▄▄▄▅▅▅▅▆▆▆▆▇▇▇▇██</td></tr></table><br/></div><div class=\"wandb-col\"><h3>Run summary:</h3><br/><table class=\"wandb\"><tr><td>Accuracy</td><td>0.49493</td></tr><tr><td>Accuracy_val</td><td>0.494</td></tr><tr><td>Epoch</td><td>4</td></tr><tr><td>Loss</td><td>11273.0885</td></tr><tr><td>Loss_val</td><td>204.04895</td></tr><tr><td>n_datatrain</td><td>270000</td></tr></table><br/></div></div>"
      ],
      "text/plain": [
       "<IPython.core.display.HTML object>"
      ]
     },
     "metadata": {},
     "output_type": "display_data"
    },
    {
     "data": {
      "text/html": [
       " View run <strong style=\"color:#cdcd00\">gallant-sweep-16</strong> at: <a href='https://wandb.ai/srividhya/CS6910_DL_assignment1/runs/lk6g6ao4' target=\"_blank\">https://wandb.ai/srividhya/CS6910_DL_assignment1/runs/lk6g6ao4</a><br/>Synced 4 W&B file(s), 0 media file(s), 0 artifact file(s) and 0 other file(s)"
      ],
      "text/plain": [
       "<IPython.core.display.HTML object>"
      ]
     },
     "metadata": {},
     "output_type": "display_data"
    },
    {
     "data": {
      "text/html": [
       "Find logs at: <code>.\\wandb\\run-20240310_163746-lk6g6ao4\\logs</code>"
      ],
      "text/plain": [
       "<IPython.core.display.HTML object>"
      ]
     },
     "metadata": {},
     "output_type": "display_data"
    },
    {
     "name": "stderr",
     "output_type": "stream",
     "text": [
      "\u001b[34m\u001b[1mwandb\u001b[0m: Agent Starting Run: 6fesks7k with config:\n",
      "\u001b[34m\u001b[1mwandb\u001b[0m: \tactivation: relu\n",
      "\u001b[34m\u001b[1mwandb\u001b[0m: \tbatch_size: 64\n",
      "\u001b[34m\u001b[1mwandb\u001b[0m: \thl_size: 32\n",
      "\u001b[34m\u001b[1mwandb\u001b[0m: \tinitialization: random\n",
      "\u001b[34m\u001b[1mwandb\u001b[0m: \tloss_type: cross_entropy\n",
      "\u001b[34m\u001b[1mwandb\u001b[0m: \tlr: 0.001\n",
      "\u001b[34m\u001b[1mwandb\u001b[0m: \tn_epoch: 5\n",
      "\u001b[34m\u001b[1mwandb\u001b[0m: \tn_hiddenlayer: 4\n",
      "\u001b[34m\u001b[1mwandb\u001b[0m: \toptimizer: sgd\n",
      "\u001b[34m\u001b[1mwandb\u001b[0m: \treg: 0.0005\n"
     ]
    },
    {
     "data": {
      "text/html": [
       "wandb version 0.16.4 is available!  To upgrade, please run:\n",
       " $ pip install wandb --upgrade"
      ],
      "text/plain": [
       "<IPython.core.display.HTML object>"
      ]
     },
     "metadata": {},
     "output_type": "display_data"
    },
    {
     "data": {
      "text/html": [
       "Tracking run with wandb version 0.16.3"
      ],
      "text/plain": [
       "<IPython.core.display.HTML object>"
      ]
     },
     "metadata": {},
     "output_type": "display_data"
    },
    {
     "data": {
      "text/html": [
       "Run data is saved locally in <code>C:\\Users\\Hp\\Downloads\\DL assignment\\wandb\\run-20240310_165222-6fesks7k</code>"
      ],
      "text/plain": [
       "<IPython.core.display.HTML object>"
      ]
     },
     "metadata": {},
     "output_type": "display_data"
    },
    {
     "data": {
      "text/html": [
       "Syncing run <strong><a href='https://wandb.ai/srividhya/CS6910_DL_assignment1/runs/6fesks7k' target=\"_blank\">celestial-sweep-17</a></strong> to <a href='https://wandb.ai/srividhya/CS6910_DL_assignment1' target=\"_blank\">Weights & Biases</a> (<a href='https://wandb.me/run' target=\"_blank\">docs</a>)<br/>Sweep page: <a href='https://wandb.ai/srividhya/CS6910_DL_assignment1/sweeps/4s10gpe0' target=\"_blank\">https://wandb.ai/srividhya/CS6910_DL_assignment1/sweeps/4s10gpe0</a>"
      ],
      "text/plain": [
       "<IPython.core.display.HTML object>"
      ]
     },
     "metadata": {},
     "output_type": "display_data"
    },
    {
     "data": {
      "text/html": [
       " View project at <a href='https://wandb.ai/srividhya/CS6910_DL_assignment1' target=\"_blank\">https://wandb.ai/srividhya/CS6910_DL_assignment1</a>"
      ],
      "text/plain": [
       "<IPython.core.display.HTML object>"
      ]
     },
     "metadata": {},
     "output_type": "display_data"
    },
    {
     "data": {
      "text/html": [
       " View sweep at <a href='https://wandb.ai/srividhya/CS6910_DL_assignment1/sweeps/4s10gpe0' target=\"_blank\">https://wandb.ai/srividhya/CS6910_DL_assignment1/sweeps/4s10gpe0</a>"
      ],
      "text/plain": [
       "<IPython.core.display.HTML object>"
      ]
     },
     "metadata": {},
     "output_type": "display_data"
    },
    {
     "data": {
      "text/html": [
       " View run at <a href='https://wandb.ai/srividhya/CS6910_DL_assignment1/runs/6fesks7k' target=\"_blank\">https://wandb.ai/srividhya/CS6910_DL_assignment1/runs/6fesks7k</a>"
      ],
      "text/plain": [
       "<IPython.core.display.HTML object>"
      ]
     },
     "metadata": {},
     "output_type": "display_data"
    },
    {
     "data": {
      "text/html": [
       "<style>\n",
       "    table.wandb td:nth-child(1) { padding: 0 10px; text-align: left ; width: auto;} td:nth-child(2) {text-align: left ; width: 100%}\n",
       "    .wandb-row { display: flex; flex-direction: row; flex-wrap: wrap; justify-content: flex-start; width: 100% }\n",
       "    .wandb-col { display: flex; flex-direction: column; flex-basis: 100%; flex: 1; padding: 10px; }\n",
       "    </style>\n",
       "<div class=\"wandb-row\"><div class=\"wandb-col\"><h3>Run history:</h3><br/><table class=\"wandb\"><tr><td>Accuracy</td><td>▁▁▁▁▁▁▁▁▁▁▁▁▁▁▁▁▁▁▁▁▁▁▁▁▁▁▁</td></tr><tr><td>Accuracy_val</td><td>▁▁▁▁▁▁▁▁▁▁▁▁▁▁▁▁▁▁▁▁▁▁▁▁▁▁▁</td></tr><tr><td>Epoch</td><td>▁▁▁▁▁▃▃▃▃▃▅▅▅▅▅▅▆▆▆▆▆██████</td></tr><tr><td>Loss</td><td>██▇▇▇▇▆▆▆▅▅▅▅▄▄▄▃▃▃▃▂▂▂▂▁▁▁</td></tr><tr><td>Loss_val</td><td>▁███████████████▁████▁▁████</td></tr><tr><td>n_datatrain</td><td>▁▁▂▂▂▂▃▃▃▃▄▄▄▅▅▅▅▆▆▆▆▇▇▇▇██</td></tr></table><br/></div><div class=\"wandb-col\"><h3>Run summary:</h3><br/><table class=\"wandb\"><tr><td>Accuracy</td><td>0.09985</td></tr><tr><td>Accuracy_val</td><td>0.10133</td></tr><tr><td>Epoch</td><td>4</td></tr><tr><td>Loss</td><td>12463.38724</td></tr><tr><td>Loss_val</td><td>1381.53669</td></tr><tr><td>n_datatrain</td><td>270000</td></tr></table><br/></div></div>"
      ],
      "text/plain": [
       "<IPython.core.display.HTML object>"
      ]
     },
     "metadata": {},
     "output_type": "display_data"
    },
    {
     "data": {
      "text/html": [
       " View run <strong style=\"color:#cdcd00\">celestial-sweep-17</strong> at: <a href='https://wandb.ai/srividhya/CS6910_DL_assignment1/runs/6fesks7k' target=\"_blank\">https://wandb.ai/srividhya/CS6910_DL_assignment1/runs/6fesks7k</a><br/>Synced 4 W&B file(s), 0 media file(s), 0 artifact file(s) and 0 other file(s)"
      ],
      "text/plain": [
       "<IPython.core.display.HTML object>"
      ]
     },
     "metadata": {},
     "output_type": "display_data"
    },
    {
     "data": {
      "text/html": [
       "Find logs at: <code>.\\wandb\\run-20240310_165222-6fesks7k\\logs</code>"
      ],
      "text/plain": [
       "<IPython.core.display.HTML object>"
      ]
     },
     "metadata": {},
     "output_type": "display_data"
    },
    {
     "name": "stderr",
     "output_type": "stream",
     "text": [
      "\u001b[34m\u001b[1mwandb\u001b[0m: Sweep Agent: Waiting for job.\n",
      "\u001b[34m\u001b[1mwandb\u001b[0m: Job received.\n",
      "\u001b[34m\u001b[1mwandb\u001b[0m: Agent Starting Run: atdbb6z5 with config:\n",
      "\u001b[34m\u001b[1mwandb\u001b[0m: \tactivation: relu\n",
      "\u001b[34m\u001b[1mwandb\u001b[0m: \tbatch_size: 64\n",
      "\u001b[34m\u001b[1mwandb\u001b[0m: \thl_size: 32\n",
      "\u001b[34m\u001b[1mwandb\u001b[0m: \tinitialization: random\n",
      "\u001b[34m\u001b[1mwandb\u001b[0m: \tloss_type: cross_entropy\n",
      "\u001b[34m\u001b[1mwandb\u001b[0m: \tlr: 1e-05\n",
      "\u001b[34m\u001b[1mwandb\u001b[0m: \tn_epoch: 5\n",
      "\u001b[34m\u001b[1mwandb\u001b[0m: \tn_hiddenlayer: 5\n",
      "\u001b[34m\u001b[1mwandb\u001b[0m: \toptimizer: momentum\n",
      "\u001b[34m\u001b[1mwandb\u001b[0m: \treg: 0.5\n"
     ]
    },
    {
     "data": {
      "text/html": [
       "wandb version 0.16.4 is available!  To upgrade, please run:\n",
       " $ pip install wandb --upgrade"
      ],
      "text/plain": [
       "<IPython.core.display.HTML object>"
      ]
     },
     "metadata": {},
     "output_type": "display_data"
    },
    {
     "data": {
      "text/html": [
       "Tracking run with wandb version 0.16.3"
      ],
      "text/plain": [
       "<IPython.core.display.HTML object>"
      ]
     },
     "metadata": {},
     "output_type": "display_data"
    },
    {
     "data": {
      "text/html": [
       "Run data is saved locally in <code>C:\\Users\\Hp\\Downloads\\DL assignment\\wandb\\run-20240310_170616-atdbb6z5</code>"
      ],
      "text/plain": [
       "<IPython.core.display.HTML object>"
      ]
     },
     "metadata": {},
     "output_type": "display_data"
    },
    {
     "data": {
      "text/html": [
       "Syncing run <strong><a href='https://wandb.ai/srividhya/CS6910_DL_assignment1/runs/atdbb6z5' target=\"_blank\">denim-sweep-18</a></strong> to <a href='https://wandb.ai/srividhya/CS6910_DL_assignment1' target=\"_blank\">Weights & Biases</a> (<a href='https://wandb.me/run' target=\"_blank\">docs</a>)<br/>Sweep page: <a href='https://wandb.ai/srividhya/CS6910_DL_assignment1/sweeps/4s10gpe0' target=\"_blank\">https://wandb.ai/srividhya/CS6910_DL_assignment1/sweeps/4s10gpe0</a>"
      ],
      "text/plain": [
       "<IPython.core.display.HTML object>"
      ]
     },
     "metadata": {},
     "output_type": "display_data"
    },
    {
     "data": {
      "text/html": [
       " View project at <a href='https://wandb.ai/srividhya/CS6910_DL_assignment1' target=\"_blank\">https://wandb.ai/srividhya/CS6910_DL_assignment1</a>"
      ],
      "text/plain": [
       "<IPython.core.display.HTML object>"
      ]
     },
     "metadata": {},
     "output_type": "display_data"
    },
    {
     "data": {
      "text/html": [
       " View sweep at <a href='https://wandb.ai/srividhya/CS6910_DL_assignment1/sweeps/4s10gpe0' target=\"_blank\">https://wandb.ai/srividhya/CS6910_DL_assignment1/sweeps/4s10gpe0</a>"
      ],
      "text/plain": [
       "<IPython.core.display.HTML object>"
      ]
     },
     "metadata": {},
     "output_type": "display_data"
    },
    {
     "data": {
      "text/html": [
       " View run at <a href='https://wandb.ai/srividhya/CS6910_DL_assignment1/runs/atdbb6z5' target=\"_blank\">https://wandb.ai/srividhya/CS6910_DL_assignment1/runs/atdbb6z5</a>"
      ],
      "text/plain": [
       "<IPython.core.display.HTML object>"
      ]
     },
     "metadata": {},
     "output_type": "display_data"
    },
    {
     "data": {
      "text/html": [
       "<style>\n",
       "    table.wandb td:nth-child(1) { padding: 0 10px; text-align: left ; width: auto;} td:nth-child(2) {text-align: left ; width: 100%}\n",
       "    .wandb-row { display: flex; flex-direction: row; flex-wrap: wrap; justify-content: flex-start; width: 100% }\n",
       "    .wandb-col { display: flex; flex-direction: column; flex-basis: 100%; flex: 1; padding: 10px; }\n",
       "    </style>\n",
       "<div class=\"wandb-row\"><div class=\"wandb-col\"><h3>Run history:</h3><br/><table class=\"wandb\"><tr><td>Accuracy</td><td>▁▁▁▁▁▁▁▁▃▂▃▁▁██████████▃███</td></tr><tr><td>Accuracy_val</td><td>▇▇▇▇▇▇▇▇▅▁▅▇▇▁▁▁▁▁▁▁▁▁▁█▁▁▁</td></tr><tr><td>Epoch</td><td>▁▁▁▁▁▃▃▃▃▃▅▅▅▅▅▅▆▆▆▆▆██████</td></tr><tr><td>Loss</td><td>█▇▇▆▆▅▅▄▄▄▃▃▃▂▂▂▂▂▂▂▁▁▁▁▁▁▁</td></tr><tr><td>Loss_val</td><td>▄▂▁▄▅▃▃▁▄▆▄▃▃▄▇▆▅▅▄▇█▅▆▅▆█▆</td></tr><tr><td>n_datatrain</td><td>▁▁▂▂▂▂▃▃▃▃▄▄▄▅▅▅▅▆▆▆▆▇▇▇▇██</td></tr></table><br/></div><div class=\"wandb-col\"><h3>Run summary:</h3><br/><table class=\"wandb\"><tr><td>Accuracy</td><td>0.10093</td></tr><tr><td>Accuracy_val</td><td>0.09767</td></tr><tr><td>Epoch</td><td>4</td></tr><tr><td>Loss</td><td>15087.15251</td></tr><tr><td>Loss_val</td><td>1381.56243</td></tr><tr><td>n_datatrain</td><td>270000</td></tr></table><br/></div></div>"
      ],
      "text/plain": [
       "<IPython.core.display.HTML object>"
      ]
     },
     "metadata": {},
     "output_type": "display_data"
    },
    {
     "data": {
      "text/html": [
       " View run <strong style=\"color:#cdcd00\">denim-sweep-18</strong> at: <a href='https://wandb.ai/srividhya/CS6910_DL_assignment1/runs/atdbb6z5' target=\"_blank\">https://wandb.ai/srividhya/CS6910_DL_assignment1/runs/atdbb6z5</a><br/>Synced 4 W&B file(s), 0 media file(s), 0 artifact file(s) and 0 other file(s)"
      ],
      "text/plain": [
       "<IPython.core.display.HTML object>"
      ]
     },
     "metadata": {},
     "output_type": "display_data"
    },
    {
     "data": {
      "text/html": [
       "Find logs at: <code>.\\wandb\\run-20240310_170616-atdbb6z5\\logs</code>"
      ],
      "text/plain": [
       "<IPython.core.display.HTML object>"
      ]
     },
     "metadata": {},
     "output_type": "display_data"
    },
    {
     "name": "stderr",
     "output_type": "stream",
     "text": [
      "\u001b[34m\u001b[1mwandb\u001b[0m: Agent Starting Run: afnn1j7s with config:\n",
      "\u001b[34m\u001b[1mwandb\u001b[0m: \tactivation: relu\n",
      "\u001b[34m\u001b[1mwandb\u001b[0m: \tbatch_size: 32\n",
      "\u001b[34m\u001b[1mwandb\u001b[0m: \thl_size: 128\n",
      "\u001b[34m\u001b[1mwandb\u001b[0m: \tinitialization: xavier\n",
      "\u001b[34m\u001b[1mwandb\u001b[0m: \tloss_type: squared_error\n",
      "\u001b[34m\u001b[1mwandb\u001b[0m: \tlr: 1e-05\n",
      "\u001b[34m\u001b[1mwandb\u001b[0m: \tn_epoch: 5\n",
      "\u001b[34m\u001b[1mwandb\u001b[0m: \tn_hiddenlayer: 3\n",
      "\u001b[34m\u001b[1mwandb\u001b[0m: \toptimizer: rmsprop\n",
      "\u001b[34m\u001b[1mwandb\u001b[0m: \treg: 0.0005\n"
     ]
    },
    {
     "data": {
      "text/html": [
       "wandb version 0.16.4 is available!  To upgrade, please run:\n",
       " $ pip install wandb --upgrade"
      ],
      "text/plain": [
       "<IPython.core.display.HTML object>"
      ]
     },
     "metadata": {},
     "output_type": "display_data"
    },
    {
     "data": {
      "text/html": [
       "Tracking run with wandb version 0.16.3"
      ],
      "text/plain": [
       "<IPython.core.display.HTML object>"
      ]
     },
     "metadata": {},
     "output_type": "display_data"
    },
    {
     "data": {
      "text/html": [
       "Run data is saved locally in <code>C:\\Users\\Hp\\Downloads\\DL assignment\\wandb\\run-20240310_172228-afnn1j7s</code>"
      ],
      "text/plain": [
       "<IPython.core.display.HTML object>"
      ]
     },
     "metadata": {},
     "output_type": "display_data"
    },
    {
     "data": {
      "text/html": [
       "Syncing run <strong><a href='https://wandb.ai/srividhya/CS6910_DL_assignment1/runs/afnn1j7s' target=\"_blank\">magic-sweep-19</a></strong> to <a href='https://wandb.ai/srividhya/CS6910_DL_assignment1' target=\"_blank\">Weights & Biases</a> (<a href='https://wandb.me/run' target=\"_blank\">docs</a>)<br/>Sweep page: <a href='https://wandb.ai/srividhya/CS6910_DL_assignment1/sweeps/4s10gpe0' target=\"_blank\">https://wandb.ai/srividhya/CS6910_DL_assignment1/sweeps/4s10gpe0</a>"
      ],
      "text/plain": [
       "<IPython.core.display.HTML object>"
      ]
     },
     "metadata": {},
     "output_type": "display_data"
    },
    {
     "data": {
      "text/html": [
       " View project at <a href='https://wandb.ai/srividhya/CS6910_DL_assignment1' target=\"_blank\">https://wandb.ai/srividhya/CS6910_DL_assignment1</a>"
      ],
      "text/plain": [
       "<IPython.core.display.HTML object>"
      ]
     },
     "metadata": {},
     "output_type": "display_data"
    },
    {
     "data": {
      "text/html": [
       " View sweep at <a href='https://wandb.ai/srividhya/CS6910_DL_assignment1/sweeps/4s10gpe0' target=\"_blank\">https://wandb.ai/srividhya/CS6910_DL_assignment1/sweeps/4s10gpe0</a>"
      ],
      "text/plain": [
       "<IPython.core.display.HTML object>"
      ]
     },
     "metadata": {},
     "output_type": "display_data"
    },
    {
     "data": {
      "text/html": [
       " View run at <a href='https://wandb.ai/srividhya/CS6910_DL_assignment1/runs/afnn1j7s' target=\"_blank\">https://wandb.ai/srividhya/CS6910_DL_assignment1/runs/afnn1j7s</a>"
      ],
      "text/plain": [
       "<IPython.core.display.HTML object>"
      ]
     },
     "metadata": {},
     "output_type": "display_data"
    },
    {
     "data": {
      "text/html": [
       "<style>\n",
       "    table.wandb td:nth-child(1) { padding: 0 10px; text-align: left ; width: auto;} td:nth-child(2) {text-align: left ; width: 100%}\n",
       "    .wandb-row { display: flex; flex-direction: row; flex-wrap: wrap; justify-content: flex-start; width: 100% }\n",
       "    .wandb-col { display: flex; flex-direction: column; flex-basis: 100%; flex: 1; padding: 10px; }\n",
       "    </style>\n",
       "<div class=\"wandb-row\"><div class=\"wandb-col\"><h3>Run history:</h3><br/><table class=\"wandb\"><tr><td>Accuracy</td><td>▁▄▅▅▆▆▆▆▇▇▇▇▇▇▇▇▇█▇█▇██████</td></tr><tr><td>Accuracy_val</td><td>▁▄▅▅▆▆▆▆▇▇▇▇▇▇▇▇██▇█▇██████</td></tr><tr><td>Epoch</td><td>▁▁▁▁▁▃▃▃▃▃▅▅▅▅▅▅▆▆▆▆▆██████</td></tr><tr><td>Loss</td><td>█▃▂▁▁▁▁▁▂▂▂▃▃▃▃▄▄▄▅▅▆▅▆▆▆▆▆</td></tr><tr><td>Loss_val</td><td>█▅▄▄▃▃▃▃▃▂▂▂▂▂▂▂▁▁▂▁▂▁▁▁▁▁▁</td></tr><tr><td>n_datatrain</td><td>▁▁▂▂▂▂▃▃▃▃▄▄▄▅▅▅▅▆▆▆▆▇▇▇▇██</td></tr></table><br/></div><div class=\"wandb-col\"><h3>Run summary:</h3><br/><table class=\"wandb\"><tr><td>Accuracy</td><td>0.86341</td></tr><tr><td>Accuracy_val</td><td>0.85967</td></tr><tr><td>Epoch</td><td>4</td></tr><tr><td>Loss</td><td>7846.65474</td></tr><tr><td>Loss_val</td><td>61.07314</td></tr><tr><td>n_datatrain</td><td>270000</td></tr></table><br/></div></div>"
      ],
      "text/plain": [
       "<IPython.core.display.HTML object>"
      ]
     },
     "metadata": {},
     "output_type": "display_data"
    },
    {
     "data": {
      "text/html": [
       " View run <strong style=\"color:#cdcd00\">magic-sweep-19</strong> at: <a href='https://wandb.ai/srividhya/CS6910_DL_assignment1/runs/afnn1j7s' target=\"_blank\">https://wandb.ai/srividhya/CS6910_DL_assignment1/runs/afnn1j7s</a><br/>Synced 4 W&B file(s), 0 media file(s), 0 artifact file(s) and 0 other file(s)"
      ],
      "text/plain": [
       "<IPython.core.display.HTML object>"
      ]
     },
     "metadata": {},
     "output_type": "display_data"
    },
    {
     "data": {
      "text/html": [
       "Find logs at: <code>.\\wandb\\run-20240310_172228-afnn1j7s\\logs</code>"
      ],
      "text/plain": [
       "<IPython.core.display.HTML object>"
      ]
     },
     "metadata": {},
     "output_type": "display_data"
    },
    {
     "name": "stderr",
     "output_type": "stream",
     "text": [
      "\u001b[34m\u001b[1mwandb\u001b[0m: Sweep Agent: Waiting for job.\n",
      "\u001b[34m\u001b[1mwandb\u001b[0m: Job received.\n",
      "\u001b[34m\u001b[1mwandb\u001b[0m: Agent Starting Run: fuzuj1p1 with config:\n",
      "\u001b[34m\u001b[1mwandb\u001b[0m: \tactivation: sigmoid\n",
      "\u001b[34m\u001b[1mwandb\u001b[0m: \tbatch_size: 64\n",
      "\u001b[34m\u001b[1mwandb\u001b[0m: \thl_size: 128\n",
      "\u001b[34m\u001b[1mwandb\u001b[0m: \tinitialization: xavier\n",
      "\u001b[34m\u001b[1mwandb\u001b[0m: \tloss_type: squared_error\n",
      "\u001b[34m\u001b[1mwandb\u001b[0m: \tlr: 0.001\n",
      "\u001b[34m\u001b[1mwandb\u001b[0m: \tn_epoch: 5\n",
      "\u001b[34m\u001b[1mwandb\u001b[0m: \tn_hiddenlayer: 5\n",
      "\u001b[34m\u001b[1mwandb\u001b[0m: \toptimizer: rmsprop\n",
      "\u001b[34m\u001b[1mwandb\u001b[0m: \treg: 0.0005\n"
     ]
    },
    {
     "data": {
      "text/html": [
       "wandb version 0.16.4 is available!  To upgrade, please run:\n",
       " $ pip install wandb --upgrade"
      ],
      "text/plain": [
       "<IPython.core.display.HTML object>"
      ]
     },
     "metadata": {},
     "output_type": "display_data"
    },
    {
     "data": {
      "text/html": [
       "Tracking run with wandb version 0.16.3"
      ],
      "text/plain": [
       "<IPython.core.display.HTML object>"
      ]
     },
     "metadata": {},
     "output_type": "display_data"
    },
    {
     "data": {
      "text/html": [
       "Run data is saved locally in <code>C:\\Users\\Hp\\Downloads\\DL assignment\\wandb\\run-20240310_185036-fuzuj1p1</code>"
      ],
      "text/plain": [
       "<IPython.core.display.HTML object>"
      ]
     },
     "metadata": {},
     "output_type": "display_data"
    },
    {
     "data": {
      "text/html": [
       "Syncing run <strong><a href='https://wandb.ai/srividhya/CS6910_DL_assignment1/runs/fuzuj1p1' target=\"_blank\">honest-sweep-20</a></strong> to <a href='https://wandb.ai/srividhya/CS6910_DL_assignment1' target=\"_blank\">Weights & Biases</a> (<a href='https://wandb.me/run' target=\"_blank\">docs</a>)<br/>Sweep page: <a href='https://wandb.ai/srividhya/CS6910_DL_assignment1/sweeps/4s10gpe0' target=\"_blank\">https://wandb.ai/srividhya/CS6910_DL_assignment1/sweeps/4s10gpe0</a>"
      ],
      "text/plain": [
       "<IPython.core.display.HTML object>"
      ]
     },
     "metadata": {},
     "output_type": "display_data"
    },
    {
     "data": {
      "text/html": [
       " View project at <a href='https://wandb.ai/srividhya/CS6910_DL_assignment1' target=\"_blank\">https://wandb.ai/srividhya/CS6910_DL_assignment1</a>"
      ],
      "text/plain": [
       "<IPython.core.display.HTML object>"
      ]
     },
     "metadata": {},
     "output_type": "display_data"
    },
    {
     "data": {
      "text/html": [
       " View sweep at <a href='https://wandb.ai/srividhya/CS6910_DL_assignment1/sweeps/4s10gpe0' target=\"_blank\">https://wandb.ai/srividhya/CS6910_DL_assignment1/sweeps/4s10gpe0</a>"
      ],
      "text/plain": [
       "<IPython.core.display.HTML object>"
      ]
     },
     "metadata": {},
     "output_type": "display_data"
    },
    {
     "data": {
      "text/html": [
       " View run at <a href='https://wandb.ai/srividhya/CS6910_DL_assignment1/runs/fuzuj1p1' target=\"_blank\">https://wandb.ai/srividhya/CS6910_DL_assignment1/runs/fuzuj1p1</a>"
      ],
      "text/plain": [
       "<IPython.core.display.HTML object>"
      ]
     },
     "metadata": {},
     "output_type": "display_data"
    },
    {
     "data": {
      "text/html": [
       "<style>\n",
       "    table.wandb td:nth-child(1) { padding: 0 10px; text-align: left ; width: auto;} td:nth-child(2) {text-align: left ; width: 100%}\n",
       "    .wandb-row { display: flex; flex-direction: row; flex-wrap: wrap; justify-content: flex-start; width: 100% }\n",
       "    .wandb-col { display: flex; flex-direction: column; flex-basis: 100%; flex: 1; padding: 10px; }\n",
       "    </style>\n",
       "<div class=\"wandb-row\"><div class=\"wandb-col\"><h3>Run history:</h3><br/><table class=\"wandb\"><tr><td>Accuracy</td><td>▁▅▅▅▆▆▇▇▇▇▇▇▇██▇█▇██▇▇▇████</td></tr><tr><td>Accuracy_val</td><td>▁▄▄▅▆▅▇▇▇▇▇▇▇▇▇▇█▇▇█▇▇▇█▇██</td></tr><tr><td>Epoch</td><td>▁▁▁▁▁▃▃▃▃▃▅▅▅▅▅▅▆▆▆▆▆██████</td></tr><tr><td>Loss</td><td>▁▁▂▂▃▃▃▃▄▄▄▅▅▅▅▆▆▆▆▆▇▇▇▇███</td></tr><tr><td>Loss_val</td><td>█▅▅▄▄▄▃▂▃▂▂▂▂▂▂▂▂▂▁▁▃▂▂▁▁▁▁</td></tr><tr><td>n_datatrain</td><td>▁▁▂▂▂▂▃▃▃▃▄▄▄▅▅▅▅▆▆▆▆▇▇▇▇██</td></tr></table><br/></div><div class=\"wandb-col\"><h3>Run summary:</h3><br/><table class=\"wandb\"><tr><td>Accuracy</td><td>0.86974</td></tr><tr><td>Accuracy_val</td><td>0.8755</td></tr><tr><td>Epoch</td><td>4</td></tr><tr><td>Loss</td><td>317858.45963</td></tr><tr><td>Loss_val</td><td>57.75569</td></tr><tr><td>n_datatrain</td><td>270000</td></tr></table><br/></div></div>"
      ],
      "text/plain": [
       "<IPython.core.display.HTML object>"
      ]
     },
     "metadata": {},
     "output_type": "display_data"
    },
    {
     "data": {
      "text/html": [
       " View run <strong style=\"color:#cdcd00\">honest-sweep-20</strong> at: <a href='https://wandb.ai/srividhya/CS6910_DL_assignment1/runs/fuzuj1p1' target=\"_blank\">https://wandb.ai/srividhya/CS6910_DL_assignment1/runs/fuzuj1p1</a><br/>Synced 4 W&B file(s), 0 media file(s), 0 artifact file(s) and 0 other file(s)"
      ],
      "text/plain": [
       "<IPython.core.display.HTML object>"
      ]
     },
     "metadata": {},
     "output_type": "display_data"
    },
    {
     "data": {
      "text/html": [
       "Find logs at: <code>.\\wandb\\run-20240310_185036-fuzuj1p1\\logs</code>"
      ],
      "text/plain": [
       "<IPython.core.display.HTML object>"
      ]
     },
     "metadata": {},
     "output_type": "display_data"
    },
    {
     "name": "stderr",
     "output_type": "stream",
     "text": [
      "\u001b[34m\u001b[1mwandb\u001b[0m: Agent Starting Run: 3rt7ticd with config:\n",
      "\u001b[34m\u001b[1mwandb\u001b[0m: \tactivation: relu\n",
      "\u001b[34m\u001b[1mwandb\u001b[0m: \tbatch_size: 128\n",
      "\u001b[34m\u001b[1mwandb\u001b[0m: \thl_size: 128\n",
      "\u001b[34m\u001b[1mwandb\u001b[0m: \tinitialization: xavier\n",
      "\u001b[34m\u001b[1mwandb\u001b[0m: \tloss_type: squared_error\n",
      "\u001b[34m\u001b[1mwandb\u001b[0m: \tlr: 1e-05\n",
      "\u001b[34m\u001b[1mwandb\u001b[0m: \tn_epoch: 5\n",
      "\u001b[34m\u001b[1mwandb\u001b[0m: \tn_hiddenlayer: 4\n",
      "\u001b[34m\u001b[1mwandb\u001b[0m: \toptimizer: rmsprop\n",
      "\u001b[34m\u001b[1mwandb\u001b[0m: \treg: 0.0005\n"
     ]
    },
    {
     "data": {
      "text/html": [
       "wandb version 0.16.4 is available!  To upgrade, please run:\n",
       " $ pip install wandb --upgrade"
      ],
      "text/plain": [
       "<IPython.core.display.HTML object>"
      ]
     },
     "metadata": {},
     "output_type": "display_data"
    },
    {
     "data": {
      "text/html": [
       "Tracking run with wandb version 0.16.3"
      ],
      "text/plain": [
       "<IPython.core.display.HTML object>"
      ]
     },
     "metadata": {},
     "output_type": "display_data"
    },
    {
     "data": {
      "text/html": [
       "Run data is saved locally in <code>C:\\Users\\Hp\\Downloads\\DL assignment\\wandb\\run-20240310_195608-3rt7ticd</code>"
      ],
      "text/plain": [
       "<IPython.core.display.HTML object>"
      ]
     },
     "metadata": {},
     "output_type": "display_data"
    },
    {
     "data": {
      "text/html": [
       "Syncing run <strong><a href='https://wandb.ai/srividhya/CS6910_DL_assignment1/runs/3rt7ticd' target=\"_blank\">earthy-sweep-21</a></strong> to <a href='https://wandb.ai/srividhya/CS6910_DL_assignment1' target=\"_blank\">Weights & Biases</a> (<a href='https://wandb.me/run' target=\"_blank\">docs</a>)<br/>Sweep page: <a href='https://wandb.ai/srividhya/CS6910_DL_assignment1/sweeps/4s10gpe0' target=\"_blank\">https://wandb.ai/srividhya/CS6910_DL_assignment1/sweeps/4s10gpe0</a>"
      ],
      "text/plain": [
       "<IPython.core.display.HTML object>"
      ]
     },
     "metadata": {},
     "output_type": "display_data"
    },
    {
     "data": {
      "text/html": [
       " View project at <a href='https://wandb.ai/srividhya/CS6910_DL_assignment1' target=\"_blank\">https://wandb.ai/srividhya/CS6910_DL_assignment1</a>"
      ],
      "text/plain": [
       "<IPython.core.display.HTML object>"
      ]
     },
     "metadata": {},
     "output_type": "display_data"
    },
    {
     "data": {
      "text/html": [
       " View sweep at <a href='https://wandb.ai/srividhya/CS6910_DL_assignment1/sweeps/4s10gpe0' target=\"_blank\">https://wandb.ai/srividhya/CS6910_DL_assignment1/sweeps/4s10gpe0</a>"
      ],
      "text/plain": [
       "<IPython.core.display.HTML object>"
      ]
     },
     "metadata": {},
     "output_type": "display_data"
    },
    {
     "data": {
      "text/html": [
       " View run at <a href='https://wandb.ai/srividhya/CS6910_DL_assignment1/runs/3rt7ticd' target=\"_blank\">https://wandb.ai/srividhya/CS6910_DL_assignment1/runs/3rt7ticd</a>"
      ],
      "text/plain": [
       "<IPython.core.display.HTML object>"
      ]
     },
     "metadata": {},
     "output_type": "display_data"
    },
    {
     "data": {
      "text/html": [
       "<style>\n",
       "    table.wandb td:nth-child(1) { padding: 0 10px; text-align: left ; width: auto;} td:nth-child(2) {text-align: left ; width: 100%}\n",
       "    .wandb-row { display: flex; flex-direction: row; flex-wrap: wrap; justify-content: flex-start; width: 100% }\n",
       "    .wandb-col { display: flex; flex-direction: column; flex-basis: 100%; flex: 1; padding: 10px; }\n",
       "    </style>\n",
       "<div class=\"wandb-row\"><div class=\"wandb-col\"><h3>Run history:</h3><br/><table class=\"wandb\"><tr><td>Accuracy</td><td>▁▄▅▆▆▆▆▇▇▇▇▇▇▇▇▇▇█▇█▇██████</td></tr><tr><td>Accuracy_val</td><td>▁▄▅▅▆▆▆▆▇▇▇▇▇▇▇▇▇▇▇▇▇▇█▇███</td></tr><tr><td>Epoch</td><td>▁▁▁▁▁▃▃▃▃▃▅▅▅▅▅▅▆▆▆▆▆██████</td></tr><tr><td>Loss</td><td>█▄▂▁▁▁▁▁▂▂▂▂▃▃▃▃▄▄▅▄▅▅▅▆▆▆▆</td></tr><tr><td>Loss_val</td><td>█▆▄▄▃▃▃▃▃▂▂▂▂▂▂▂▂▁▂▁▂▁▁▁▁▁▁</td></tr><tr><td>n_datatrain</td><td>▁▁▂▂▂▂▃▃▃▃▄▄▄▅▅▅▅▆▆▆▆▇▇▇▇██</td></tr></table><br/></div><div class=\"wandb-col\"><h3>Run summary:</h3><br/><table class=\"wandb\"><tr><td>Accuracy</td><td>0.86661</td></tr><tr><td>Accuracy_val</td><td>0.86633</td></tr><tr><td>Epoch</td><td>4</td></tr><tr><td>Loss</td><td>9681.32037</td></tr><tr><td>Loss_val</td><td>59.78317</td></tr><tr><td>n_datatrain</td><td>270000</td></tr></table><br/></div></div>"
      ],
      "text/plain": [
       "<IPython.core.display.HTML object>"
      ]
     },
     "metadata": {},
     "output_type": "display_data"
    },
    {
     "data": {
      "text/html": [
       " View run <strong style=\"color:#cdcd00\">earthy-sweep-21</strong> at: <a href='https://wandb.ai/srividhya/CS6910_DL_assignment1/runs/3rt7ticd' target=\"_blank\">https://wandb.ai/srividhya/CS6910_DL_assignment1/runs/3rt7ticd</a><br/>Synced 4 W&B file(s), 0 media file(s), 0 artifact file(s) and 0 other file(s)"
      ],
      "text/plain": [
       "<IPython.core.display.HTML object>"
      ]
     },
     "metadata": {},
     "output_type": "display_data"
    },
    {
     "data": {
      "text/html": [
       "Find logs at: <code>.\\wandb\\run-20240310_195608-3rt7ticd\\logs</code>"
      ],
      "text/plain": [
       "<IPython.core.display.HTML object>"
      ]
     },
     "metadata": {},
     "output_type": "display_data"
    },
    {
     "name": "stderr",
     "output_type": "stream",
     "text": [
      "\u001b[34m\u001b[1mwandb\u001b[0m: Agent Starting Run: avvk7sun with config:\n",
      "\u001b[34m\u001b[1mwandb\u001b[0m: \tactivation: tanh\n",
      "\u001b[34m\u001b[1mwandb\u001b[0m: \tbatch_size: 64\n",
      "\u001b[34m\u001b[1mwandb\u001b[0m: \thl_size: 64\n",
      "\u001b[34m\u001b[1mwandb\u001b[0m: \tinitialization: xavier\n",
      "\u001b[34m\u001b[1mwandb\u001b[0m: \tloss_type: cross_entropy\n",
      "\u001b[34m\u001b[1mwandb\u001b[0m: \tlr: 1e-05\n",
      "\u001b[34m\u001b[1mwandb\u001b[0m: \tn_epoch: 5\n",
      "\u001b[34m\u001b[1mwandb\u001b[0m: \tn_hiddenlayer: 4\n",
      "\u001b[34m\u001b[1mwandb\u001b[0m: \toptimizer: adam\n",
      "\u001b[34m\u001b[1mwandb\u001b[0m: \treg: 0.5\n"
     ]
    },
    {
     "data": {
      "text/html": [
       "wandb version 0.16.4 is available!  To upgrade, please run:\n",
       " $ pip install wandb --upgrade"
      ],
      "text/plain": [
       "<IPython.core.display.HTML object>"
      ]
     },
     "metadata": {},
     "output_type": "display_data"
    },
    {
     "data": {
      "text/html": [
       "Tracking run with wandb version 0.16.3"
      ],
      "text/plain": [
       "<IPython.core.display.HTML object>"
      ]
     },
     "metadata": {},
     "output_type": "display_data"
    },
    {
     "data": {
      "text/html": [
       "Run data is saved locally in <code>C:\\Users\\Hp\\Downloads\\DL assignment\\wandb\\run-20240310_220958-avvk7sun</code>"
      ],
      "text/plain": [
       "<IPython.core.display.HTML object>"
      ]
     },
     "metadata": {},
     "output_type": "display_data"
    },
    {
     "data": {
      "text/html": [
       "Syncing run <strong><a href='https://wandb.ai/srividhya/CS6910_DL_assignment1/runs/avvk7sun' target=\"_blank\">efficient-sweep-22</a></strong> to <a href='https://wandb.ai/srividhya/CS6910_DL_assignment1' target=\"_blank\">Weights & Biases</a> (<a href='https://wandb.me/run' target=\"_blank\">docs</a>)<br/>Sweep page: <a href='https://wandb.ai/srividhya/CS6910_DL_assignment1/sweeps/4s10gpe0' target=\"_blank\">https://wandb.ai/srividhya/CS6910_DL_assignment1/sweeps/4s10gpe0</a>"
      ],
      "text/plain": [
       "<IPython.core.display.HTML object>"
      ]
     },
     "metadata": {},
     "output_type": "display_data"
    },
    {
     "data": {
      "text/html": [
       " View project at <a href='https://wandb.ai/srividhya/CS6910_DL_assignment1' target=\"_blank\">https://wandb.ai/srividhya/CS6910_DL_assignment1</a>"
      ],
      "text/plain": [
       "<IPython.core.display.HTML object>"
      ]
     },
     "metadata": {},
     "output_type": "display_data"
    },
    {
     "data": {
      "text/html": [
       " View sweep at <a href='https://wandb.ai/srividhya/CS6910_DL_assignment1/sweeps/4s10gpe0' target=\"_blank\">https://wandb.ai/srividhya/CS6910_DL_assignment1/sweeps/4s10gpe0</a>"
      ],
      "text/plain": [
       "<IPython.core.display.HTML object>"
      ]
     },
     "metadata": {},
     "output_type": "display_data"
    },
    {
     "data": {
      "text/html": [
       " View run at <a href='https://wandb.ai/srividhya/CS6910_DL_assignment1/runs/avvk7sun' target=\"_blank\">https://wandb.ai/srividhya/CS6910_DL_assignment1/runs/avvk7sun</a>"
      ],
      "text/plain": [
       "<IPython.core.display.HTML object>"
      ]
     },
     "metadata": {},
     "output_type": "display_data"
    },
    {
     "data": {
      "text/html": [
       "<style>\n",
       "    table.wandb td:nth-child(1) { padding: 0 10px; text-align: left ; width: auto;} td:nth-child(2) {text-align: left ; width: 100%}\n",
       "    .wandb-row { display: flex; flex-direction: row; flex-wrap: wrap; justify-content: flex-start; width: 100% }\n",
       "    .wandb-col { display: flex; flex-direction: column; flex-basis: 100%; flex: 1; padding: 10px; }\n",
       "    </style>\n",
       "<div class=\"wandb-row\"><div class=\"wandb-col\"><h3>Run history:</h3><br/><table class=\"wandb\"><tr><td>Accuracy</td><td>▁▄▅▆▇▇▇▇███████████████████</td></tr><tr><td>Accuracy_val</td><td>▁▄▅▆▇▇▇▇███████████████████</td></tr><tr><td>Epoch</td><td>▁▁▁▁▁▃▃▃▃▃▅▅▅▅▅▅▆▆▆▆▆██████</td></tr><tr><td>Loss</td><td>█▇▇▆▆▅▅▄▄▄▃▃▃▃▂▂▂▂▂▂▁▁▁▁▁▁▁</td></tr><tr><td>Loss_val</td><td>█▅▄▃▂▂▁▁▁▁▁▁▁▁▁▁▁▁▁▁▁▁▁▁▁▁▁</td></tr><tr><td>n_datatrain</td><td>▁▁▂▂▂▂▃▃▃▃▄▄▄▅▅▅▅▆▆▆▆▇▇▇▇██</td></tr></table><br/></div><div class=\"wandb-col\"><h3>Run summary:</h3><br/><table class=\"wandb\"><tr><td>Accuracy</td><td>0.70611</td></tr><tr><td>Accuracy_val</td><td>0.6985</td></tr><tr><td>Epoch</td><td>4</td></tr><tr><td>Loss</td><td>873126.03314</td></tr><tr><td>Loss_val</td><td>595.90688</td></tr><tr><td>n_datatrain</td><td>270000</td></tr></table><br/></div></div>"
      ],
      "text/plain": [
       "<IPython.core.display.HTML object>"
      ]
     },
     "metadata": {},
     "output_type": "display_data"
    },
    {
     "data": {
      "text/html": [
       " View run <strong style=\"color:#cdcd00\">efficient-sweep-22</strong> at: <a href='https://wandb.ai/srividhya/CS6910_DL_assignment1/runs/avvk7sun' target=\"_blank\">https://wandb.ai/srividhya/CS6910_DL_assignment1/runs/avvk7sun</a><br/>Synced 4 W&B file(s), 0 media file(s), 0 artifact file(s) and 0 other file(s)"
      ],
      "text/plain": [
       "<IPython.core.display.HTML object>"
      ]
     },
     "metadata": {},
     "output_type": "display_data"
    },
    {
     "data": {
      "text/html": [
       "Find logs at: <code>.\\wandb\\run-20240310_220958-avvk7sun\\logs</code>"
      ],
      "text/plain": [
       "<IPython.core.display.HTML object>"
      ]
     },
     "metadata": {},
     "output_type": "display_data"
    },
    {
     "name": "stderr",
     "output_type": "stream",
     "text": [
      "\u001b[34m\u001b[1mwandb\u001b[0m: Sweep Agent: Waiting for job.\n",
      "\u001b[34m\u001b[1mwandb\u001b[0m: Job received.\n",
      "\u001b[34m\u001b[1mwandb\u001b[0m: Agent Starting Run: jkadssux with config:\n",
      "\u001b[34m\u001b[1mwandb\u001b[0m: \tactivation: tanh\n",
      "\u001b[34m\u001b[1mwandb\u001b[0m: \tbatch_size: 32\n",
      "\u001b[34m\u001b[1mwandb\u001b[0m: \thl_size: 128\n",
      "\u001b[34m\u001b[1mwandb\u001b[0m: \tinitialization: xavier\n",
      "\u001b[34m\u001b[1mwandb\u001b[0m: \tloss_type: squared_error\n",
      "\u001b[34m\u001b[1mwandb\u001b[0m: \tlr: 1e-05\n",
      "\u001b[34m\u001b[1mwandb\u001b[0m: \tn_epoch: 5\n",
      "\u001b[34m\u001b[1mwandb\u001b[0m: \tn_hiddenlayer: 5\n",
      "\u001b[34m\u001b[1mwandb\u001b[0m: \toptimizer: nadam\n",
      "\u001b[34m\u001b[1mwandb\u001b[0m: \treg: 0.5\n"
     ]
    },
    {
     "data": {
      "text/html": [
       "wandb version 0.16.4 is available!  To upgrade, please run:\n",
       " $ pip install wandb --upgrade"
      ],
      "text/plain": [
       "<IPython.core.display.HTML object>"
      ]
     },
     "metadata": {},
     "output_type": "display_data"
    },
    {
     "data": {
      "text/html": [
       "Tracking run with wandb version 0.16.3"
      ],
      "text/plain": [
       "<IPython.core.display.HTML object>"
      ]
     },
     "metadata": {},
     "output_type": "display_data"
    },
    {
     "data": {
      "text/html": [
       "Run data is saved locally in <code>C:\\Users\\Hp\\Downloads\\DL assignment\\wandb\\run-20240310_224059-jkadssux</code>"
      ],
      "text/plain": [
       "<IPython.core.display.HTML object>"
      ]
     },
     "metadata": {},
     "output_type": "display_data"
    },
    {
     "data": {
      "text/html": [
       "Syncing run <strong><a href='https://wandb.ai/srividhya/CS6910_DL_assignment1/runs/jkadssux' target=\"_blank\">usual-sweep-23</a></strong> to <a href='https://wandb.ai/srividhya/CS6910_DL_assignment1' target=\"_blank\">Weights & Biases</a> (<a href='https://wandb.me/run' target=\"_blank\">docs</a>)<br/>Sweep page: <a href='https://wandb.ai/srividhya/CS6910_DL_assignment1/sweeps/4s10gpe0' target=\"_blank\">https://wandb.ai/srividhya/CS6910_DL_assignment1/sweeps/4s10gpe0</a>"
      ],
      "text/plain": [
       "<IPython.core.display.HTML object>"
      ]
     },
     "metadata": {},
     "output_type": "display_data"
    },
    {
     "data": {
      "text/html": [
       " View project at <a href='https://wandb.ai/srividhya/CS6910_DL_assignment1' target=\"_blank\">https://wandb.ai/srividhya/CS6910_DL_assignment1</a>"
      ],
      "text/plain": [
       "<IPython.core.display.HTML object>"
      ]
     },
     "metadata": {},
     "output_type": "display_data"
    },
    {
     "data": {
      "text/html": [
       " View sweep at <a href='https://wandb.ai/srividhya/CS6910_DL_assignment1/sweeps/4s10gpe0' target=\"_blank\">https://wandb.ai/srividhya/CS6910_DL_assignment1/sweeps/4s10gpe0</a>"
      ],
      "text/plain": [
       "<IPython.core.display.HTML object>"
      ]
     },
     "metadata": {},
     "output_type": "display_data"
    },
    {
     "data": {
      "text/html": [
       " View run at <a href='https://wandb.ai/srividhya/CS6910_DL_assignment1/runs/jkadssux' target=\"_blank\">https://wandb.ai/srividhya/CS6910_DL_assignment1/runs/jkadssux</a>"
      ],
      "text/plain": [
       "<IPython.core.display.HTML object>"
      ]
     },
     "metadata": {},
     "output_type": "display_data"
    },
    {
     "data": {
      "text/html": [
       "<style>\n",
       "    table.wandb td:nth-child(1) { padding: 0 10px; text-align: left ; width: auto;} td:nth-child(2) {text-align: left ; width: 100%}\n",
       "    .wandb-row { display: flex; flex-direction: row; flex-wrap: wrap; justify-content: flex-start; width: 100% }\n",
       "    .wandb-col { display: flex; flex-direction: column; flex-basis: 100%; flex: 1; padding: 10px; }\n",
       "    </style>\n",
       "<div class=\"wandb-row\"><div class=\"wandb-col\"><h3>Run history:</h3><br/><table class=\"wandb\"><tr><td>Accuracy</td><td>▇█▅▃▄▅▄▄▄▄▄▄▄▃▃▃▃▃▂▃▂▂▂▁▁▁▁</td></tr><tr><td>Accuracy_val</td><td>▇█▅▃▅▅▄▄▄▄▄▄▄▄▄▃▃▃▂▃▂▂▂▁▁▁▁</td></tr><tr><td>Epoch</td><td>▁▁▁▁▁▃▃▃▃▃▅▅▅▅▅▅▆▆▆▆▆██████</td></tr><tr><td>Loss</td><td>█▇▇▇█▇▇▆▆▅▅▄▄▄▃▃▃▃▂▂▂▂▂▁▁▁▁</td></tr><tr><td>Loss_val</td><td>▂▁▅▇▄▄▅▄▅▅▅▅▅▅▆▆▆▆▇▇▇▇▇████</td></tr><tr><td>n_datatrain</td><td>▁▁▂▂▂▂▃▃▃▃▄▄▄▅▅▅▅▆▆▆▆▇▇▇▇██</td></tr></table><br/></div><div class=\"wandb-col\"><h3>Run summary:</h3><br/><table class=\"wandb\"><tr><td>Accuracy</td><td>0.66794</td></tr><tr><td>Accuracy_val</td><td>0.66833</td></tr><tr><td>Epoch</td><td>4</td></tr><tr><td>Loss</td><td>2572660.89974</td></tr><tr><td>Loss_val</td><td>147.89071</td></tr><tr><td>n_datatrain</td><td>270000</td></tr></table><br/></div></div>"
      ],
      "text/plain": [
       "<IPython.core.display.HTML object>"
      ]
     },
     "metadata": {},
     "output_type": "display_data"
    },
    {
     "data": {
      "text/html": [
       " View run <strong style=\"color:#cdcd00\">usual-sweep-23</strong> at: <a href='https://wandb.ai/srividhya/CS6910_DL_assignment1/runs/jkadssux' target=\"_blank\">https://wandb.ai/srividhya/CS6910_DL_assignment1/runs/jkadssux</a><br/>Synced 4 W&B file(s), 0 media file(s), 0 artifact file(s) and 0 other file(s)"
      ],
      "text/plain": [
       "<IPython.core.display.HTML object>"
      ]
     },
     "metadata": {},
     "output_type": "display_data"
    },
    {
     "data": {
      "text/html": [
       "Find logs at: <code>.\\wandb\\run-20240310_224059-jkadssux\\logs</code>"
      ],
      "text/plain": [
       "<IPython.core.display.HTML object>"
      ]
     },
     "metadata": {},
     "output_type": "display_data"
    },
    {
     "name": "stderr",
     "output_type": "stream",
     "text": [
      "\u001b[34m\u001b[1mwandb\u001b[0m: Agent Starting Run: 69fge7tr with config:\n",
      "\u001b[34m\u001b[1mwandb\u001b[0m: \tactivation: tanh\n",
      "\u001b[34m\u001b[1mwandb\u001b[0m: \tbatch_size: 128\n",
      "\u001b[34m\u001b[1mwandb\u001b[0m: \thl_size: 64\n",
      "\u001b[34m\u001b[1mwandb\u001b[0m: \tinitialization: xavier\n",
      "\u001b[34m\u001b[1mwandb\u001b[0m: \tloss_type: cross_entropy\n",
      "\u001b[34m\u001b[1mwandb\u001b[0m: \tlr: 0.001\n",
      "\u001b[34m\u001b[1mwandb\u001b[0m: \tn_epoch: 5\n",
      "\u001b[34m\u001b[1mwandb\u001b[0m: \tn_hiddenlayer: 5\n",
      "\u001b[34m\u001b[1mwandb\u001b[0m: \toptimizer: momentum\n",
      "\u001b[34m\u001b[1mwandb\u001b[0m: \treg: 0\n"
     ]
    },
    {
     "data": {
      "text/html": [
       "wandb version 0.16.4 is available!  To upgrade, please run:\n",
       " $ pip install wandb --upgrade"
      ],
      "text/plain": [
       "<IPython.core.display.HTML object>"
      ]
     },
     "metadata": {},
     "output_type": "display_data"
    },
    {
     "data": {
      "text/html": [
       "Tracking run with wandb version 0.16.3"
      ],
      "text/plain": [
       "<IPython.core.display.HTML object>"
      ]
     },
     "metadata": {},
     "output_type": "display_data"
    },
    {
     "data": {
      "text/html": [
       "Run data is saved locally in <code>C:\\Users\\Hp\\Downloads\\DL assignment\\wandb\\run-20240311_063949-69fge7tr</code>"
      ],
      "text/plain": [
       "<IPython.core.display.HTML object>"
      ]
     },
     "metadata": {},
     "output_type": "display_data"
    },
    {
     "data": {
      "text/html": [
       "Syncing run <strong><a href='https://wandb.ai/srividhya/CS6910_DL_assignment1/runs/69fge7tr' target=\"_blank\">likely-sweep-24</a></strong> to <a href='https://wandb.ai/srividhya/CS6910_DL_assignment1' target=\"_blank\">Weights & Biases</a> (<a href='https://wandb.me/run' target=\"_blank\">docs</a>)<br/>Sweep page: <a href='https://wandb.ai/srividhya/CS6910_DL_assignment1/sweeps/4s10gpe0' target=\"_blank\">https://wandb.ai/srividhya/CS6910_DL_assignment1/sweeps/4s10gpe0</a>"
      ],
      "text/plain": [
       "<IPython.core.display.HTML object>"
      ]
     },
     "metadata": {},
     "output_type": "display_data"
    },
    {
     "data": {
      "text/html": [
       " View project at <a href='https://wandb.ai/srividhya/CS6910_DL_assignment1' target=\"_blank\">https://wandb.ai/srividhya/CS6910_DL_assignment1</a>"
      ],
      "text/plain": [
       "<IPython.core.display.HTML object>"
      ]
     },
     "metadata": {},
     "output_type": "display_data"
    },
    {
     "data": {
      "text/html": [
       " View sweep at <a href='https://wandb.ai/srividhya/CS6910_DL_assignment1/sweeps/4s10gpe0' target=\"_blank\">https://wandb.ai/srividhya/CS6910_DL_assignment1/sweeps/4s10gpe0</a>"
      ],
      "text/plain": [
       "<IPython.core.display.HTML object>"
      ]
     },
     "metadata": {},
     "output_type": "display_data"
    },
    {
     "data": {
      "text/html": [
       " View run at <a href='https://wandb.ai/srividhya/CS6910_DL_assignment1/runs/69fge7tr' target=\"_blank\">https://wandb.ai/srividhya/CS6910_DL_assignment1/runs/69fge7tr</a>"
      ],
      "text/plain": [
       "<IPython.core.display.HTML object>"
      ]
     },
     "metadata": {},
     "output_type": "display_data"
    },
    {
     "data": {
      "text/html": [
       "<style>\n",
       "    table.wandb td:nth-child(1) { padding: 0 10px; text-align: left ; width: auto;} td:nth-child(2) {text-align: left ; width: 100%}\n",
       "    .wandb-row { display: flex; flex-direction: row; flex-wrap: wrap; justify-content: flex-start; width: 100% }\n",
       "    .wandb-col { display: flex; flex-direction: column; flex-basis: 100%; flex: 1; padding: 10px; }\n",
       "    </style>\n",
       "<div class=\"wandb-row\"><div class=\"wandb-col\"><h3>Run history:</h3><br/><table class=\"wandb\"><tr><td>Accuracy</td><td>▁▁▁▁▁▁▁▁▁▁▁▁▁▁▁▁▁▁▁▁▁▁▁▁▁▁▁</td></tr><tr><td>Accuracy_val</td><td>▁▁▁▁▁▁▁▁▁▁▁▁▁▁▁▁▁▁▁▁▁▁▁▁▁▁▁</td></tr><tr><td>Epoch</td><td>▁▁▁▁▁▃▃▃▃▃▅▅▅▅▅▅▆▆▆▆▆██████</td></tr><tr><td>n_datatrain</td><td>▁▁▂▂▂▂▃▃▃▃▄▄▄▅▅▅▅▆▆▆▆▇▇▇▇██</td></tr></table><br/></div><div class=\"wandb-col\"><h3>Run summary:</h3><br/><table class=\"wandb\"><tr><td>Accuracy</td><td>0.10006</td></tr><tr><td>Accuracy_val</td><td>0.09767</td></tr><tr><td>Epoch</td><td>4</td></tr><tr><td>Loss</td><td>nan</td></tr><tr><td>Loss_val</td><td>nan</td></tr><tr><td>n_datatrain</td><td>270000</td></tr></table><br/></div></div>"
      ],
      "text/plain": [
       "<IPython.core.display.HTML object>"
      ]
     },
     "metadata": {},
     "output_type": "display_data"
    },
    {
     "data": {
      "text/html": [
       " View run <strong style=\"color:#cdcd00\">likely-sweep-24</strong> at: <a href='https://wandb.ai/srividhya/CS6910_DL_assignment1/runs/69fge7tr' target=\"_blank\">https://wandb.ai/srividhya/CS6910_DL_assignment1/runs/69fge7tr</a><br/>Synced 4 W&B file(s), 0 media file(s), 0 artifact file(s) and 0 other file(s)"
      ],
      "text/plain": [
       "<IPython.core.display.HTML object>"
      ]
     },
     "metadata": {},
     "output_type": "display_data"
    },
    {
     "data": {
      "text/html": [
       "Find logs at: <code>.\\wandb\\run-20240311_063949-69fge7tr\\logs</code>"
      ],
      "text/plain": [
       "<IPython.core.display.HTML object>"
      ]
     },
     "metadata": {},
     "output_type": "display_data"
    },
    {
     "name": "stderr",
     "output_type": "stream",
     "text": [
      "\u001b[34m\u001b[1mwandb\u001b[0m: Agent Starting Run: qkx1b8bj with config:\n",
      "\u001b[34m\u001b[1mwandb\u001b[0m: \tactivation: tanh\n",
      "\u001b[34m\u001b[1mwandb\u001b[0m: \tbatch_size: 128\n",
      "\u001b[34m\u001b[1mwandb\u001b[0m: \thl_size: 128\n",
      "\u001b[34m\u001b[1mwandb\u001b[0m: \tinitialization: xavier\n",
      "\u001b[34m\u001b[1mwandb\u001b[0m: \tloss_type: cross_entropy\n",
      "\u001b[34m\u001b[1mwandb\u001b[0m: \tlr: 1e-05\n",
      "\u001b[34m\u001b[1mwandb\u001b[0m: \tn_epoch: 5\n",
      "\u001b[34m\u001b[1mwandb\u001b[0m: \tn_hiddenlayer: 3\n",
      "\u001b[34m\u001b[1mwandb\u001b[0m: \toptimizer: momentum\n",
      "\u001b[34m\u001b[1mwandb\u001b[0m: \treg: 0.5\n"
     ]
    },
    {
     "data": {
      "text/html": [
       "wandb version 0.16.4 is available!  To upgrade, please run:\n",
       " $ pip install wandb --upgrade"
      ],
      "text/plain": [
       "<IPython.core.display.HTML object>"
      ]
     },
     "metadata": {},
     "output_type": "display_data"
    },
    {
     "data": {
      "text/html": [
       "Tracking run with wandb version 0.16.3"
      ],
      "text/plain": [
       "<IPython.core.display.HTML object>"
      ]
     },
     "metadata": {},
     "output_type": "display_data"
    },
    {
     "data": {
      "text/html": [
       "Run data is saved locally in <code>C:\\Users\\Hp\\Downloads\\DL assignment\\wandb\\run-20240311_070430-qkx1b8bj</code>"
      ],
      "text/plain": [
       "<IPython.core.display.HTML object>"
      ]
     },
     "metadata": {},
     "output_type": "display_data"
    },
    {
     "data": {
      "text/html": [
       "Syncing run <strong><a href='https://wandb.ai/srividhya/CS6910_DL_assignment1/runs/qkx1b8bj' target=\"_blank\">dazzling-sweep-25</a></strong> to <a href='https://wandb.ai/srividhya/CS6910_DL_assignment1' target=\"_blank\">Weights & Biases</a> (<a href='https://wandb.me/run' target=\"_blank\">docs</a>)<br/>Sweep page: <a href='https://wandb.ai/srividhya/CS6910_DL_assignment1/sweeps/4s10gpe0' target=\"_blank\">https://wandb.ai/srividhya/CS6910_DL_assignment1/sweeps/4s10gpe0</a>"
      ],
      "text/plain": [
       "<IPython.core.display.HTML object>"
      ]
     },
     "metadata": {},
     "output_type": "display_data"
    },
    {
     "data": {
      "text/html": [
       " View project at <a href='https://wandb.ai/srividhya/CS6910_DL_assignment1' target=\"_blank\">https://wandb.ai/srividhya/CS6910_DL_assignment1</a>"
      ],
      "text/plain": [
       "<IPython.core.display.HTML object>"
      ]
     },
     "metadata": {},
     "output_type": "display_data"
    },
    {
     "data": {
      "text/html": [
       " View sweep at <a href='https://wandb.ai/srividhya/CS6910_DL_assignment1/sweeps/4s10gpe0' target=\"_blank\">https://wandb.ai/srividhya/CS6910_DL_assignment1/sweeps/4s10gpe0</a>"
      ],
      "text/plain": [
       "<IPython.core.display.HTML object>"
      ]
     },
     "metadata": {},
     "output_type": "display_data"
    },
    {
     "data": {
      "text/html": [
       " View run at <a href='https://wandb.ai/srividhya/CS6910_DL_assignment1/runs/qkx1b8bj' target=\"_blank\">https://wandb.ai/srividhya/CS6910_DL_assignment1/runs/qkx1b8bj</a>"
      ],
      "text/plain": [
       "<IPython.core.display.HTML object>"
      ]
     },
     "metadata": {},
     "output_type": "display_data"
    },
    {
     "data": {
      "text/html": [
       "<style>\n",
       "    table.wandb td:nth-child(1) { padding: 0 10px; text-align: left ; width: auto;} td:nth-child(2) {text-align: left ; width: 100%}\n",
       "    .wandb-row { display: flex; flex-direction: row; flex-wrap: wrap; justify-content: flex-start; width: 100% }\n",
       "    .wandb-col { display: flex; flex-direction: column; flex-basis: 100%; flex: 1; padding: 10px; }\n",
       "    </style>\n",
       "<div class=\"wandb-row\"><div class=\"wandb-col\"><h3>Run history:</h3><br/><table class=\"wandb\"><tr><td>Accuracy</td><td>▁▁▁▁▁▁▁▁▁▁▁▁▁▁▁▁▁▁▁▁▁▁▁▁▁▁▁</td></tr><tr><td>Accuracy_val</td><td>▁▁▁▁▁▁▁▁▁▁▁▁▁▁▁▁▁▁▁▁▁▁▁▁▁▁▁</td></tr><tr><td>Epoch</td><td>▁▁▁▁▁▃▃▃▃▃▅▅▅▅▅▅▆▆▆▆▆██████</td></tr><tr><td>n_datatrain</td><td>▁▁▂▂▂▂▃▃▃▃▄▄▄▅▅▅▅▆▆▆▆▇▇▇▇██</td></tr></table><br/></div><div class=\"wandb-col\"><h3>Run summary:</h3><br/><table class=\"wandb\"><tr><td>Accuracy</td><td>0.10006</td></tr><tr><td>Accuracy_val</td><td>0.09767</td></tr><tr><td>Epoch</td><td>4</td></tr><tr><td>Loss</td><td>nan</td></tr><tr><td>Loss_val</td><td>nan</td></tr><tr><td>n_datatrain</td><td>270000</td></tr></table><br/></div></div>"
      ],
      "text/plain": [
       "<IPython.core.display.HTML object>"
      ]
     },
     "metadata": {},
     "output_type": "display_data"
    },
    {
     "data": {
      "text/html": [
       " View run <strong style=\"color:#cdcd00\">dazzling-sweep-25</strong> at: <a href='https://wandb.ai/srividhya/CS6910_DL_assignment1/runs/qkx1b8bj' target=\"_blank\">https://wandb.ai/srividhya/CS6910_DL_assignment1/runs/qkx1b8bj</a><br/>Synced 4 W&B file(s), 0 media file(s), 0 artifact file(s) and 0 other file(s)"
      ],
      "text/plain": [
       "<IPython.core.display.HTML object>"
      ]
     },
     "metadata": {},
     "output_type": "display_data"
    },
    {
     "data": {
      "text/html": [
       "Find logs at: <code>.\\wandb\\run-20240311_070430-qkx1b8bj\\logs</code>"
      ],
      "text/plain": [
       "<IPython.core.display.HTML object>"
      ]
     },
     "metadata": {},
     "output_type": "display_data"
    },
    {
     "name": "stderr",
     "output_type": "stream",
     "text": [
      "\u001b[34m\u001b[1mwandb\u001b[0m: Sweep Agent: Waiting for job.\n",
      "\u001b[34m\u001b[1mwandb\u001b[0m: Job received.\n",
      "\u001b[34m\u001b[1mwandb\u001b[0m: Agent Starting Run: 71yb2xgy with config:\n",
      "\u001b[34m\u001b[1mwandb\u001b[0m: \tactivation: relu\n",
      "\u001b[34m\u001b[1mwandb\u001b[0m: \tbatch_size: 32\n",
      "\u001b[34m\u001b[1mwandb\u001b[0m: \thl_size: 32\n",
      "\u001b[34m\u001b[1mwandb\u001b[0m: \tinitialization: random\n",
      "\u001b[34m\u001b[1mwandb\u001b[0m: \tloss_type: squared_error\n",
      "\u001b[34m\u001b[1mwandb\u001b[0m: \tlr: 0.001\n",
      "\u001b[34m\u001b[1mwandb\u001b[0m: \tn_epoch: 5\n",
      "\u001b[34m\u001b[1mwandb\u001b[0m: \tn_hiddenlayer: 3\n",
      "\u001b[34m\u001b[1mwandb\u001b[0m: \toptimizer: nadam\n",
      "\u001b[34m\u001b[1mwandb\u001b[0m: \treg: 0\n"
     ]
    }
   ],
   "source": [
    "sweeper(sweep_config,proj_name)"
   ]
  },
  {
   "cell_type": "markdown",
   "id": "72924933-51e9-43c6-9999-1ffe303d473b",
   "metadata": {},
   "source": [
    "#### Assignment Q7: Confusion matrix for the validation dataset ####"
   ]
  },
  {
   "cell_type": "code",
   "execution_count": 16,
   "id": "352d4cab-fd1f-4043-afdd-c5c089d36d37",
   "metadata": {},
   "outputs": [
    {
     "name": "stderr",
     "output_type": "stream",
     "text": [
      "\u001b[34m\u001b[1mwandb\u001b[0m: Currently logged in as: \u001b[33mcs23s024\u001b[0m (\u001b[33msrividhya\u001b[0m). Use \u001b[1m`wandb login --relogin`\u001b[0m to force relogin\n"
     ]
    },
    {
     "data": {
      "text/html": [
       "wandb version 0.16.4 is available!  To upgrade, please run:\n",
       " $ pip install wandb --upgrade"
      ],
      "text/plain": [
       "<IPython.core.display.HTML object>"
      ]
     },
     "metadata": {},
     "output_type": "display_data"
    },
    {
     "data": {
      "text/html": [
       "Tracking run with wandb version 0.16.3"
      ],
      "text/plain": [
       "<IPython.core.display.HTML object>"
      ]
     },
     "metadata": {},
     "output_type": "display_data"
    },
    {
     "data": {
      "text/html": [
       "Run data is saved locally in <code>C:\\Users\\Hp\\Downloads\\DL_assignment\\DL_PA1\\CS6910_Assignment1\\wandb\\run-20240316_111143-brqg56mq</code>"
      ],
      "text/plain": [
       "<IPython.core.display.HTML object>"
      ]
     },
     "metadata": {},
     "output_type": "display_data"
    },
    {
     "data": {
      "text/html": [
       "Syncing run <strong><a href='https://wandb.ai/srividhya/CS6910_DL_assignment1/runs/brqg56mq' target=\"_blank\">morning-spaceship-83</a></strong> to <a href='https://wandb.ai/srividhya/CS6910_DL_assignment1' target=\"_blank\">Weights & Biases</a> (<a href='https://wandb.me/run' target=\"_blank\">docs</a>)<br/>"
      ],
      "text/plain": [
       "<IPython.core.display.HTML object>"
      ]
     },
     "metadata": {},
     "output_type": "display_data"
    },
    {
     "data": {
      "text/html": [
       " View project at <a href='https://wandb.ai/srividhya/CS6910_DL_assignment1' target=\"_blank\">https://wandb.ai/srividhya/CS6910_DL_assignment1</a>"
      ],
      "text/plain": [
       "<IPython.core.display.HTML object>"
      ]
     },
     "metadata": {},
     "output_type": "display_data"
    },
    {
     "data": {
      "text/html": [
       " View run at <a href='https://wandb.ai/srividhya/CS6910_DL_assignment1/runs/brqg56mq' target=\"_blank\">https://wandb.ai/srividhya/CS6910_DL_assignment1/runs/brqg56mq</a>"
      ],
      "text/plain": [
       "<IPython.core.display.HTML object>"
      ]
     },
     "metadata": {},
     "output_type": "display_data"
    }
   ],
   "source": [
    "#confusion matrix and accuracy for test values\n",
    "hyperparameter_final=dict(\n",
    "    input_size = 784,                                       \n",
    "    output_size = 10,                                                    \n",
    "    n_epoch = 5,                                            \n",
    "    n_hiddenlayer = 3,                               \n",
    "    hl= [128,128,128],\n",
    "    reg = 0,      \n",
    "    lr = 1e-5,                                              \n",
    "    optimizer = \"nadam\",                      \n",
    "    batch_size = 128,       \n",
    "    initialization = \"xavier\",      \n",
    "    loss_type = \"cross_entropy\",\n",
    "    activation=\"relu\" \n",
    "    \n",
    ")\n",
    "\n",
    "wandb.init(config=hyperparameter_final,project=proj_name)\n",
    "config=wandb.config\n",
    "parameters_test=do_GD(X_train,Y_train,config.optimizer,config.activation,config.hl,config.input_size,config.output_size,config.n_epoch,config.lr,config.reg,config.initialization,config.loss_type,config.batch_size,logging=False)\n",
    "\n",
    "sizes = config.hl.copy() \n",
    "sizes.insert(0,config.input_size)\n",
    "sizes.append(config.output_size)\n",
    "\n",
    "Y_prob=np.empty(np.shape(y_test))\n",
    "#finding y predicted\n",
    "for i,x in enumerate(X_test):\n",
    "  Y_prob[i]= (feed_forward(x,parameters_test,sizes,config.activation)[0]).argmax()\n",
    "\n",
    "accuracy=calcAccLoss(parameters_test,X_test,Y_test,sizes,None,config.activation)[0]\n",
    "wandb.log({\"conf_mat\" : wandb.plot.confusion_matrix(preds=Y_prob, y_true=y_test,class_names=class_list),\"Test Accuracy\": accuracy })"
   ]
  },
  {
   "cell_type": "code",
   "execution_count": 17,
   "id": "58e49a83-9088-491f-a977-a8c9abdb7025",
   "metadata": {},
   "outputs": [
    {
     "data": {
      "text/html": [
       "<style>\n",
       "    table.wandb td:nth-child(1) { padding: 0 10px; text-align: left ; width: auto;} td:nth-child(2) {text-align: left ; width: 100%}\n",
       "    .wandb-row { display: flex; flex-direction: row; flex-wrap: wrap; justify-content: flex-start; width: 100% }\n",
       "    .wandb-col { display: flex; flex-direction: column; flex-basis: 100%; flex: 1; padding: 10px; }\n",
       "    </style>\n",
       "<div class=\"wandb-row\"><div class=\"wandb-col\"><h3>Run history:</h3><br/><table class=\"wandb\"><tr><td>Test Accuracy</td><td>▁</td></tr></table><br/></div><div class=\"wandb-col\"><h3>Run summary:</h3><br/><table class=\"wandb\"><tr><td>Test Accuracy</td><td>0.8556</td></tr></table><br/></div></div>"
      ],
      "text/plain": [
       "<IPython.core.display.HTML object>"
      ]
     },
     "metadata": {},
     "output_type": "display_data"
    },
    {
     "data": {
      "text/html": [
       " View run <strong style=\"color:#cdcd00\">morning-spaceship-83</strong> at: <a href='https://wandb.ai/srividhya/CS6910_DL_assignment1/runs/brqg56mq' target=\"_blank\">https://wandb.ai/srividhya/CS6910_DL_assignment1/runs/brqg56mq</a><br/> View job at <a href='https://wandb.ai/srividhya/CS6910_DL_assignment1/jobs/QXJ0aWZhY3RDb2xsZWN0aW9uOjE0OTIyNzcyMw==/version_details/v0' target=\"_blank\">https://wandb.ai/srividhya/CS6910_DL_assignment1/jobs/QXJ0aWZhY3RDb2xsZWN0aW9uOjE0OTIyNzcyMw==/version_details/v0</a><br/>Synced 4 W&B file(s), 1 media file(s), 1 artifact file(s) and 0 other file(s)"
      ],
      "text/plain": [
       "<IPython.core.display.HTML object>"
      ]
     },
     "metadata": {},
     "output_type": "display_data"
    },
    {
     "data": {
      "text/html": [
       "Find logs at: <code>.\\wandb\\run-20240316_111143-brqg56mq\\logs</code>"
      ],
      "text/plain": [
       "<IPython.core.display.HTML object>"
      ]
     },
     "metadata": {},
     "output_type": "display_data"
    }
   ],
   "source": [
    "wandb.finish()"
   ]
  },
  {
   "cell_type": "markdown",
   "id": "2fdb72ee-cd22-4f22-9906-71bbe015d1dd",
   "metadata": {},
   "source": [
    "#### Assignment Q8: Squared error loss instead of cross entropy loss ####"
   ]
  },
  {
   "cell_type": "code",
   "execution_count": 19,
   "id": "c5ce5a3e-8c53-498e-97ce-58323b9b851d",
   "metadata": {},
   "outputs": [],
   "source": [
    "sweep_config={\n",
    "    'method':'bayes',\n",
    "    'name':'sweep_1703_for_squarederror',\n",
    "    'metric':{\n",
    "        'name':'accuracy',\n",
    "        'goal':'maximize'},\n",
    "\n",
    "}\n",
    "\n",
    "parameters_dict={\n",
    "    'optimizer':{\n",
    "        'values':['nadam']\n",
    "    },\n",
    "    'lr':{\n",
    "        'values':[1e-5]\n",
    "    },\n",
    "    'reg':{\n",
    "        'values':[0]\n",
    "    },\n",
    "    'n_hiddenlayer':{\n",
    "        'values':[3]\n",
    "    },\n",
    "    'hl_size':{\n",
    "      'values':[64]  \n",
    "    },\n",
    "    'batch_size':{\n",
    "        'values':[128]\n",
    "    },\n",
    "    'loss_type':{\n",
    "        'values':['cross_entropy','squared_error']\n",
    "    },\n",
    "    'initialization':{\n",
    "        'values':['xavier']\n",
    "    },\n",
    "    'activation':{\n",
    "        'values':['relu']\n",
    "    },\n",
    "    'n_epoch':{\n",
    "        'values':[3]\n",
    "    }\n",
    "}\n",
    "\n",
    "sweep_config['parameters']=parameters_dict"
   ]
  },
  {
   "cell_type": "code",
   "execution_count": 20,
   "id": "4fa99066-56ec-47fa-b708-1a6565a38cb6",
   "metadata": {},
   "outputs": [],
   "source": [
    "proj_name='CS6910_DL_assignment1'"
   ]
  },
  {
   "cell_type": "code",
   "execution_count": 21,
   "id": "19866e24-28c9-4c2e-bd51-e3afd25a3967",
   "metadata": {},
   "outputs": [
    {
     "name": "stdout",
     "output_type": "stream",
     "text": [
      "Create sweep with ID: 5y9wwkqu\n",
      "Sweep URL: https://wandb.ai/srividhya/CS6910_DL_assignment1/sweeps/5y9wwkqu\n"
     ]
    }
   ],
   "source": [
    "sweep_id=wandb.sweep(sweep_config,project=proj_name)"
   ]
  },
  {
   "cell_type": "code",
   "execution_count": null,
   "id": "21a19715-f835-46c5-8e42-19abe6a1e5f0",
   "metadata": {},
   "outputs": [
    {
     "name": "stdout",
     "output_type": "stream",
     "text": [
      "Create sweep with ID: yff7254o\n",
      "Sweep URL: https://wandb.ai/srividhya/CS6910_DL_assignment1/sweeps/yff7254o\n"
     ]
    },
    {
     "name": "stderr",
     "output_type": "stream",
     "text": [
      "\u001b[34m\u001b[1mwandb\u001b[0m: Agent Starting Run: hu4zl51n with config:\n",
      "\u001b[34m\u001b[1mwandb\u001b[0m: \tactivation: relu\n",
      "\u001b[34m\u001b[1mwandb\u001b[0m: \tbatch_size: 128\n",
      "\u001b[34m\u001b[1mwandb\u001b[0m: \thl_size: 64\n",
      "\u001b[34m\u001b[1mwandb\u001b[0m: \tinitialization: xavier\n",
      "\u001b[34m\u001b[1mwandb\u001b[0m: \tloss_type: squared_error\n",
      "\u001b[34m\u001b[1mwandb\u001b[0m: \tlr: 1e-05\n",
      "\u001b[34m\u001b[1mwandb\u001b[0m: \tn_epoch: 3\n",
      "\u001b[34m\u001b[1mwandb\u001b[0m: \tn_hiddenlayer: 3\n",
      "\u001b[34m\u001b[1mwandb\u001b[0m: \toptimizer: nadam\n",
      "\u001b[34m\u001b[1mwandb\u001b[0m: \treg: 0\n",
      "\u001b[34m\u001b[1mwandb\u001b[0m: Currently logged in as: \u001b[33mcs23s024\u001b[0m (\u001b[33msrividhya\u001b[0m). Use \u001b[1m`wandb login --relogin`\u001b[0m to force relogin\n"
     ]
    },
    {
     "data": {
      "text/html": [
       "wandb version 0.16.4 is available!  To upgrade, please run:\n",
       " $ pip install wandb --upgrade"
      ],
      "text/plain": [
       "<IPython.core.display.HTML object>"
      ]
     },
     "metadata": {},
     "output_type": "display_data"
    },
    {
     "data": {
      "text/html": [
       "Tracking run with wandb version 0.16.3"
      ],
      "text/plain": [
       "<IPython.core.display.HTML object>"
      ]
     },
     "metadata": {},
     "output_type": "display_data"
    },
    {
     "data": {
      "text/html": [
       "Run data is saved locally in <code>C:\\Users\\Hp\\Downloads\\DL_assignment\\DL_PA1\\CS6910_Assignment1\\wandb\\run-20240317_193546-hu4zl51n</code>"
      ],
      "text/plain": [
       "<IPython.core.display.HTML object>"
      ]
     },
     "metadata": {},
     "output_type": "display_data"
    },
    {
     "data": {
      "text/html": [
       "Syncing run <strong><a href='https://wandb.ai/srividhya/CS6910_DL_assignment1/runs/hu4zl51n' target=\"_blank\">electric-sweep-1</a></strong> to <a href='https://wandb.ai/srividhya/CS6910_DL_assignment1' target=\"_blank\">Weights & Biases</a> (<a href='https://wandb.me/run' target=\"_blank\">docs</a>)<br/>Sweep page: <a href='https://wandb.ai/srividhya/CS6910_DL_assignment1/sweeps/yff7254o' target=\"_blank\">https://wandb.ai/srividhya/CS6910_DL_assignment1/sweeps/yff7254o</a>"
      ],
      "text/plain": [
       "<IPython.core.display.HTML object>"
      ]
     },
     "metadata": {},
     "output_type": "display_data"
    },
    {
     "data": {
      "text/html": [
       " View project at <a href='https://wandb.ai/srividhya/CS6910_DL_assignment1' target=\"_blank\">https://wandb.ai/srividhya/CS6910_DL_assignment1</a>"
      ],
      "text/plain": [
       "<IPython.core.display.HTML object>"
      ]
     },
     "metadata": {},
     "output_type": "display_data"
    },
    {
     "data": {
      "text/html": [
       " View sweep at <a href='https://wandb.ai/srividhya/CS6910_DL_assignment1/sweeps/yff7254o' target=\"_blank\">https://wandb.ai/srividhya/CS6910_DL_assignment1/sweeps/yff7254o</a>"
      ],
      "text/plain": [
       "<IPython.core.display.HTML object>"
      ]
     },
     "metadata": {},
     "output_type": "display_data"
    },
    {
     "data": {
      "text/html": [
       " View run at <a href='https://wandb.ai/srividhya/CS6910_DL_assignment1/runs/hu4zl51n' target=\"_blank\">https://wandb.ai/srividhya/CS6910_DL_assignment1/runs/hu4zl51n</a>"
      ],
      "text/plain": [
       "<IPython.core.display.HTML object>"
      ]
     },
     "metadata": {},
     "output_type": "display_data"
    }
   ],
   "source": [
    "sweeper(sweep_config,proj_name)"
   ]
  },
  {
   "cell_type": "code",
   "execution_count": null,
   "id": "c0bc8745-e404-48a9-8a21-c11060344915",
   "metadata": {},
   "outputs": [],
   "source": [
    "wandb.finish()"
   ]
  },
  {
   "cell_type": "code",
   "execution_count": null,
   "id": "1e0aee16-78b6-4d77-a5d4-019b1c963520",
   "metadata": {},
   "outputs": [],
   "source": []
  },
  {
   "cell_type": "code",
   "execution_count": null,
   "id": "f6aa1574-b744-4dd1-814e-34976ee0ba99",
   "metadata": {},
   "outputs": [],
   "source": []
  }
 ],
 "metadata": {
  "kernelspec": {
   "display_name": "Python 3 (ipykernel)",
   "language": "python",
   "name": "python3"
  },
  "language_info": {
   "codemirror_mode": {
    "name": "ipython",
    "version": 3
   },
   "file_extension": ".py",
   "mimetype": "text/x-python",
   "name": "python",
   "nbconvert_exporter": "python",
   "pygments_lexer": "ipython3",
   "version": "3.10.13"
  }
 },
 "nbformat": 4,
 "nbformat_minor": 5
}
